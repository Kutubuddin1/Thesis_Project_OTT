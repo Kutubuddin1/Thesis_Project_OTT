{
  "cells": [
    {
      "cell_type": "markdown",
      "metadata": {
        "id": "MN4Q1Gw0XU1f"
      },
      "source": [
        "# Importing Libraries"
      ]
    },
    {
      "cell_type": "code",
      "execution_count": 86,
      "metadata": {
        "colab": {
          "base_uri": "https://localhost:8080/"
        },
        "id": "C7VTSy3WXU16",
        "outputId": "d6ea9425-8ec7-4f06-dbcd-ffa54aa2e257"
      },
      "outputs": [
        {
          "output_type": "stream",
          "name": "stdout",
          "text": [
            "Looking in indexes: https://pypi.org/simple, https://us-python.pkg.dev/colab-wheels/public/simple/\n",
            "Requirement already satisfied: unidecode in /usr/local/lib/python3.8/dist-packages (1.3.6)\n",
            "Looking in indexes: https://pypi.org/simple, https://us-python.pkg.dev/colab-wheels/public/simple/\n",
            "Requirement already satisfied: openpyxl in /usr/local/lib/python3.8/dist-packages (3.0.10)\n",
            "Requirement already satisfied: et-xmlfile in /usr/local/lib/python3.8/dist-packages (from openpyxl) (1.1.0)\n"
          ]
        }
      ],
      "source": [
        "import numpy as np\n",
        "import pandas as pd \n",
        "import seaborn as sns\n",
        "import matplotlib.pyplot as plt\n",
        "\n",
        "import sklearn\n",
        "from sklearn.preprocessing import LabelEncoder\n",
        "\n",
        "!pip install unidecode\n",
        "!pip install openpyxl\n",
        "\n",
        "import pandas as pd\n",
        "from pandas import read_excel\n",
        "import numpy as np\n",
        "import re\n",
        "from re import sub\n",
        "import multiprocessing\n",
        "from unidecode import unidecode\n",
        "import os\n",
        "from time import time \n",
        "import tensorflow as tf\n",
        "from tensorflow.keras.models import Sequential\n",
        "from tensorflow.keras.layers import Dense, Dropout, Activation, Embedding, Flatten, Conv1D, BatchNormalization\n",
        "from tensorflow.keras.optimizers import SGD,Adam\n",
        "from tensorflow.keras import regularizers\n",
        "from tensorflow.keras.preprocessing.text import Tokenizer\n",
        "from tensorflow.keras.preprocessing.sequence import pad_sequences\n",
        "from tensorflow.keras.utils import to_categorical\n",
        "import tensorflow.keras.backend as K\n",
        "import h5py\n",
        "import csv\n",
        "import seaborn as sns\n",
        "import matplotlib.pyplot as plt\n",
        "from sklearn.model_selection import train_test_split\n",
        "from sklearn.model_selection import StratifiedKFold\n",
        "\n"
      ]
    },
    {
      "cell_type": "code",
      "execution_count": 87,
      "metadata": {
        "colab": {
          "base_uri": "https://localhost:8080/",
          "height": 441
        },
        "id": "kWf0tOMAXU2F",
        "outputId": "1214c411-6ac4-4a96-a976-c85f6d9a0ae6"
      },
      "outputs": [
        {
          "output_type": "stream",
          "name": "stdout",
          "text": [
            "Drive already mounted at /content/drive; to attempt to forcibly remount, call drive.mount(\"/content/drive\", force_remount=True).\n"
          ]
        },
        {
          "output_type": "execute_result",
          "data": {
            "text/plain": [
              "                                                   Text  Label\n",
              "0                     পুরাই অস্থির!!! \"সাকিল, চট্টগ্রাম      1\n",
              "1     নাজিফা তুষি আপু অবিনয় টা বেস্ট ছিল ওনার জন্য ক...      1\n",
              "2     পুরাই আগুন অনেক দিনের অপেক্ষায় আছি এই কাজ টা দ...      1\n",
              "3        ইন্টারেস্টিং স্টোরি,অভিনয়, সিনেমেটোগ্রাফিও জোস      1\n",
              "4     এট লিস্ট অনন্ত জলীল এর ১০০ কোটি টাকার মুভির ট্...      1\n",
              "...                                                 ...    ...\n",
              "6998                          প্রথমে মিষ্টি এরপর পরকিয়া      2\n",
              "6999                                     বৌদি কে লাগাবে      2\n",
              "7000                  এই সিরিজ টা পুরো কোথায় পাওয়া যাবে      0\n",
              "7001                              কাহিনীর গল্প খুব বাজে      2\n",
              "7002  এত inocent দেখাবার কোন দরকার আছে কি? বাস্তবে ক...      2\n",
              "\n",
              "[7003 rows x 2 columns]"
            ],
            "text/html": [
              "\n",
              "  <div id=\"df-148a4409-2d20-4ade-8e44-f21a17bdc6cc\">\n",
              "    <div class=\"colab-df-container\">\n",
              "      <div>\n",
              "<style scoped>\n",
              "    .dataframe tbody tr th:only-of-type {\n",
              "        vertical-align: middle;\n",
              "    }\n",
              "\n",
              "    .dataframe tbody tr th {\n",
              "        vertical-align: top;\n",
              "    }\n",
              "\n",
              "    .dataframe thead th {\n",
              "        text-align: right;\n",
              "    }\n",
              "</style>\n",
              "<table border=\"1\" class=\"dataframe\">\n",
              "  <thead>\n",
              "    <tr style=\"text-align: right;\">\n",
              "      <th></th>\n",
              "      <th>Text</th>\n",
              "      <th>Label</th>\n",
              "    </tr>\n",
              "  </thead>\n",
              "  <tbody>\n",
              "    <tr>\n",
              "      <th>0</th>\n",
              "      <td>পুরাই অস্থির!!! \"সাকিল, চট্টগ্রাম</td>\n",
              "      <td>1</td>\n",
              "    </tr>\n",
              "    <tr>\n",
              "      <th>1</th>\n",
              "      <td>নাজিফা তুষি আপু অবিনয় টা বেস্ট ছিল ওনার জন্য ক...</td>\n",
              "      <td>1</td>\n",
              "    </tr>\n",
              "    <tr>\n",
              "      <th>2</th>\n",
              "      <td>পুরাই আগুন অনেক দিনের অপেক্ষায় আছি এই কাজ টা দ...</td>\n",
              "      <td>1</td>\n",
              "    </tr>\n",
              "    <tr>\n",
              "      <th>3</th>\n",
              "      <td>ইন্টারেস্টিং স্টোরি,অভিনয়, সিনেমেটোগ্রাফিও জোস</td>\n",
              "      <td>1</td>\n",
              "    </tr>\n",
              "    <tr>\n",
              "      <th>4</th>\n",
              "      <td>এট লিস্ট অনন্ত জলীল এর ১০০ কোটি টাকার মুভির ট্...</td>\n",
              "      <td>1</td>\n",
              "    </tr>\n",
              "    <tr>\n",
              "      <th>...</th>\n",
              "      <td>...</td>\n",
              "      <td>...</td>\n",
              "    </tr>\n",
              "    <tr>\n",
              "      <th>6998</th>\n",
              "      <td>প্রথমে মিষ্টি এরপর পরকিয়া</td>\n",
              "      <td>2</td>\n",
              "    </tr>\n",
              "    <tr>\n",
              "      <th>6999</th>\n",
              "      <td>বৌদি কে লাগাবে</td>\n",
              "      <td>2</td>\n",
              "    </tr>\n",
              "    <tr>\n",
              "      <th>7000</th>\n",
              "      <td>এই সিরিজ টা পুরো কোথায় পাওয়া যাবে</td>\n",
              "      <td>0</td>\n",
              "    </tr>\n",
              "    <tr>\n",
              "      <th>7001</th>\n",
              "      <td>কাহিনীর গল্প খুব বাজে</td>\n",
              "      <td>2</td>\n",
              "    </tr>\n",
              "    <tr>\n",
              "      <th>7002</th>\n",
              "      <td>এত inocent দেখাবার কোন দরকার আছে কি? বাস্তবে ক...</td>\n",
              "      <td>2</td>\n",
              "    </tr>\n",
              "  </tbody>\n",
              "</table>\n",
              "<p>7003 rows × 2 columns</p>\n",
              "</div>\n",
              "      <button class=\"colab-df-convert\" onclick=\"convertToInteractive('df-148a4409-2d20-4ade-8e44-f21a17bdc6cc')\"\n",
              "              title=\"Convert this dataframe to an interactive table.\"\n",
              "              style=\"display:none;\">\n",
              "        \n",
              "  <svg xmlns=\"http://www.w3.org/2000/svg\" height=\"24px\"viewBox=\"0 0 24 24\"\n",
              "       width=\"24px\">\n",
              "    <path d=\"M0 0h24v24H0V0z\" fill=\"none\"/>\n",
              "    <path d=\"M18.56 5.44l.94 2.06.94-2.06 2.06-.94-2.06-.94-.94-2.06-.94 2.06-2.06.94zm-11 1L8.5 8.5l.94-2.06 2.06-.94-2.06-.94L8.5 2.5l-.94 2.06-2.06.94zm10 10l.94 2.06.94-2.06 2.06-.94-2.06-.94-.94-2.06-.94 2.06-2.06.94z\"/><path d=\"M17.41 7.96l-1.37-1.37c-.4-.4-.92-.59-1.43-.59-.52 0-1.04.2-1.43.59L10.3 9.45l-7.72 7.72c-.78.78-.78 2.05 0 2.83L4 21.41c.39.39.9.59 1.41.59.51 0 1.02-.2 1.41-.59l7.78-7.78 2.81-2.81c.8-.78.8-2.07 0-2.86zM5.41 20L4 18.59l7.72-7.72 1.47 1.35L5.41 20z\"/>\n",
              "  </svg>\n",
              "      </button>\n",
              "      \n",
              "  <style>\n",
              "    .colab-df-container {\n",
              "      display:flex;\n",
              "      flex-wrap:wrap;\n",
              "      gap: 12px;\n",
              "    }\n",
              "\n",
              "    .colab-df-convert {\n",
              "      background-color: #E8F0FE;\n",
              "      border: none;\n",
              "      border-radius: 50%;\n",
              "      cursor: pointer;\n",
              "      display: none;\n",
              "      fill: #1967D2;\n",
              "      height: 32px;\n",
              "      padding: 0 0 0 0;\n",
              "      width: 32px;\n",
              "    }\n",
              "\n",
              "    .colab-df-convert:hover {\n",
              "      background-color: #E2EBFA;\n",
              "      box-shadow: 0px 1px 2px rgba(60, 64, 67, 0.3), 0px 1px 3px 1px rgba(60, 64, 67, 0.15);\n",
              "      fill: #174EA6;\n",
              "    }\n",
              "\n",
              "    [theme=dark] .colab-df-convert {\n",
              "      background-color: #3B4455;\n",
              "      fill: #D2E3FC;\n",
              "    }\n",
              "\n",
              "    [theme=dark] .colab-df-convert:hover {\n",
              "      background-color: #434B5C;\n",
              "      box-shadow: 0px 1px 3px 1px rgba(0, 0, 0, 0.15);\n",
              "      filter: drop-shadow(0px 1px 2px rgba(0, 0, 0, 0.3));\n",
              "      fill: #FFFFFF;\n",
              "    }\n",
              "  </style>\n",
              "\n",
              "      <script>\n",
              "        const buttonEl =\n",
              "          document.querySelector('#df-148a4409-2d20-4ade-8e44-f21a17bdc6cc button.colab-df-convert');\n",
              "        buttonEl.style.display =\n",
              "          google.colab.kernel.accessAllowed ? 'block' : 'none';\n",
              "\n",
              "        async function convertToInteractive(key) {\n",
              "          const element = document.querySelector('#df-148a4409-2d20-4ade-8e44-f21a17bdc6cc');\n",
              "          const dataTable =\n",
              "            await google.colab.kernel.invokeFunction('convertToInteractive',\n",
              "                                                     [key], {});\n",
              "          if (!dataTable) return;\n",
              "\n",
              "          const docLinkHtml = 'Like what you see? Visit the ' +\n",
              "            '<a target=\"_blank\" href=https://colab.research.google.com/notebooks/data_table.ipynb>data table notebook</a>'\n",
              "            + ' to learn more about interactive tables.';\n",
              "          element.innerHTML = '';\n",
              "          dataTable['output_type'] = 'display_data';\n",
              "          await google.colab.output.renderOutput(dataTable, element);\n",
              "          const docLink = document.createElement('div');\n",
              "          docLink.innerHTML = docLinkHtml;\n",
              "          element.appendChild(docLink);\n",
              "        }\n",
              "      </script>\n",
              "    </div>\n",
              "  </div>\n",
              "  "
            ]
          },
          "metadata": {},
          "execution_count": 87
        }
      ],
      "source": [
        "from google.colab import drive\n",
        "drive.mount('/content/drive')\n",
        "\n",
        "data = pd.read_csv('/content/drive/MyDrive/ kutub/7004OTT Content Reviews.csv', encoding='UTF-8')\n",
        "data"
      ]
    },
    {
      "cell_type": "code",
      "execution_count": 88,
      "metadata": {
        "colab": {
          "base_uri": "https://localhost:8080/",
          "height": 351
        },
        "id": "tjm0yxTXXU2J",
        "outputId": "de495233-3616-4fad-c29b-393951d2c397"
      },
      "outputs": [
        {
          "output_type": "stream",
          "name": "stderr",
          "text": [
            "/usr/local/lib/python3.8/dist-packages/seaborn/_decorators.py:36: FutureWarning: Pass the following variable as a keyword arg: x. From version 0.12, the only valid positional argument will be `data`, and passing other arguments without an explicit keyword will result in an error or misinterpretation.\n",
            "  warnings.warn(\n"
          ]
        },
        {
          "output_type": "execute_result",
          "data": {
            "text/plain": [
              "<matplotlib.axes._subplots.AxesSubplot at 0x7f150f161490>"
            ]
          },
          "metadata": {},
          "execution_count": 88
        },
        {
          "output_type": "display_data",
          "data": {
            "text/plain": [
              "<Figure size 432x288 with 1 Axes>"
            ],
            "image/png": "[encoded data removed]"
          },
          "metadata": {
            "needs_background": "light"
          }
        }
      ],
      "source": [
        "sns.countplot(data['Label'])"
      ]
    },
    {
      "cell_type": "markdown",
      "metadata": {
        "id": "7Esg9Dh3XU2L"
      },
      "source": [
        "3 polarities in the Dataset"
      ]
    },
    {
      "cell_type": "markdown",
      "metadata": {
        "id": "Hetc-DC0XU2N"
      },
      "source": [
        "# Data Preprocessing"
      ]
    },
    {
      "cell_type": "markdown",
      "metadata": {
        "id": "FNXL7pD6XU2P"
      },
      "source": [
        "1. Text to Word\n",
        "2. Removing Punctuations and Special Characters"
      ]
    },
    {
      "cell_type": "code",
      "execution_count": 89,
      "metadata": {
        "id": "rkvqA9duXU2R"
      },
      "outputs": [],
      "source": [
        "def text_to_word_list(text):\n",
        "    text = text.split()\n",
        "    return text\n",
        "\n",
        "def replace_strings(text):\n",
        "    emoji_pattern = re.compile(\"[\"\n",
        "                           u\"\\U0001F600-\\U0001F64F\"  # emoticons\n",
        "                           u\"\\U0001F300-\\U0001F5FF\"  # symbols & pictographs\n",
        "                           u\"\\U0001F680-\\U0001F6FF\"  # transport & map symbols\n",
        "                           u\"\\U0001F1E0-\\U0001F1FF\"  # flags (iOS)\n",
        "                           u\"\\U00002702-\\U000027B0\"\n",
        "                           u\"\\U000024C2-\\U0001F251\"\n",
        "                           u\"\\u00C0-\\u017F\"          #latin\n",
        "                           u\"\\u2000-\\u206F\"          #generalPunctuations\n",
        "                               \n",
        "                           \"]+\", flags=re.UNICODE)\n",
        "    english_pattern=re.compile('[a-zA-Z0-9]+', flags=re.I)\n",
        "    #latin_pattern=re.compile('[A-Za-z\\u00C0-\\u00D6\\u00D8-\\u00f6\\u00f8-\\u00ff\\s]*',)\n",
        "    \n",
        "    text=emoji_pattern.sub(r'', text)\n",
        "    text=english_pattern.sub(r'', text)\n",
        "\n",
        "    return text\n",
        "\n",
        "def remove_punctuations(my_str):\n",
        "    # define punctuation\n",
        "    punctuations = '''```\u0012\u0010\u0002\b`\u0007\b£|¢|\u0007Ñ+-*/=EROero৳০১২৩৪৫৬৭৮৯012–34567•89।!()-[]{};:'\"“\\’,<>./?@#$%^&*_~‘—॥”‰⚽️✌�￰৷￰'''\n",
        "    \n",
        "    no_punct = \"\"\n",
        "    for char in my_str:\n",
        "        if char not in punctuations:\n",
        "            no_punct = no_punct + char\n",
        "\n",
        "    # display the unpunctuated string\n",
        "    return no_punct\n",
        "\n",
        "\n",
        "\n",
        "def joining(text):\n",
        "    out=' '.join(text)\n",
        "    return out\n",
        "\n",
        "def preprocessing(text):\n",
        "    out=remove_punctuations(replace_strings(text))\n",
        "    return out"
      ]
    },
    {
      "cell_type": "code",
      "execution_count": 90,
      "metadata": {
        "id": "-Ut0FVSQXU2X"
      },
      "outputs": [],
      "source": [
        "data['Text'] = data.Text.apply(lambda x: preprocessing(str(x)))"
      ]
    },
    {
      "cell_type": "code",
      "execution_count": 91,
      "metadata": {
        "id": "L4WSYjSvXU2c"
      },
      "outputs": [],
      "source": [
        "data.reset_index(drop=True, inplace=True)\n"
      ]
    },
    {
      "cell_type": "code",
      "execution_count": 92,
      "metadata": {
        "id": "fPKzpqbdXU2f"
      },
      "outputs": [],
      "source": [
        "#enc = LabelEncoder()\n",
        "#dataset_cricket['Polarity'] = enc.fit_transform(dataset_cricket['Polarity'])\n"
      ]
    },
    {
      "cell_type": "code",
      "execution_count": 93,
      "metadata": {
        "id": "I5e9l8Zgc_Y3"
      },
      "outputs": [],
      "source": [
        "#from imblearn.over_sampling import SMOTE\n",
        "#from collections import Counter\n",
        "#from matplotlib import pyplot"
      ]
    },
    {
      "cell_type": "code",
      "execution_count": 94,
      "metadata": {
        "id": "IWGWGj6tc_DG"
      },
      "outputs": [],
      "source": [
        "#oversample = SMOTE()\n",
        "#train_sentences_ott,train_labels_ott= oversample.fit_resample(train_sentences_ott,train_labels_ott)"
      ]
    },
    {
      "cell_type": "markdown",
      "metadata": {
        "id": "lUpEjK5JXU2k"
      },
      "source": [
        "Now we will prepare the dataset to train in the proposed CNN network.So, we have to convert all Sentences into a numpy Array.\n",
        "\n",
        "We have divided the training and testing data into 80/20 ratio.\n",
        "\n",
        "We have converted the sentiment values into one hot encodings for the convenient use in model training."
      ]
    },
    {
      "cell_type": "code",
      "execution_count": 95,
      "metadata": {
        "colab": {
          "base_uri": "https://localhost:8080/"
        },
        "id": "hST2eY5FXU2l",
        "outputId": "062e5895-c1c1-48b9-e846-516abab2413f"
      },
      "outputs": [
        {
          "output_type": "stream",
          "name": "stdout",
          "text": [
            "Training Set Length: 5602\n",
            "Testing Set Length: 1401\n",
            "training_sentences shape: (5602,)\n",
            "testing_sentences shape: (1401,)\n",
            "train_labels shape: (5602, 3)\n",
            "test_labels shape: (1401, 3)\n"
          ]
        }
      ],
      "source": [
        "train1, test1 = train_test_split(data,random_state=69, test_size=0.2)\n",
        "training_sentences_ott = []\n",
        "testing_sentences_ott = []\n",
        "\n",
        "\n",
        "\n",
        "train_sentences_ott=train1['Text'].values\n",
        "train_labels_ott=train1['Label'].values\n",
        "for i in range(train_sentences_ott.shape[0]): \n",
        "    #print(train_sentences[i])\n",
        "    x=str(train_sentences_ott[i])\n",
        "    training_sentences_ott.append(x)\n",
        "    \n",
        "training_sentences_ott=np.array(training_sentences_ott)\n",
        "\n",
        "\n",
        "\n",
        "\n",
        "\n",
        "test_sentences_ott=test1['Text'].values\n",
        "test_labels_ott=test1['Label'].values\n",
        "\n",
        "for i in range(test_sentences_ott.shape[0]): \n",
        "    x=str(test_sentences_ott[i])\n",
        "    testing_sentences_ott.append(x)\n",
        "    \n",
        "testing_sentences_ott=np.array(testing_sentences_ott)\n",
        "\n",
        "\n",
        "train_labels_ott=tf.keras.utils.to_categorical(train_labels_ott)\n",
        "\n",
        "\n",
        "test_labels_ott=tf.keras.utils.to_categorical(test_labels_ott)\n",
        "print(\"Training Set Length: \"+str(len(train1)))\n",
        "print(\"Testing Set Length: \"+str(len(test1)))\n",
        "print(\"training_sentences shape: \"+str(training_sentences_ott.shape))\n",
        "print(\"testing_sentences shape: \"+str(testing_sentences_ott.shape))\n",
        "print(\"train_labels shape: \"+str(train_labels_ott.shape))\n",
        "print(\"test_labels shape: \"+str(test_labels_ott.shape))"
      ]
    },
    {
      "cell_type": "code",
      "execution_count": 96,
      "metadata": {
        "colab": {
          "base_uri": "https://localhost:8080/"
        },
        "id": "Konih4DfXU2o",
        "outputId": "81552994-725c-40ad-b81d-053877b818ec"
      },
      "outputs": [
        {
          "output_type": "stream",
          "name": "stdout",
          "text": [
            "মিলিয়ন হবে এই মাসেই ফেসবুকে ঝড় তুলবে গানটি\n",
            "[0. 1. 0.]\n"
          ]
        }
      ],
      "source": [
        "print(training_sentences_ott[1])\n",
        "print(train_labels_ott[1])"
      ]
    },
    {
      "cell_type": "markdown",
      "metadata": {
        "id": "pk49pE4hXU2q"
      },
      "source": [
        "Now, we will predefine some variables.\n",
        "\n",
        "vocab_size is the maximum vocabulary length of Tokenizer.\n",
        "\n",
        "KERAS tokenzier allows to vectorize a text corpus, by turning each text into either a sequence of integers (each integer being the index of a token in a dictionary) or into a vector where the coefficient for each token could be binary, based on word count, based on tf-idf.\n",
        "\n",
        "We will be tokenizing my dataset with this class here. We have did this tokenization so that it can be later used to generate Embeddings.\n",
        "\n",
        "The main advantage of word embedding is that words that share a similar context can be represented close to each other in the vector space. Thus, vectors carry a sense of semantic of a word.\n",
        "\n",
        "We have predefined the embedding dimension as 300(embedding_dim).\n",
        "\n",
        "max_length is the sentence maximum length.\n",
        "\n",
        "trunc_type is the truncation type.\n",
        "\n",
        "oov_token is the token for the words that are not present in the corpus.oov means out of vocabulary."
      ]
    },
    {
      "cell_type": "code",
      "execution_count": 97,
      "metadata": {
        "id": "Hwv9SF_kXU2r"
      },
      "outputs": [],
      "source": [
        "vocab_size = len(training_sentences_ott)+1\n",
        "embedding_dim = 100\n",
        "max_length = 100\n",
        "trunc_type='post'\n",
        "oov_tok = \"<OOV>\""
      ]
    },
    {
      "cell_type": "code",
      "execution_count": 98,
      "metadata": {
        "colab": {
          "base_uri": "https://localhost:8080/"
        },
        "id": "rpzTs0tqXU2t",
        "outputId": "168d40ba-3a52-45e7-a6cf-b88d38fe1284"
      },
      "outputs": [
        {
          "output_type": "stream",
          "name": "stdout",
          "text": [
            "(5602,)\n",
            "(5602, 3)\n"
          ]
        }
      ],
      "source": [
        "print(training_sentences_ott.shape)\n",
        "print(train_labels_ott.shape)"
      ]
    },
    {
      "cell_type": "markdown",
      "metadata": {
        "id": "KGXqzt4cXU2v"
      },
      "source": [
        "At first, we will tokenize and then, we will be padding the sequences. We have used tokenizer only on training dataset to see how the model performs on unseen words."
      ]
    },
    {
      "cell_type": "code",
      "execution_count": 99,
      "metadata": {
        "colab": {
          "base_uri": "https://localhost:8080/"
        },
        "id": "aKyJGEAsXU2w",
        "outputId": "37e6a343-232b-492f-956b-12b340bc75ae"
      },
      "outputs": [
        {
          "output_type": "stream",
          "name": "stdout",
          "text": [
            "10928\n",
            "Word index length:10928\n"
          ]
        }
      ],
      "source": [
        "tokenizer = Tokenizer(num_words = vocab_size, oov_token=oov_tok)\n",
        "tokenizer.fit_on_texts(training_sentences_ott)\n",
        "word_index = tokenizer.word_index\n",
        "print(len(word_index))\n",
        "print(\"Word index length:\"+str(len(tokenizer.word_index)))\n",
        "sequences = tokenizer.texts_to_sequences(training_sentences_ott)\n",
        "padded = pad_sequences(sequences,maxlen=max_length, truncating=trunc_type)\n",
        "\n",
        "\n",
        "test_sequences = tokenizer.texts_to_sequences(testing_sentences_ott)\n",
        "testing_padded = pad_sequences(test_sequences,maxlen=max_length)"
      ]
    },
    {
      "cell_type": "code",
      "execution_count": 100,
      "metadata": {
        "colab": {
          "base_uri": "https://localhost:8080/"
        },
        "id": "hghC7VTmXU2y",
        "outputId": "3d811252-b50f-4e54-d2c7-43e7f2e83a96"
      },
      "outputs": [
        {
          "output_type": "stream",
          "name": "stdout",
          "text": [
            "Sentence :--> \n",
            "\n",
            "অধীর অপেক্ষায় ছিলাম এই গান টার জন্য  ধন্যবাদ  গান টা আরো একটু দীর্ঘ হলে আরো শান্তি পেতাম\n",
            "\n",
            "Sentence Tokenized and Converted into Sequence :--> \n",
            "\n",
            "[2094, 314, 521, 4, 14, 315, 15, 44, 14, 12, 78, 116, 2778, 123, 78, 1267, 2095]\n",
            "\n",
            "After Padding the Sequence with padding length 100 :--> \n",
            "\n",
            "[   0    0    0    0    0    0    0    0    0    0    0    0    0    0\n",
            "    0    0    0    0    0    0    0    0    0    0    0    0    0    0\n",
            "    0    0    0    0    0    0    0    0    0    0    0    0    0    0\n",
            "    0    0    0    0    0    0    0    0    0    0    0    0    0    0\n",
            "    0    0    0    0    0    0    0    0    0    0    0    0    0    0\n",
            "    0    0    0    0    0    0    0    0    0    0    0    0    0 2094\n",
            "  314  521    4   14  315   15   44   14   12   78  116 2778  123   78\n",
            " 1267 2095]\n"
          ]
        }
      ],
      "source": [
        "print(\"Sentence :--> \\n\")\n",
        "print(training_sentences_ott[2]+\"\\n\")\n",
        "print(\"Sentence Tokenized and Converted into Sequence :--> \\n\")\n",
        "print(str(sequences[2])+\"\\n\")\n",
        "print(\"After Padding the Sequence with padding length 100 :--> \\n\")\n",
        "print(padded[2])"
      ]
    },
    {
      "cell_type": "code",
      "execution_count": 101,
      "metadata": {
        "colab": {
          "base_uri": "https://localhost:8080/"
        },
        "id": "qCxvkmoPXU20",
        "outputId": "b8bf3127-7f5a-414f-b966-8f323419c1af"
      },
      "outputs": [
        {
          "output_type": "stream",
          "name": "stdout",
          "text": [
            "Padded shape(training): (5602, 100)\n",
            "Padded shape(testing): (1401, 100)\n"
          ]
        }
      ],
      "source": [
        "print(\"Padded shape(training): \"+str(padded.shape))\n",
        "print(\"Padded shape(testing): \"+str(testing_padded.shape))"
      ]
    },
    {
      "cell_type": "markdown",
      "metadata": {
        "id": "kRobZN2MXU22"
      },
      "source": [
        "# Model Creation"
      ]
    },
    {
      "cell_type": "markdown",
      "metadata": {
        "id": "c0MW0_q-XU23"
      },
      "source": [
        "At first, we have created embeddings from the text."
      ]
    },
    {
      "cell_type": "code",
      "execution_count": 102,
      "metadata": {
        "id": "-gpWtrrZXU3J"
      },
      "outputs": [],
      "source": [
        "def precision(y_true, y_pred):\n",
        "    true_positives = K.sum(K.round(K.clip(y_true * y_pred, 0, 1)))\n",
        "    predicted_positives = K.sum(K.round(K.clip(y_pred, 0, 1)))\n",
        "    precision = true_positives / (predicted_positives + K.epsilon())\n",
        "    return precision\n",
        "\n",
        "def recall(y_true, y_pred):\n",
        "    true_positives = K.sum(K.round(K.clip(y_true * y_pred, 0, 1)))\n",
        "    possible_positives = K.sum(K.round(K.clip(y_true, 0, 1)))\n",
        "    recall = true_positives / (possible_positives + K.epsilon())\n",
        "    return recall\n",
        "\n",
        "def f1_score(y_true, y_pred):\n",
        "    pr = precision(y_true, y_pred)\n",
        "    rec = recall(y_true, y_pred)\n",
        "    f1_score = 2 * (pr * rec) / (pr + rec)\n",
        "    return f1_score"
      ]
    },
    {
      "cell_type": "code",
      "execution_count": 103,
      "metadata": {
        "colab": {
          "base_uri": "https://localhost:8080/"
        },
        "id": "kQvfkVmhXU3L",
        "outputId": "c0561b96-75c2-4146-afd6-b62662cb2d1e"
      },
      "outputs": [
        {
          "output_type": "execute_result",
          "data": {
            "text/plain": [
              "array([[0., 0., 1.],\n",
              "       [0., 1., 0.],\n",
              "       [0., 1., 0.],\n",
              "       ...,\n",
              "       [0., 1., 0.],\n",
              "       [0., 1., 0.],\n",
              "       [0., 1., 0.]], dtype=float32)"
            ]
          },
          "metadata": {},
          "execution_count": 103
        }
      ],
      "source": [
        "# padded\n",
        "train_labels_ott"
      ]
    },
    {
      "cell_type": "code",
      "execution_count": 104,
      "metadata": {
        "id": "YwtUzzz0XU3P"
      },
      "outputs": [],
      "source": [
        "# raise NotImplementedError()"
      ]
    },
    {
      "cell_type": "code",
      "execution_count": 105,
      "metadata": {
        "colab": {
          "base_uri": "https://localhost:8080/"
        },
        "id": "yILffXu0XU3Q",
        "outputId": "fc84526e-17e1-4144-e3f8-8d1e9073c619"
      },
      "outputs": [
        {
          "output_type": "stream",
          "name": "stdout",
          "text": [
            "Model: \"sequential_8\"\n",
            "_________________________________________________________________\n",
            " Layer (type)                Output Shape              Param #   \n",
            "=================================================================\n",
            " embedding_6 (Embedding)     (None, 100, 100)          560300    \n",
            "                                                                 \n",
            " conv1d_6 (Conv1D)           (None, 98, 64)            19264     \n",
            "                                                                 \n",
            " batch_normalization_10 (Bat  (None, 98, 64)           256       \n",
            " chNormalization)                                                \n",
            "                                                                 \n",
            " activation_10 (Activation)  (None, 98, 64)            0         \n",
            "                                                                 \n",
            " dropout_4 (Dropout)         (None, 98, 64)            0         \n",
            "                                                                 \n",
            " conv1d_7 (Conv1D)           (None, 96, 96)            18528     \n",
            "                                                                 \n",
            " batch_normalization_11 (Bat  (None, 96, 96)           384       \n",
            " chNormalization)                                                \n",
            "                                                                 \n",
            " activation_11 (Activation)  (None, 96, 96)            0         \n",
            "                                                                 \n",
            " conv1d_8 (Conv1D)           (None, 94, 128)           36992     \n",
            "                                                                 \n",
            " batch_normalization_12 (Bat  (None, 94, 128)          512       \n",
            " chNormalization)                                                \n",
            "                                                                 \n",
            " activation_12 (Activation)  (None, 94, 128)           0         \n",
            "                                                                 \n",
            " dropout_5 (Dropout)         (None, 94, 128)           0         \n",
            "                                                                 \n",
            " flatten_4 (Flatten)         (None, 12032)             0         \n",
            "                                                                 \n",
            " dense_28 (Dense)            (None, 128)               1540224   \n",
            "                                                                 \n",
            " batch_normalization_13 (Bat  (None, 128)              512       \n",
            " chNormalization)                                                \n",
            "                                                                 \n",
            " activation_13 (Activation)  (None, 128)               0         \n",
            "                                                                 \n",
            " flatten_5 (Flatten)         (None, 128)               0         \n",
            "                                                                 \n",
            " dense_29 (Dense)            (None, 64)                8256      \n",
            "                                                                 \n",
            " batch_normalization_14 (Bat  (None, 64)               256       \n",
            " chNormalization)                                                \n",
            "                                                                 \n",
            " activation_14 (Activation)  (None, 64)                0         \n",
            "                                                                 \n",
            " dense_30 (Dense)            (None, 3)                 195       \n",
            "                                                                 \n",
            "=================================================================\n",
            "Total params: 2,185,679\n",
            "Trainable params: 2,184,719\n",
            "Non-trainable params: 960\n",
            "_________________________________________________________________\n"
          ]
        },
        {
          "output_type": "stream",
          "name": "stderr",
          "text": [
            "/usr/local/lib/python3.8/dist-packages/keras/optimizers/optimizer_v2/adam.py:110: UserWarning: The `lr` argument is deprecated, use `learning_rate` instead.\n",
            "  super(Adam, self).__init__(name, **kwargs)\n"
          ]
        }
      ],
      "source": [
        "# from tensorflow.keras.layers import GlobalMaxPooling1D\n",
        "\n",
        "detection=Sequential()\n",
        "\n",
        "detection.add(Embedding(vocab_size, embedding_dim, input_length=max_length))\n",
        "\n",
        "#1 -convolutional layer-1\n",
        "detection.add(Conv1D(64 ,kernel_size=3))\n",
        "detection.add(BatchNormalization())\n",
        "detection.add(Activation('relu'))\n",
        "# detection.add(GlobalMaxPooling1D())\n",
        "detection.add(Dropout(0.1))\n",
        "\n",
        "#2 -convolutional layer-2\n",
        "detection.add(Conv1D(96,kernel_size=3))\n",
        "detection.add(BatchNormalization())\n",
        "detection.add(Activation('relu'))\n",
        "# detection.add(GlobalMaxPooling1D())\n",
        "# detection.add(Dropout(0.2))\n",
        "\n",
        "#2 -convolutional layer-2\n",
        "detection.add(Conv1D(128,kernel_size=3))\n",
        "detection.add(BatchNormalization())\n",
        "detection.add(Activation('relu'))\n",
        "# detection.add(GlobalMaxPooling1D())\n",
        "detection.add(Dropout(0.15))\n",
        "\n",
        "\n",
        "# #2 -convolutional layer-2\n",
        "# detection.add(Conv1D(256,kernel_size=3))\n",
        "# detection.add(BatchNormalization())\n",
        "# detection.add(Activation('relu'))\n",
        "# # detection.add(MaxPooling2D(pool_size=(2,2)))\n",
        "# # detection.add(GlobalMaxPooling1D())\n",
        "# detection.add(Dropout(0.2))\n",
        "\n",
        "# #3 -convolutional layer-3\n",
        "# detection.add(Conv1D(384,kernel_size=3))\n",
        "# detection.add(BatchNormalization())\n",
        "# detection.add(Activation('relu'))\n",
        "# # detection.add(GlobalMaxPooling1D())\n",
        "# # detection.add(MaxPooling2D(pool_size=(2,2)))\n",
        "# # detection.add(UpSampling2D(input_shape=(512, 3, 3)))\n",
        "# detection.add(Dropout(0.2))\n",
        "\n",
        "# #3 -convolutional layer-3\n",
        "# detection.add(Conv1D(512,kernel_size=3))\n",
        "# detection.add(BatchNormalization())\n",
        "# detection.add(Activation('relu'))\n",
        "# # detection.add(GlobalMaxPooling1D())\n",
        "# # detection.add(MaxPooling2D(pool_size=(2,2)))\n",
        "# # detection.add(UpSampling2D(input_shape=(512, 3, 3)))\n",
        "# detection.add(Dropout(0.3))\n",
        "\n",
        "\n",
        "# detection.add(Flatten())\n",
        "# detection.add(Dense(512))\n",
        "# detection.add(BatchNormalization())\n",
        "# detection.add(Activation('relu'))\n",
        "\n",
        "# detection.add(Flatten())\n",
        "# detection.add(Dense(256))\n",
        "# detection.add(BatchNormalization())\n",
        "# detection.add(Activation('relu'))\n",
        "\n",
        "detection.add(Flatten())\n",
        "detection.add(Dense(128))\n",
        "detection.add(BatchNormalization())\n",
        "detection.add(Activation('relu'))\n",
        "\n",
        "detection.add(Flatten())\n",
        "detection.add(Dense(64))\n",
        "detection.add(BatchNormalization())\n",
        "detection.add(Activation('relu'))\n",
        "\n",
        "detection.add(Dense(3,activation='softmax'))\n",
        "optimum=Adam(lr=0.00001)\n",
        "detection.summary()\n",
        "detection.compile(optimizer=optimum,loss='binary_crossentropy',metrics=['accuracy', precision, recall])"
      ]
    },
    {
      "cell_type": "markdown",
      "metadata": {
        "id": "O1KooF-JXU3S"
      },
      "source": [
        "Dividing training data to training and validation."
      ]
    },
    {
      "cell_type": "code",
      "execution_count": 106,
      "metadata": {
        "id": "vxcdgT_nXU3T"
      },
      "outputs": [],
      "source": [
        "from sklearn.model_selection import train_test_split\n",
        "\n",
        "# Split the data\n",
        "x_train, x_valid, y_train, y_valid = train_test_split(padded, train_labels_ott, test_size=0.15, shuffle= True) #data, label"
      ]
    },
    {
      "cell_type": "code",
      "execution_count": 107,
      "metadata": {
        "colab": {
          "base_uri": "https://localhost:8080/"
        },
        "id": "HrOX3HAmXU3V",
        "outputId": "322b7f98-adf9-499f-bd07-721a92f03358"
      },
      "outputs": [
        {
          "output_type": "stream",
          "name": "stdout",
          "text": [
            "Epoch 1/100\n",
            "1191/1191 [==============================] - 53s 43ms/step - loss: 0.7939 - accuracy: 0.4272 - precision: 0.4591 - recall: 0.2909 - val_loss: 0.7849 - val_accuracy: 0.4530 - val_precision: 0.4767 - val_recall: 0.2855\n",
            "Epoch 2/100\n",
            "1191/1191 [==============================] - 52s 44ms/step - loss: 0.7302 - accuracy: 0.4585 - precision: 0.4866 - recall: 0.3226 - val_loss: 0.7194 - val_accuracy: 0.4804 - val_precision: 0.5043 - val_recall: 0.3270\n",
            "Epoch 3/100\n",
            "1191/1191 [==============================] - 52s 44ms/step - loss: 0.6872 - accuracy: 0.4741 - precision: 0.5095 - recall: 0.3474 - val_loss: 0.6894 - val_accuracy: 0.4994 - val_precision: 0.5126 - val_recall: 0.3744\n",
            "Epoch 4/100\n",
            "1191/1191 [==============================] - 51s 43ms/step - loss: 0.6498 - accuracy: 0.5005 - precision: 0.5403 - recall: 0.3776 - val_loss: 0.6549 - val_accuracy: 0.5244 - val_precision: 0.5269 - val_recall: 0.4017\n",
            "Epoch 5/100\n",
            "1191/1191 [==============================] - 51s 43ms/step - loss: 0.6318 - accuracy: 0.4970 - precision: 0.5348 - recall: 0.3820 - val_loss: 0.6353 - val_accuracy: 0.5232 - val_precision: 0.5403 - val_recall: 0.4111\n",
            "Epoch 6/100\n",
            "1191/1191 [==============================] - 53s 44ms/step - loss: 0.6195 - accuracy: 0.5102 - precision: 0.5397 - recall: 0.3976 - val_loss: 0.6218 - val_accuracy: 0.5137 - val_precision: 0.5415 - val_recall: 0.4017\n",
            "Epoch 7/100\n",
            "1191/1191 [==============================] - 52s 43ms/step - loss: 0.6039 - accuracy: 0.5272 - precision: 0.5553 - recall: 0.4221 - val_loss: 0.6109 - val_accuracy: 0.5327 - val_precision: 0.5513 - val_recall: 0.4171\n",
            "Epoch 8/100\n",
            "1191/1191 [==============================] - 51s 43ms/step - loss: 0.5909 - accuracy: 0.5425 - precision: 0.5718 - recall: 0.4454 - val_loss: 0.5989 - val_accuracy: 0.5232 - val_precision: 0.5446 - val_recall: 0.4431\n",
            "Epoch 9/100\n",
            "1191/1191 [==============================] - 52s 44ms/step - loss: 0.5833 - accuracy: 0.5488 - precision: 0.5758 - recall: 0.4574 - val_loss: 0.5895 - val_accuracy: 0.5208 - val_precision: 0.5652 - val_recall: 0.4384\n",
            "Epoch 10/100\n",
            "1191/1191 [==============================] - 51s 43ms/step - loss: 0.5786 - accuracy: 0.5478 - precision: 0.5833 - recall: 0.4624 - val_loss: 0.5864 - val_accuracy: 0.5291 - val_precision: 0.5529 - val_recall: 0.4573\n",
            "Epoch 11/100\n",
            "1191/1191 [==============================] - 51s 43ms/step - loss: 0.5705 - accuracy: 0.5478 - precision: 0.5846 - recall: 0.4664 - val_loss: 0.5835 - val_accuracy: 0.5434 - val_precision: 0.5612 - val_recall: 0.4573\n",
            "Epoch 12/100\n",
            "1191/1191 [==============================] - 51s 43ms/step - loss: 0.5672 - accuracy: 0.5560 - precision: 0.5903 - recall: 0.4769 - val_loss: 0.5786 - val_accuracy: 0.5446 - val_precision: 0.5798 - val_recall: 0.4562\n",
            "Epoch 13/100\n",
            "1191/1191 [==============================] - 53s 44ms/step - loss: 0.5603 - accuracy: 0.5629 - precision: 0.6010 - recall: 0.4872 - val_loss: 0.5790 - val_accuracy: 0.5470 - val_precision: 0.5715 - val_recall: 0.4810\n",
            "Epoch 14/100\n",
            "1191/1191 [==============================] - 50s 42ms/step - loss: 0.5570 - accuracy: 0.5669 - precision: 0.6019 - recall: 0.4859 - val_loss: 0.5720 - val_accuracy: 0.5470 - val_precision: 0.5821 - val_recall: 0.4573\n",
            "Epoch 15/100\n",
            "1191/1191 [==============================] - 53s 44ms/step - loss: 0.5521 - accuracy: 0.5749 - precision: 0.6173 - recall: 0.4973 - val_loss: 0.5659 - val_accuracy: 0.5446 - val_precision: 0.5916 - val_recall: 0.4751\n",
            "Epoch 16/100\n",
            "1191/1191 [==============================] - 53s 45ms/step - loss: 0.5468 - accuracy: 0.5789 - precision: 0.6163 - recall: 0.5023 - val_loss: 0.5622 - val_accuracy: 0.5553 - val_precision: 0.5976 - val_recall: 0.4834\n",
            "Epoch 17/100\n",
            "1191/1191 [==============================] - 54s 45ms/step - loss: 0.5411 - accuracy: 0.5854 - precision: 0.6226 - recall: 0.5109 - val_loss: 0.5586 - val_accuracy: 0.5648 - val_precision: 0.6027 - val_recall: 0.4834\n",
            "Epoch 18/100\n",
            "1191/1191 [==============================] - 53s 44ms/step - loss: 0.5330 - accuracy: 0.5982 - precision: 0.6355 - recall: 0.5239 - val_loss: 0.5555 - val_accuracy: 0.5696 - val_precision: 0.6141 - val_recall: 0.4834\n",
            "Epoch 19/100\n",
            "1191/1191 [==============================] - 52s 44ms/step - loss: 0.5229 - accuracy: 0.6116 - precision: 0.6593 - recall: 0.5399 - val_loss: 0.5502 - val_accuracy: 0.5672 - val_precision: 0.6232 - val_recall: 0.5047\n",
            "Epoch 20/100\n",
            "1191/1191 [==============================] - 52s 44ms/step - loss: 0.5231 - accuracy: 0.6009 - precision: 0.6499 - recall: 0.5346 - val_loss: 0.5469 - val_accuracy: 0.5767 - val_precision: 0.5968 - val_recall: 0.5024\n",
            "Epoch 21/100\n",
            "1191/1191 [==============================] - 51s 43ms/step - loss: 0.5133 - accuracy: 0.6127 - precision: 0.6580 - recall: 0.5497 - val_loss: 0.5384 - val_accuracy: 0.5779 - val_precision: 0.6236 - val_recall: 0.4964\n",
            "Epoch 22/100\n",
            "1191/1191 [==============================] - 51s 43ms/step - loss: 0.5094 - accuracy: 0.6171 - precision: 0.6590 - recall: 0.5523 - val_loss: 0.5343 - val_accuracy: 0.5862 - val_precision: 0.6319 - val_recall: 0.4917\n",
            "Epoch 23/100\n",
            "1191/1191 [==============================] - 51s 43ms/step - loss: 0.4949 - accuracy: 0.6371 - precision: 0.6828 - recall: 0.5760 - val_loss: 0.5276 - val_accuracy: 0.5874 - val_precision: 0.6307 - val_recall: 0.5273\n",
            "Epoch 24/100\n",
            "1191/1191 [==============================] - 52s 44ms/step - loss: 0.4867 - accuracy: 0.6471 - precision: 0.6868 - recall: 0.5800 - val_loss: 0.5164 - val_accuracy: 0.5886 - val_precision: 0.6473 - val_recall: 0.5296\n",
            "Epoch 25/100\n",
            "1191/1191 [==============================] - 52s 44ms/step - loss: 0.4858 - accuracy: 0.6398 - precision: 0.6869 - recall: 0.5882 - val_loss: 0.5155 - val_accuracy: 0.6338 - val_precision: 0.6627 - val_recall: 0.5379\n",
            "Epoch 26/100\n",
            "1191/1191 [==============================] - 52s 43ms/step - loss: 0.4727 - accuracy: 0.6539 - precision: 0.6982 - recall: 0.6001 - val_loss: 0.5073 - val_accuracy: 0.6219 - val_precision: 0.6659 - val_recall: 0.5391\n",
            "Epoch 27/100\n",
            "1191/1191 [==============================] - 54s 45ms/step - loss: 0.4681 - accuracy: 0.6625 - precision: 0.7030 - recall: 0.6094 - val_loss: 0.5055 - val_accuracy: 0.6350 - val_precision: 0.6651 - val_recall: 0.5474\n",
            "Epoch 28/100\n",
            "1191/1191 [==============================] - 52s 44ms/step - loss: 0.4581 - accuracy: 0.6698 - precision: 0.7163 - recall: 0.6243 - val_loss: 0.5004 - val_accuracy: 0.6528 - val_precision: 0.6947 - val_recall: 0.5735\n",
            "Epoch 29/100\n",
            "1191/1191 [==============================] - 52s 44ms/step - loss: 0.4526 - accuracy: 0.6860 - precision: 0.7273 - recall: 0.6375 - val_loss: 0.4934 - val_accuracy: 0.6516 - val_precision: 0.6994 - val_recall: 0.5758\n",
            "Epoch 30/100\n",
            "1191/1191 [==============================] - 53s 45ms/step - loss: 0.4492 - accuracy: 0.6841 - precision: 0.7278 - recall: 0.6379 - val_loss: 0.4884 - val_accuracy: 0.6611 - val_precision: 0.6927 - val_recall: 0.5877\n",
            "Epoch 31/100\n",
            "1191/1191 [==============================] - 54s 45ms/step - loss: 0.4431 - accuracy: 0.6938 - precision: 0.7245 - recall: 0.6436 - val_loss: 0.4904 - val_accuracy: 0.6516 - val_precision: 0.6983 - val_recall: 0.5960\n",
            "Epoch 32/100\n",
            "1191/1191 [==============================] - 53s 44ms/step - loss: 0.4310 - accuracy: 0.6980 - precision: 0.7353 - recall: 0.6549 - val_loss: 0.4859 - val_accuracy: 0.6599 - val_precision: 0.6939 - val_recall: 0.5853\n",
            "Epoch 33/100\n",
            "1191/1191 [==============================] - 52s 44ms/step - loss: 0.4281 - accuracy: 0.7036 - precision: 0.7374 - recall: 0.6604 - val_loss: 0.4800 - val_accuracy: 0.6635 - val_precision: 0.6987 - val_recall: 0.5948\n",
            "Epoch 34/100\n",
            "1191/1191 [==============================] - 54s 46ms/step - loss: 0.4181 - accuracy: 0.7181 - precision: 0.7502 - recall: 0.6774 - val_loss: 0.4755 - val_accuracy: 0.6849 - val_precision: 0.7168 - val_recall: 0.6303\n",
            "Epoch 35/100\n",
            "1191/1191 [==============================] - 52s 44ms/step - loss: 0.4122 - accuracy: 0.7175 - precision: 0.7508 - recall: 0.6776 - val_loss: 0.4714 - val_accuracy: 0.6825 - val_precision: 0.7295 - val_recall: 0.6398\n",
            "Epoch 36/100\n",
            "1191/1191 [==============================] - 52s 44ms/step - loss: 0.3999 - accuracy: 0.7301 - precision: 0.7627 - recall: 0.6914 - val_loss: 0.4665 - val_accuracy: 0.6694 - val_precision: 0.7247 - val_recall: 0.6280\n",
            "Epoch 37/100\n",
            "1191/1191 [==============================] - 54s 45ms/step - loss: 0.4017 - accuracy: 0.7307 - precision: 0.7604 - recall: 0.6889 - val_loss: 0.4666 - val_accuracy: 0.6790 - val_precision: 0.7184 - val_recall: 0.6386\n",
            "Epoch 38/100\n",
            "1191/1191 [==============================] - 56s 47ms/step - loss: 0.3964 - accuracy: 0.7282 - precision: 0.7594 - recall: 0.6902 - val_loss: 0.4617 - val_accuracy: 0.6944 - val_precision: 0.7133 - val_recall: 0.6493\n",
            "Epoch 39/100\n",
            "1191/1191 [==============================] - 56s 47ms/step - loss: 0.3886 - accuracy: 0.7467 - precision: 0.7697 - recall: 0.7097 - val_loss: 0.4664 - val_accuracy: 0.6790 - val_precision: 0.7105 - val_recall: 0.6386\n",
            "Epoch 40/100\n",
            "1191/1191 [==============================] - 54s 45ms/step - loss: 0.3761 - accuracy: 0.7551 - precision: 0.7811 - recall: 0.7250 - val_loss: 0.4598 - val_accuracy: 0.6778 - val_precision: 0.7180 - val_recall: 0.6469\n",
            "Epoch 41/100\n",
            "1191/1191 [==============================] - 55s 46ms/step - loss: 0.3727 - accuracy: 0.7566 - precision: 0.7848 - recall: 0.7303 - val_loss: 0.4572 - val_accuracy: 0.6932 - val_precision: 0.7200 - val_recall: 0.6517\n",
            "Epoch 42/100\n",
            "1191/1191 [==============================] - 52s 44ms/step - loss: 0.3613 - accuracy: 0.7656 - precision: 0.7935 - recall: 0.7328 - val_loss: 0.4523 - val_accuracy: 0.7027 - val_precision: 0.7220 - val_recall: 0.6576\n",
            "Epoch 43/100\n",
            "1191/1191 [==============================] - 53s 44ms/step - loss: 0.3585 - accuracy: 0.7652 - precision: 0.7940 - recall: 0.7418 - val_loss: 0.4543 - val_accuracy: 0.7015 - val_precision: 0.7192 - val_recall: 0.6564\n",
            "Epoch 44/100\n",
            "1191/1191 [==============================] - 54s 46ms/step - loss: 0.3604 - accuracy: 0.7683 - precision: 0.7890 - recall: 0.7406 - val_loss: 0.4528 - val_accuracy: 0.6944 - val_precision: 0.7224 - val_recall: 0.6647\n",
            "Epoch 45/100\n",
            "1191/1191 [==============================] - 53s 44ms/step - loss: 0.3573 - accuracy: 0.7687 - precision: 0.7916 - recall: 0.7450 - val_loss: 0.4518 - val_accuracy: 0.6944 - val_precision: 0.7180 - val_recall: 0.6588\n",
            "Epoch 46/100\n",
            "1191/1191 [==============================] - 52s 44ms/step - loss: 0.3548 - accuracy: 0.7725 - precision: 0.7968 - recall: 0.7477 - val_loss: 0.4486 - val_accuracy: 0.6992 - val_precision: 0.7235 - val_recall: 0.6682\n",
            "Epoch 47/100\n",
            "1191/1191 [==============================] - 54s 46ms/step - loss: 0.3378 - accuracy: 0.7860 - precision: 0.8082 - recall: 0.7628 - val_loss: 0.4516 - val_accuracy: 0.6920 - val_precision: 0.7188 - val_recall: 0.6576\n",
            "Epoch 48/100\n",
            "1191/1191 [==============================] - 54s 46ms/step - loss: 0.3347 - accuracy: 0.7950 - precision: 0.8159 - recall: 0.7691 - val_loss: 0.4462 - val_accuracy: 0.7063 - val_precision: 0.7247 - val_recall: 0.6588\n",
            "Epoch 49/100\n",
            "1191/1191 [==============================] - 55s 46ms/step - loss: 0.3291 - accuracy: 0.8013 - precision: 0.8161 - recall: 0.7752 - val_loss: 0.4486 - val_accuracy: 0.7015 - val_precision: 0.7259 - val_recall: 0.6777\n",
            "Epoch 50/100\n",
            "1191/1191 [==============================] - 52s 44ms/step - loss: 0.3257 - accuracy: 0.7992 - precision: 0.8189 - recall: 0.7792 - val_loss: 0.4486 - val_accuracy: 0.7004 - val_precision: 0.7275 - val_recall: 0.6754\n",
            "Epoch 51/100\n",
            "1191/1191 [==============================] - 55s 46ms/step - loss: 0.3184 - accuracy: 0.8087 - precision: 0.8242 - recall: 0.7911 - val_loss: 0.4532 - val_accuracy: 0.7039 - val_precision: 0.7283 - val_recall: 0.6789\n",
            "Epoch 52/100\n",
            "1191/1191 [==============================] - 53s 45ms/step - loss: 0.3175 - accuracy: 0.8026 - precision: 0.8188 - recall: 0.7846 - val_loss: 0.4477 - val_accuracy: 0.7087 - val_precision: 0.7370 - val_recall: 0.6848\n",
            "Epoch 53/100\n",
            "1191/1191 [==============================] - 53s 44ms/step - loss: 0.3051 - accuracy: 0.8194 - precision: 0.8342 - recall: 0.8004 - val_loss: 0.4484 - val_accuracy: 0.7134 - val_precision: 0.7326 - val_recall: 0.6848\n",
            "Epoch 54/100\n",
            "1191/1191 [==============================] - 56s 47ms/step - loss: 0.3040 - accuracy: 0.8120 - precision: 0.8317 - recall: 0.7955 - val_loss: 0.4456 - val_accuracy: 0.7158 - val_precision: 0.7417 - val_recall: 0.6919\n",
            "Epoch 55/100\n",
            "1191/1191 [==============================] - 52s 44ms/step - loss: 0.2987 - accuracy: 0.8234 - precision: 0.8405 - recall: 0.8060 - val_loss: 0.4521 - val_accuracy: 0.7194 - val_precision: 0.7306 - val_recall: 0.6931\n",
            "Epoch 56/100\n",
            "1191/1191 [==============================] - 52s 44ms/step - loss: 0.2919 - accuracy: 0.8269 - precision: 0.8406 - recall: 0.8088 - val_loss: 0.4543 - val_accuracy: 0.7206 - val_precision: 0.7441 - val_recall: 0.7026\n",
            "Epoch 57/100\n",
            "1191/1191 [==============================] - 53s 45ms/step - loss: 0.2878 - accuracy: 0.8252 - precision: 0.8428 - recall: 0.8075 - val_loss: 0.4541 - val_accuracy: 0.7218 - val_precision: 0.7413 - val_recall: 0.7002\n",
            "Epoch 58/100\n",
            "1191/1191 [==============================] - 53s 44ms/step - loss: 0.2983 - accuracy: 0.8208 - precision: 0.8340 - recall: 0.8052 - val_loss: 0.4550 - val_accuracy: 0.7170 - val_precision: 0.7342 - val_recall: 0.6979\n",
            "Epoch 59/100\n",
            "1191/1191 [==============================] - 53s 45ms/step - loss: 0.2879 - accuracy: 0.8244 - precision: 0.8412 - recall: 0.8107 - val_loss: 0.4505 - val_accuracy: 0.7218 - val_precision: 0.7429 - val_recall: 0.7026\n",
            "Epoch 60/100\n",
            "1191/1191 [==============================] - 52s 44ms/step - loss: 0.2697 - accuracy: 0.8490 - precision: 0.8650 - recall: 0.8331 - val_loss: 0.4481 - val_accuracy: 0.7194 - val_precision: 0.7393 - val_recall: 0.6967\n",
            "Epoch 61/100\n",
            "1191/1191 [==============================] - 55s 46ms/step - loss: 0.2713 - accuracy: 0.8423 - precision: 0.8552 - recall: 0.8333 - val_loss: 0.4577 - val_accuracy: 0.7122 - val_precision: 0.7295 - val_recall: 0.6884\n",
            "Epoch 62/100\n",
            "1191/1191 [==============================] - 52s 44ms/step - loss: 0.2806 - accuracy: 0.8404 - precision: 0.8496 - recall: 0.8264 - val_loss: 0.4592 - val_accuracy: 0.7134 - val_precision: 0.7247 - val_recall: 0.6955\n",
            "Epoch 63/100\n",
            "1191/1191 [==============================] - 52s 44ms/step - loss: 0.2697 - accuracy: 0.8473 - precision: 0.8593 - recall: 0.8344 - val_loss: 0.4574 - val_accuracy: 0.7170 - val_precision: 0.7338 - val_recall: 0.6943\n",
            "Epoch 64/100\n",
            "1191/1191 [==============================] - 54s 45ms/step - loss: 0.2708 - accuracy: 0.8410 - precision: 0.8524 - recall: 0.8279 - val_loss: 0.4635 - val_accuracy: 0.7063 - val_precision: 0.7259 - val_recall: 0.6884\n",
            "Epoch 65/100\n",
            "1191/1191 [==============================] - 53s 45ms/step - loss: 0.2592 - accuracy: 0.8570 - precision: 0.8699 - recall: 0.8438 - val_loss: 0.4518 - val_accuracy: 0.7134 - val_precision: 0.7303 - val_recall: 0.6955\n",
            "Epoch 66/100\n",
            "1191/1191 [==============================] - 52s 44ms/step - loss: 0.2582 - accuracy: 0.8559 - precision: 0.8640 - recall: 0.8466 - val_loss: 0.4536 - val_accuracy: 0.7146 - val_precision: 0.7314 - val_recall: 0.6967\n",
            "Epoch 67/100\n",
            "1191/1191 [==============================] - 52s 44ms/step - loss: 0.2440 - accuracy: 0.8723 - precision: 0.8797 - recall: 0.8573 - val_loss: 0.4552 - val_accuracy: 0.7158 - val_precision: 0.7370 - val_recall: 0.6943\n",
            "Epoch 68/100\n",
            "1191/1191 [==============================] - 54s 45ms/step - loss: 0.2630 - accuracy: 0.8523 - precision: 0.8622 - recall: 0.8409 - val_loss: 0.4517 - val_accuracy: 0.7075 - val_precision: 0.7271 - val_recall: 0.6931\n",
            "Epoch 69/100\n",
            "1191/1191 [==============================] - 52s 44ms/step - loss: 0.2488 - accuracy: 0.8622 - precision: 0.8752 - recall: 0.8487 - val_loss: 0.4596 - val_accuracy: 0.7134 - val_precision: 0.7303 - val_recall: 0.6979\n",
            "Epoch 70/100\n",
            "1191/1191 [==============================] - 53s 44ms/step - loss: 0.2514 - accuracy: 0.8582 - precision: 0.8714 - recall: 0.8482 - val_loss: 0.4625 - val_accuracy: 0.7111 - val_precision: 0.7314 - val_recall: 0.7002\n",
            "Epoch 71/100\n",
            "1191/1191 [==============================] - 54s 45ms/step - loss: 0.2545 - accuracy: 0.8643 - precision: 0.8717 - recall: 0.8537 - val_loss: 0.4744 - val_accuracy: 0.7134 - val_precision: 0.7216 - val_recall: 0.6943\n",
            "Epoch 72/100\n",
            "1191/1191 [==============================] - 51s 43ms/step - loss: 0.2424 - accuracy: 0.8628 - precision: 0.8741 - recall: 0.8535 - val_loss: 0.4583 - val_accuracy: 0.7182 - val_precision: 0.7303 - val_recall: 0.7002\n",
            "Epoch 73/100\n",
            "1191/1191 [==============================] - 51s 43ms/step - loss: 0.2409 - accuracy: 0.8738 - precision: 0.8788 - recall: 0.8619 - val_loss: 0.4583 - val_accuracy: 0.7182 - val_precision: 0.7366 - val_recall: 0.7062\n",
            "Epoch 74/100\n",
            "1191/1191 [==============================] - 53s 44ms/step - loss: 0.2316 - accuracy: 0.8763 - precision: 0.8863 - recall: 0.8684 - val_loss: 0.4657 - val_accuracy: 0.7301 - val_precision: 0.7409 - val_recall: 0.7192\n",
            "Epoch 75/100\n",
            "1191/1191 [==============================] - 54s 45ms/step - loss: 0.2312 - accuracy: 0.8838 - precision: 0.8894 - recall: 0.8722 - val_loss: 0.4583 - val_accuracy: 0.7289 - val_precision: 0.7405 - val_recall: 0.7156\n",
            "Epoch 76/100\n",
            "1191/1191 [==============================] - 53s 45ms/step - loss: 0.2270 - accuracy: 0.8784 - precision: 0.8871 - recall: 0.8696 - val_loss: 0.4705 - val_accuracy: 0.7241 - val_precision: 0.7350 - val_recall: 0.7121\n",
            "Epoch 77/100\n",
            "1191/1191 [==============================] - 52s 44ms/step - loss: 0.2248 - accuracy: 0.8859 - precision: 0.8955 - recall: 0.8785 - val_loss: 0.4567 - val_accuracy: 0.7337 - val_precision: 0.7449 - val_recall: 0.7216\n",
            "Epoch 78/100\n",
            "1191/1191 [==============================] - 55s 46ms/step - loss: 0.2298 - accuracy: 0.8815 - precision: 0.8913 - recall: 0.8743 - val_loss: 0.4701 - val_accuracy: 0.7253 - val_precision: 0.7354 - val_recall: 0.7109\n",
            "Epoch 79/100\n",
            "1191/1191 [==============================] - 53s 44ms/step - loss: 0.2278 - accuracy: 0.8790 - precision: 0.8879 - recall: 0.8726 - val_loss: 0.4597 - val_accuracy: 0.7253 - val_precision: 0.7461 - val_recall: 0.7121\n",
            "Epoch 80/100\n",
            "1191/1191 [==============================] - 53s 45ms/step - loss: 0.2121 - accuracy: 0.8918 - precision: 0.9001 - recall: 0.8837 - val_loss: 0.4572 - val_accuracy: 0.7182 - val_precision: 0.7303 - val_recall: 0.7050\n",
            "Epoch 81/100\n",
            "1191/1191 [==============================] - 54s 45ms/step - loss: 0.2129 - accuracy: 0.8878 - precision: 0.8974 - recall: 0.8814 - val_loss: 0.4630 - val_accuracy: 0.7301 - val_precision: 0.7441 - val_recall: 0.7156\n",
            "Epoch 82/100\n",
            "1191/1191 [==============================] - 52s 44ms/step - loss: 0.2242 - accuracy: 0.8847 - precision: 0.8905 - recall: 0.8785 - val_loss: 0.4618 - val_accuracy: 0.7265 - val_precision: 0.7429 - val_recall: 0.7145\n",
            "Epoch 83/100\n",
            "1191/1191 [==============================] - 53s 44ms/step - loss: 0.2143 - accuracy: 0.8895 - precision: 0.8960 - recall: 0.8835 - val_loss: 0.4696 - val_accuracy: 0.7265 - val_precision: 0.7393 - val_recall: 0.7156\n",
            "Epoch 84/100\n",
            "1191/1191 [==============================] - 56s 47ms/step - loss: 0.2058 - accuracy: 0.8954 - precision: 0.9031 - recall: 0.8885 - val_loss: 0.4697 - val_accuracy: 0.7111 - val_precision: 0.7279 - val_recall: 0.7038\n",
            "Epoch 85/100\n",
            "1191/1191 [==============================] - 52s 44ms/step - loss: 0.2191 - accuracy: 0.8878 - precision: 0.8953 - recall: 0.8833 - val_loss: 0.4673 - val_accuracy: 0.7194 - val_precision: 0.7378 - val_recall: 0.7133\n",
            "Epoch 86/100\n",
            "1191/1191 [==============================] - 52s 44ms/step - loss: 0.2095 - accuracy: 0.8927 - precision: 0.8976 - recall: 0.8866 - val_loss: 0.4767 - val_accuracy: 0.7194 - val_precision: 0.7314 - val_recall: 0.7085\n",
            "Epoch 87/100\n",
            "1191/1191 [==============================] - 53s 45ms/step - loss: 0.2054 - accuracy: 0.9002 - precision: 0.9062 - recall: 0.8942 - val_loss: 0.4732 - val_accuracy: 0.7206 - val_precision: 0.7330 - val_recall: 0.7109\n",
            "Epoch 88/100\n",
            "1191/1191 [==============================] - 55s 46ms/step - loss: 0.2078 - accuracy: 0.8943 - precision: 0.9000 - recall: 0.8875 - val_loss: 0.4622 - val_accuracy: 0.7241 - val_precision: 0.7425 - val_recall: 0.7204\n",
            "Epoch 89/100\n",
            "1191/1191 [==============================] - 52s 44ms/step - loss: 0.2008 - accuracy: 0.8986 - precision: 0.9041 - recall: 0.8932 - val_loss: 0.4823 - val_accuracy: 0.7194 - val_precision: 0.7354 - val_recall: 0.7145\n",
            "Epoch 90/100\n",
            "1191/1191 [==============================] - 53s 44ms/step - loss: 0.2017 - accuracy: 0.8954 - precision: 0.9038 - recall: 0.8902 - val_loss: 0.4760 - val_accuracy: 0.7206 - val_precision: 0.7382 - val_recall: 0.7145\n",
            "Epoch 91/100\n",
            "1191/1191 [==============================] - 54s 46ms/step - loss: 0.1919 - accuracy: 0.8994 - precision: 0.9062 - recall: 0.8927 - val_loss: 0.4903 - val_accuracy: 0.7099 - val_precision: 0.7208 - val_recall: 0.6991\n",
            "Epoch 92/100\n",
            "1191/1191 [==============================] - 54s 45ms/step - loss: 0.1988 - accuracy: 0.8992 - precision: 0.9029 - recall: 0.8934 - val_loss: 0.4805 - val_accuracy: 0.7051 - val_precision: 0.7208 - val_recall: 0.7002\n",
            "Epoch 93/100\n",
            "1191/1191 [==============================] - 53s 44ms/step - loss: 0.1927 - accuracy: 0.9051 - precision: 0.9114 - recall: 0.9003 - val_loss: 0.4702 - val_accuracy: 0.7194 - val_precision: 0.7330 - val_recall: 0.7109\n",
            "Epoch 94/100\n",
            "1191/1191 [==============================] - 56s 47ms/step - loss: 0.1985 - accuracy: 0.9034 - precision: 0.9081 - recall: 0.8978 - val_loss: 0.4859 - val_accuracy: 0.7229 - val_precision: 0.7299 - val_recall: 0.7085\n",
            "Epoch 95/100\n",
            "1191/1191 [==============================] - 53s 45ms/step - loss: 0.1833 - accuracy: 0.9112 - precision: 0.9151 - recall: 0.9041 - val_loss: 0.4841 - val_accuracy: 0.7206 - val_precision: 0.7358 - val_recall: 0.7062\n",
            "Epoch 96/100\n",
            "1191/1191 [==============================] - 53s 45ms/step - loss: 0.1857 - accuracy: 0.9059 - precision: 0.9098 - recall: 0.9009 - val_loss: 0.4833 - val_accuracy: 0.7265 - val_precision: 0.7346 - val_recall: 0.7133\n",
            "Epoch 97/100\n",
            "1191/1191 [==============================] - 54s 46ms/step - loss: 0.1910 - accuracy: 0.9044 - precision: 0.9105 - recall: 0.9001 - val_loss: 0.4805 - val_accuracy: 0.7229 - val_precision: 0.7358 - val_recall: 0.7180\n",
            "Epoch 98/100\n",
            "1191/1191 [==============================] - 54s 46ms/step - loss: 0.1942 - accuracy: 0.9000 - precision: 0.9045 - recall: 0.8940 - val_loss: 0.4699 - val_accuracy: 0.7277 - val_precision: 0.7405 - val_recall: 0.7180\n",
            "Epoch 99/100\n",
            "1191/1191 [==============================] - 53s 45ms/step - loss: 0.1867 - accuracy: 0.9063 - precision: 0.9110 - recall: 0.9011 - val_loss: 0.4805 - val_accuracy: 0.7277 - val_precision: 0.7413 - val_recall: 0.7227\n",
            "Epoch 100/100\n",
            "1191/1191 [==============================] - 54s 45ms/step - loss: 0.1783 - accuracy: 0.9063 - precision: 0.9122 - recall: 0.9032 - val_loss: 0.4768 - val_accuracy: 0.7265 - val_precision: 0.7397 - val_recall: 0.7192\n"
          ]
        }
      ],
      "source": [
        "model_ott = detection.fit(x_train, y_train,shuffle=True,epochs=100,batch_size=4,validation_data=(x_valid,y_valid))#,use_multiprocessing=True, workers=8)\n",
        "# model_ott=detection.fit(padded,train_labels_ott,shuffle=True,epochs=30,batch_size=16,validation_data=(testing_padded,test_labels_ott),use_multiprocessing=True, workers=8) #input, output"
      ]
    },
    {
      "cell_type": "code",
      "execution_count": 108,
      "metadata": {
        "colab": {
          "base_uri": "https://localhost:8080/"
        },
        "id": "W_CB0Tk9XU3X",
        "outputId": "2b717834-0461-49db-fe48-4eade6fa0a99"
      },
      "outputs": [
        {
          "output_type": "stream",
          "name": "stdout",
          "text": [
            "44/44 [==============================] - 1s 18ms/step - loss: 0.4411 - accuracy: 0.7309 - precision: 0.7405 - recall: 0.7211\n"
          ]
        }
      ],
      "source": [
        "scores=detection.evaluate(x=testing_padded,y=test_labels_ott,verbose=1)\n",
        "# loss: - accuracy: - recall:  - precision:"
      ]
    },
    {
      "cell_type": "code",
      "source": [
        "print(\"Accuracy: %.2f%%\" % (scores[1]*100))"
      ],
      "metadata": {
        "id": "Ft6rUfQItrvA",
        "outputId": "f0368f7e-3245-4c51-8668-8d4defc06c94",
        "colab": {
          "base_uri": "https://localhost:8080/"
        }
      },
      "execution_count": 109,
      "outputs": [
        {
          "output_type": "stream",
          "name": "stdout",
          "text": [
            "Accuracy: 73.09%\n"
          ]
        }
      ]
    },
    {
      "cell_type": "code",
      "execution_count": 110,
      "metadata": {
        "colab": {
          "base_uri": "https://localhost:8080/",
          "height": 298
        },
        "id": "KQ5UulhnXU3Y",
        "outputId": "592b3c82-4f7d-420b-fb7a-59ec6152b1a8"
      },
      "outputs": [
        {
          "output_type": "display_data",
          "data": {
            "text/plain": [
              "<Figure size 432x288 with 1 Axes>"
            ],
            "image/png": "[encoded data removed]"
          },
          "metadata": {
            "needs_background": "light"
          }
        },
        {
          "output_type": "display_data",
          "data": {
            "text/plain": [
              "<Figure size 432x288 with 0 Axes>"
            ]
          },
          "metadata": {}
        }
      ],
      "source": [
        "plt.plot(model_ott.history['loss'], label='loss_train')\n",
        "plt.plot(model_ott.history['val_loss'], label='loss_val')\n",
        "# plt.plot(mod.history['accuracy'], label='acc_train')\n",
        "# plt.plot(mod.history['val_accuracy'], label='acc_val')\n",
        "plt.legend()\n",
        "plt.title('Train Val_Loss in Proposed Neural Network')\n",
        "plt.show()\n",
        "plt.savefig('LossVal_Loss')"
      ]
    },
    {
      "cell_type": "code",
      "execution_count": 111,
      "metadata": {
        "colab": {
          "base_uri": "https://localhost:8080/",
          "height": 298
        },
        "id": "YvCNMixoXU3a",
        "outputId": "371c2191-3669-4458-f95a-9e81043da60c"
      },
      "outputs": [
        {
          "output_type": "display_data",
          "data": {
            "text/plain": [
              "<Figure size 432x288 with 1 Axes>"
            ],
            "image/png": "[encoded data removed]"
          },
          "metadata": {
            "needs_background": "light"
          }
        },
        {
          "output_type": "display_data",
          "data": {
            "text/plain": [
              "<Figure size 432x288 with 0 Axes>"
            ]
          },
          "metadata": {}
        }
      ],
      "source": [
        "plt.plot(model_ott.history['accuracy'], label='train acc')\n",
        "plt.plot(model_ott.history['val_accuracy'], label='val acc')\n",
        "plt.legend()\n",
        "plt.title('TrainVal_Acc in Proposed Neural Network')\n",
        "plt.show()\n",
        "plt.savefig('AccVal_Acc')"
      ]
    },
    {
      "cell_type": "code",
      "execution_count": 112,
      "metadata": {
        "id": "6RWukCQc0I-D"
      },
      "outputs": [],
      "source": [
        "import keras\n",
        "from keras.models import Sequential\n",
        "from keras.layers import Dense"
      ]
    },
    {
      "cell_type": "code",
      "execution_count": 113,
      "metadata": {
        "id": "4p2Hlx9-0Kj1"
      },
      "outputs": [],
      "source": [
        "ann = Sequential()"
      ]
    },
    {
      "cell_type": "code",
      "execution_count": 114,
      "metadata": {
        "id": "fD2XU75b0KV5"
      },
      "outputs": [],
      "source": [
        "#Add the input layer and the first hidden layer\n",
        "ann.add(Dense(units = 64,activation='relu',input_dim = max_length))\n",
        "#Add the second hidden layer\n",
        "ann.add(Dense(units = 64,activation='relu'))\n",
        "#Add the output layer\n",
        "ann.add(Dense(units = 1,activation='softmax'))"
      ]
    },
    {
      "cell_type": "code",
      "execution_count": 115,
      "metadata": {
        "colab": {
          "base_uri": "https://localhost:8080/"
        },
        "id": "o8WxtvwA0KN4",
        "outputId": "871edafc-a528-4e80-a605-54cf1048a32a"
      },
      "outputs": [
        {
          "output_type": "stream",
          "name": "stdout",
          "text": [
            "Model: \"sequential_9\"\n",
            "_________________________________________________________________\n",
            " Layer (type)                Output Shape              Param #   \n",
            "=================================================================\n",
            " dense_31 (Dense)            (None, 64)                6464      \n",
            "                                                                 \n",
            " dense_32 (Dense)            (None, 64)                4160      \n",
            "                                                                 \n",
            " dense_33 (Dense)            (None, 1)                 65        \n",
            "                                                                 \n",
            "=================================================================\n",
            "Total params: 10,689\n",
            "Trainable params: 10,689\n",
            "Non-trainable params: 0\n",
            "_________________________________________________________________\n"
          ]
        }
      ],
      "source": [
        "#Compile the ANN\n",
        "ann.compile(optimizer = 'adam', loss = 'binary_crossentropy', metrics = ['accuracy'])\n",
        "ann.summary()"
      ]
    },
    {
      "cell_type": "code",
      "execution_count": 116,
      "metadata": {
        "colab": {
          "base_uri": "https://localhost:8080/",
          "height": 727
        },
        "id": "mC51dO-_0KEb",
        "outputId": "a628540f-b186-46fc-b197-71d22eaad882"
      },
      "outputs": [
        {
          "output_type": "stream",
          "name": "stdout",
          "text": [
            "Epoch 1/10\n"
          ]
        },
        {
          "output_type": "error",
          "ename": "ValueError",
          "evalue": "ignored",
          "traceback": [
            "\u001b[0;31m---------------------------------------------------------------------------\u001b[0m",
            "\u001b[0;31mValueError\u001b[0m                                Traceback (most recent call last)",
            "\u001b[0;32m<ipython-input-116-9781aed142d5>\u001b[0m in \u001b[0;36m<module>\u001b[0;34m\u001b[0m\n\u001b[0;32m----> 1\u001b[0;31m \u001b[0mann\u001b[0m\u001b[0;34m.\u001b[0m\u001b[0mfit\u001b[0m\u001b[0;34m(\u001b[0m\u001b[0mx_train\u001b[0m\u001b[0;34m,\u001b[0m\u001b[0my_train\u001b[0m\u001b[0;34m,\u001b[0m\u001b[0mvalidation_split\u001b[0m\u001b[0;34m=\u001b[0m\u001b[0;36m.3\u001b[0m\u001b[0;34m,\u001b[0m\u001b[0mbatch_size\u001b[0m\u001b[0;34m=\u001b[0m\u001b[0;36m100\u001b[0m\u001b[0;34m,\u001b[0m\u001b[0mepochs\u001b[0m\u001b[0;34m=\u001b[0m\u001b[0;36m10\u001b[0m\u001b[0;34m)\u001b[0m\u001b[0;34m\u001b[0m\u001b[0;34m\u001b[0m\u001b[0m\n\u001b[0m",
            "\u001b[0;32m/usr/local/lib/python3.8/dist-packages/keras/utils/traceback_utils.py\u001b[0m in \u001b[0;36merror_handler\u001b[0;34m(*args, **kwargs)\u001b[0m\n\u001b[1;32m     65\u001b[0m     \u001b[0;32mexcept\u001b[0m \u001b[0mException\u001b[0m \u001b[0;32mas\u001b[0m \u001b[0me\u001b[0m\u001b[0;34m:\u001b[0m  \u001b[0;31m# pylint: disable=broad-except\u001b[0m\u001b[0;34m\u001b[0m\u001b[0;34m\u001b[0m\u001b[0m\n\u001b[1;32m     66\u001b[0m       \u001b[0mfiltered_tb\u001b[0m \u001b[0;34m=\u001b[0m \u001b[0m_process_traceback_frames\u001b[0m\u001b[0;34m(\u001b[0m\u001b[0me\u001b[0m\u001b[0;34m.\u001b[0m\u001b[0m__traceback__\u001b[0m\u001b[0;34m)\u001b[0m\u001b[0;34m\u001b[0m\u001b[0;34m\u001b[0m\u001b[0m\n\u001b[0;32m---> 67\u001b[0;31m       \u001b[0;32mraise\u001b[0m \u001b[0me\u001b[0m\u001b[0;34m.\u001b[0m\u001b[0mwith_traceback\u001b[0m\u001b[0;34m(\u001b[0m\u001b[0mfiltered_tb\u001b[0m\u001b[0;34m)\u001b[0m \u001b[0;32mfrom\u001b[0m \u001b[0;32mNone\u001b[0m\u001b[0;34m\u001b[0m\u001b[0;34m\u001b[0m\u001b[0m\n\u001b[0m\u001b[1;32m     68\u001b[0m     \u001b[0;32mfinally\u001b[0m\u001b[0;34m:\u001b[0m\u001b[0;34m\u001b[0m\u001b[0;34m\u001b[0m\u001b[0m\n\u001b[1;32m     69\u001b[0m       \u001b[0;32mdel\u001b[0m \u001b[0mfiltered_tb\u001b[0m\u001b[0;34m\u001b[0m\u001b[0;34m\u001b[0m\u001b[0m\n",
            "\u001b[0;32m/usr/local/lib/python3.8/dist-packages/keras/engine/training.py\u001b[0m in \u001b[0;36mtf__train_function\u001b[0;34m(iterator)\u001b[0m\n\u001b[1;32m     13\u001b[0m                 \u001b[0;32mtry\u001b[0m\u001b[0;34m:\u001b[0m\u001b[0;34m\u001b[0m\u001b[0;34m\u001b[0m\u001b[0m\n\u001b[1;32m     14\u001b[0m                     \u001b[0mdo_return\u001b[0m \u001b[0;34m=\u001b[0m \u001b[0;32mTrue\u001b[0m\u001b[0;34m\u001b[0m\u001b[0;34m\u001b[0m\u001b[0m\n\u001b[0;32m---> 15\u001b[0;31m                     \u001b[0mretval_\u001b[0m \u001b[0;34m=\u001b[0m \u001b[0mag__\u001b[0m\u001b[0;34m.\u001b[0m\u001b[0mconverted_call\u001b[0m\u001b[0;34m(\u001b[0m\u001b[0mag__\u001b[0m\u001b[0;34m.\u001b[0m\u001b[0mld\u001b[0m\u001b[0;34m(\u001b[0m\u001b[0mstep_function\u001b[0m\u001b[0;34m)\u001b[0m\u001b[0;34m,\u001b[0m \u001b[0;34m(\u001b[0m\u001b[0mag__\u001b[0m\u001b[0;34m.\u001b[0m\u001b[0mld\u001b[0m\u001b[0;34m(\u001b[0m\u001b[0mself\u001b[0m\u001b[0;34m)\u001b[0m\u001b[0;34m,\u001b[0m \u001b[0mag__\u001b[0m\u001b[0;34m.\u001b[0m\u001b[0mld\u001b[0m\u001b[0;34m(\u001b[0m\u001b[0miterator\u001b[0m\u001b[0;34m)\u001b[0m\u001b[0;34m)\u001b[0m\u001b[0;34m,\u001b[0m \u001b[0;32mNone\u001b[0m\u001b[0;34m,\u001b[0m \u001b[0mfscope\u001b[0m\u001b[0;34m)\u001b[0m\u001b[0;34m\u001b[0m\u001b[0;34m\u001b[0m\u001b[0m\n\u001b[0m\u001b[1;32m     16\u001b[0m                 \u001b[0;32mexcept\u001b[0m\u001b[0;34m:\u001b[0m\u001b[0;34m\u001b[0m\u001b[0;34m\u001b[0m\u001b[0m\n\u001b[1;32m     17\u001b[0m                     \u001b[0mdo_return\u001b[0m \u001b[0;34m=\u001b[0m \u001b[0;32mFalse\u001b[0m\u001b[0;34m\u001b[0m\u001b[0;34m\u001b[0m\u001b[0m\n",
            "\u001b[0;31mValueError\u001b[0m: in user code:\n\n    File \"/usr/local/lib/python3.8/dist-packages/keras/engine/training.py\", line 1051, in train_function  *\n        return step_function(self, iterator)\n    File \"/usr/local/lib/python3.8/dist-packages/keras/engine/training.py\", line 1040, in step_function  **\n        outputs = model.distribute_strategy.run(run_step, args=(data,))\n    File \"/usr/local/lib/python3.8/dist-packages/keras/engine/training.py\", line 1030, in run_step  **\n        outputs = model.train_step(data)\n    File \"/usr/local/lib/python3.8/dist-packages/keras/engine/training.py\", line 890, in train_step\n        loss = self.compute_loss(x, y, y_pred, sample_weight)\n    File \"/usr/local/lib/python3.8/dist-packages/keras/engine/training.py\", line 948, in compute_loss\n        return self.compiled_loss(\n    File \"/usr/local/lib/python3.8/dist-packages/keras/engine/compile_utils.py\", line 201, in __call__\n        loss_value = loss_obj(y_t, y_p, sample_weight=sw)\n    File \"/usr/local/lib/python3.8/dist-packages/keras/losses.py\", line 139, in __call__\n        losses = call_fn(y_true, y_pred)\n    File \"/usr/local/lib/python3.8/dist-packages/keras/losses.py\", line 243, in call  **\n        return ag_fn(y_true, y_pred, **self._fn_kwargs)\n    File \"/usr/local/lib/python3.8/dist-packages/keras/losses.py\", line 1930, in binary_crossentropy\n        backend.binary_crossentropy(y_true, y_pred, from_logits=from_logits),\n    File \"/usr/local/lib/python3.8/dist-packages/keras/backend.py\", line 5283, in binary_crossentropy\n        return tf.nn.sigmoid_cross_entropy_with_logits(labels=target, logits=output)\n\n    ValueError: `logits` and `labels` must have the same shape, received ((None, 1) vs (None, 3)).\n"
          ]
        }
      ],
      "source": [
        "ann.fit(x_train,y_train,validation_split=.3,batch_size=100,epochs=10)"
      ]
    },
    {
      "cell_type": "code",
      "execution_count": null,
      "metadata": {
        "id": "-up8DMyV1I9e"
      },
      "outputs": [],
      "source": [
        "\n",
        "from tensorflow.keras.layers import SimpleRNN\n",
        "\n",
        "# define the model\n",
        "model = Sequential()\n",
        "model.add(Embedding(vocab_size, 24, input_length=max_length))#24--86\n",
        "model.add(SimpleRNN(24, return_sequences=False)) #24--86\n",
        "model.add(Dense(2, activation='sigmoid')) #2--86%\n",
        "\n",
        "# compile the model\n",
        "model.compile(optimizer='adam', loss='binary_crossentropy', metrics=['accuracy']) #optimizer='rmsprop' --86\n",
        "\n",
        "# summarize the model\n",
        "print(model.summary())"
      ]
    },
    {
      "cell_type": "code",
      "execution_count": null,
      "metadata": {
        "id": "xjBtPU681IF7"
      },
      "outputs": [],
      "source": [
        "# from tensorflow.keras.models import Sequential\n",
        "# from tensorflow.keras.layers import Dense\n",
        "# from tensorflow.keras.layers import SimpleRNN\n",
        "# from tensorflow.keras.layers import Flatten\n",
        "# from tensorflow.keras.layers import Dropout\n",
        "# from tensorflow.keras.layers import Embedding\n",
        "# from tensorflow.keras.callbacks import EarlyStopping\n",
        "\n",
        "early_stop = EarlyStopping(monitor='val_loss', mode='min', verbose=1, patience=10)\n",
        "\n",
        "# fit the model RNN\n",
        "model.fit(x_train,y_train,epochs=100,validation_data=(x_valid,y_valid ), verbose=1,callbacks=[early_stop])"
      ]
    }
  ],
  "metadata": {
    "colab": {
      "provenance": []
    },
    "interpreter": {
      "hash": "e896f58382219557ed1cd87260c67d9e69d66db56889d9cde40c814aa57c370f"
    },
    "kernelspec": {
      "display_name": "Python 3.6.13 ('tf_gpu')",
      "language": "python",
      "name": "python3"
    },
    "language_info": {
      "codemirror_mode": {
        "name": "ipython",
        "version": 3
      },
      "file_extension": ".py",
      "mimetype": "text/x-python",
      "name": "python",
      "nbconvert_exporter": "python",
      "pygments_lexer": "ipython3",
      "version": "3.6.13"
    }
  },
  "nbformat": 4,
  "nbformat_minor": 0
}