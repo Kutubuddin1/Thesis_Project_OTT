{
  "cells": [
    {
      "cell_type": "code",
      "execution_count": null,
      "metadata": {
        "id": "O969xfjrHR4K"
      },
      "outputs": [],
      "source": [
        "import numpy as np\n",
        "import pandas as pd\n",
        "import matplotlib.pyplot as plt\n",
        "%matplotlib inline\n",
        "import seaborn as sns\n",
        "import re,json,nltk\n",
        "from sklearn.preprocessing import LabelEncoder\n",
        "from sklearn.feature_extraction.text import TfidfVectorizer\n",
        "from sklearn.model_selection import train_test_split\n",
        "from sklearn.metrics import classification_report,accuracy_score,precision_score,recall_score,f1_score\n",
        "from tensorflow.keras.preprocessing.text import Tokenizer"
      ]
    },
    {
      "cell_type": "code",
      "execution_count": null,
      "metadata": {
        "id": "Fp4Hweo-H0wI"
      },
      "outputs": [],
      "source": [
        "#Miscellanous libraries\n",
        "from collections import Counter\n",
        "\n",
        "#Ignore warnings\n",
        "import warnings\n",
        "warnings.filterwarnings('ignore')"
      ]
    },
    {
      "cell_type": "code",
      "execution_count": null,
      "metadata": {
        "colab": {
          "base_uri": "https://localhost:8080/",
          "height": 363
        },
        "id": "UYXpkLv-H-to",
        "outputId": "fbad1450-eb98-497a-9a36-ee9eebc54023"
      },
      "outputs": [
        {
          "output_type": "execute_result",
          "data": {
            "text/plain": [
              "   id                                               text     label\n",
              "0   0           লিখার সময় পারলে সত্য লিখার অভ্যাস শিখুন।  negative\n",
              "1   1  এটা কেন হচ্ছে? সংশ্লিষ্ট সকলের ডিপ্রেশনের ফলে?...  negative\n",
              "2   2  আমাদের দেশের স্বাভাবিক অর্থনৈতিক গতিপ্রবাহকে ব...  negative\n",
              "3   3                                    চুরি নয় লুটপাট।  negative\n",
              "4   4  ইসলামী ব্যাংকের বর্তমান অবস্থা দেখে মনে হয় শাস...   neutral\n",
              "5   5          একটা ভাল প্রতিষ্ঠান কিভাবে লুট হয়ে যাচেছ!  negative\n",
              "6   6  সরকার যাদের এই ব্যাংকে নিয়গ দিয়েছে তারা ব্যাংক...  negative\n",
              "7   7    পুরোপুরি আওয়ামীকরন হলেই আর এর অসতিতই থাকবেক না!  negative\n",
              "8   8     এককথায় ব্যাংকটিতে ডাকাতি হয়েছে এবং হতেই থাকবে।  negative\n",
              "9   9  ইসলামি ব্যাংক প্রারম্ভ থেকেই গ্রাহকদের পছন্দের...  negative"
            ],
            "text/html": [
              "\n",
              "  <div id=\"df-d2db386b-73fa-4f83-8027-adad5267fcb3\">\n",
              "    <div class=\"colab-df-container\">\n",
              "      <div>\n",
              "<style scoped>\n",
              "    .dataframe tbody tr th:only-of-type {\n",
              "        vertical-align: middle;\n",
              "    }\n",
              "\n",
              "    .dataframe tbody tr th {\n",
              "        vertical-align: top;\n",
              "    }\n",
              "\n",
              "    .dataframe thead th {\n",
              "        text-align: right;\n",
              "    }\n",
              "</style>\n",
              "<table border=\"1\" class=\"dataframe\">\n",
              "  <thead>\n",
              "    <tr style=\"text-align: right;\">\n",
              "      <th></th>\n",
              "      <th>id</th>\n",
              "      <th>text</th>\n",
              "      <th>label</th>\n",
              "    </tr>\n",
              "  </thead>\n",
              "  <tbody>\n",
              "    <tr>\n",
              "      <th>0</th>\n",
              "      <td>0</td>\n",
              "      <td>লিখার সময় পারলে সত্য লিখার অভ্যাস শিখুন।</td>\n",
              "      <td>negative</td>\n",
              "    </tr>\n",
              "    <tr>\n",
              "      <th>1</th>\n",
              "      <td>1</td>\n",
              "      <td>এটা কেন হচ্ছে? সংশ্লিষ্ট সকলের ডিপ্রেশনের ফলে?...</td>\n",
              "      <td>negative</td>\n",
              "    </tr>\n",
              "    <tr>\n",
              "      <th>2</th>\n",
              "      <td>2</td>\n",
              "      <td>আমাদের দেশের স্বাভাবিক অর্থনৈতিক গতিপ্রবাহকে ব...</td>\n",
              "      <td>negative</td>\n",
              "    </tr>\n",
              "    <tr>\n",
              "      <th>3</th>\n",
              "      <td>3</td>\n",
              "      <td>চুরি নয় লুটপাট।</td>\n",
              "      <td>negative</td>\n",
              "    </tr>\n",
              "    <tr>\n",
              "      <th>4</th>\n",
              "      <td>4</td>\n",
              "      <td>ইসলামী ব্যাংকের বর্তমান অবস্থা দেখে মনে হয় শাস...</td>\n",
              "      <td>neutral</td>\n",
              "    </tr>\n",
              "    <tr>\n",
              "      <th>5</th>\n",
              "      <td>5</td>\n",
              "      <td>একটা ভাল প্রতিষ্ঠান কিভাবে লুট হয়ে যাচেছ!</td>\n",
              "      <td>negative</td>\n",
              "    </tr>\n",
              "    <tr>\n",
              "      <th>6</th>\n",
              "      <td>6</td>\n",
              "      <td>সরকার যাদের এই ব্যাংকে নিয়গ দিয়েছে তারা ব্যাংক...</td>\n",
              "      <td>negative</td>\n",
              "    </tr>\n",
              "    <tr>\n",
              "      <th>7</th>\n",
              "      <td>7</td>\n",
              "      <td>পুরোপুরি আওয়ামীকরন হলেই আর এর অসতিতই থাকবেক না!</td>\n",
              "      <td>negative</td>\n",
              "    </tr>\n",
              "    <tr>\n",
              "      <th>8</th>\n",
              "      <td>8</td>\n",
              "      <td>এককথায় ব্যাংকটিতে ডাকাতি হয়েছে এবং হতেই থাকবে।</td>\n",
              "      <td>negative</td>\n",
              "    </tr>\n",
              "    <tr>\n",
              "      <th>9</th>\n",
              "      <td>9</td>\n",
              "      <td>ইসলামি ব্যাংক প্রারম্ভ থেকেই গ্রাহকদের পছন্দের...</td>\n",
              "      <td>negative</td>\n",
              "    </tr>\n",
              "  </tbody>\n",
              "</table>\n",
              "</div>\n",
              "      <button class=\"colab-df-convert\" onclick=\"convertToInteractive('df-d2db386b-73fa-4f83-8027-adad5267fcb3')\"\n",
              "              title=\"Convert this dataframe to an interactive table.\"\n",
              "              style=\"display:none;\">\n",
              "        \n",
              "  <svg xmlns=\"http://www.w3.org/2000/svg\" height=\"24px\"viewBox=\"0 0 24 24\"\n",
              "       width=\"24px\">\n",
              "    <path d=\"M0 0h24v24H0V0z\" fill=\"none\"/>\n",
              "    <path d=\"M18.56 5.44l.94 2.06.94-2.06 2.06-.94-2.06-.94-.94-2.06-.94 2.06-2.06.94zm-11 1L8.5 8.5l.94-2.06 2.06-.94-2.06-.94L8.5 2.5l-.94 2.06-2.06.94zm10 10l.94 2.06.94-2.06 2.06-.94-2.06-.94-.94-2.06-.94 2.06-2.06.94z\"/><path d=\"M17.41 7.96l-1.37-1.37c-.4-.4-.92-.59-1.43-.59-.52 0-1.04.2-1.43.59L10.3 9.45l-7.72 7.72c-.78.78-.78 2.05 0 2.83L4 21.41c.39.39.9.59 1.41.59.51 0 1.02-.2 1.41-.59l7.78-7.78 2.81-2.81c.8-.78.8-2.07 0-2.86zM5.41 20L4 18.59l7.72-7.72 1.47 1.35L5.41 20z\"/>\n",
              "  </svg>\n",
              "      </button>\n",
              "      \n",
              "  <style>\n",
              "    .colab-df-container {\n",
              "      display:flex;\n",
              "      flex-wrap:wrap;\n",
              "      gap: 12px;\n",
              "    }\n",
              "\n",
              "    .colab-df-convert {\n",
              "      background-color: #E8F0FE;\n",
              "      border: none;\n",
              "      border-radius: 50%;\n",
              "      cursor: pointer;\n",
              "      display: none;\n",
              "      fill: #1967D2;\n",
              "      height: 32px;\n",
              "      padding: 0 0 0 0;\n",
              "      width: 32px;\n",
              "    }\n",
              "\n",
              "    .colab-df-convert:hover {\n",
              "      background-color: #E2EBFA;\n",
              "      box-shadow: 0px 1px 2px rgba(60, 64, 67, 0.3), 0px 1px 3px 1px rgba(60, 64, 67, 0.15);\n",
              "      fill: #174EA6;\n",
              "    }\n",
              "\n",
              "    [theme=dark] .colab-df-convert {\n",
              "      background-color: #3B4455;\n",
              "      fill: #D2E3FC;\n",
              "    }\n",
              "\n",
              "    [theme=dark] .colab-df-convert:hover {\n",
              "      background-color: #434B5C;\n",
              "      box-shadow: 0px 1px 3px 1px rgba(0, 0, 0, 0.15);\n",
              "      filter: drop-shadow(0px 1px 2px rgba(0, 0, 0, 0.3));\n",
              "      fill: #FFFFFF;\n",
              "    }\n",
              "  </style>\n",
              "\n",
              "      <script>\n",
              "        const buttonEl =\n",
              "          document.querySelector('#df-d2db386b-73fa-4f83-8027-adad5267fcb3 button.colab-df-convert');\n",
              "        buttonEl.style.display =\n",
              "          google.colab.kernel.accessAllowed ? 'block' : 'none';\n",
              "\n",
              "        async function convertToInteractive(key) {\n",
              "          const element = document.querySelector('#df-d2db386b-73fa-4f83-8027-adad5267fcb3');\n",
              "          const dataTable =\n",
              "            await google.colab.kernel.invokeFunction('convertToInteractive',\n",
              "                                                     [key], {});\n",
              "          if (!dataTable) return;\n",
              "\n",
              "          const docLinkHtml = 'Like what you see? Visit the ' +\n",
              "            '<a target=\"_blank\" href=https://colab.research.google.com/notebooks/data_table.ipynb>data table notebook</a>'\n",
              "            + ' to learn more about interactive tables.';\n",
              "          element.innerHTML = '';\n",
              "          dataTable['output_type'] = 'display_data';\n",
              "          await google.colab.output.renderOutput(dataTable, element);\n",
              "          const docLink = document.createElement('div');\n",
              "          docLink.innerHTML = docLinkHtml;\n",
              "          element.appendChild(docLink);\n",
              "        }\n",
              "      </script>\n",
              "    </div>\n",
              "  </div>\n",
              "  "
            ]
          },
          "metadata": {},
          "execution_count": 177
        }
      ],
      "source": [
        "data = pd.read_csv('/content/drive/MyDrive/Colab Notebooks/DATA/Just 8k - Sheet1.csv')\n",
        "\n",
        "data.head(10)"
      ]
    },
    {
      "cell_type": "code",
      "execution_count": null,
      "metadata": {
        "id": "4RJSXbTfIfMB"
      },
      "outputs": [],
      "source": [
        "data.dropna(inplace=True)"
      ]
    },
    {
      "cell_type": "code",
      "execution_count": null,
      "metadata": {
        "colab": {
          "base_uri": "https://localhost:8080/"
        },
        "id": "uUKMHGuIIKXQ",
        "outputId": "c6123664-aa2c-4c12-9ada-b9c20247d505"
      },
      "outputs": [
        {
          "output_type": "stream",
          "name": "stdout",
          "text": [
            "Total Reviews: 8066 \n",
            "Total Positive Reviews: 2829 \n",
            "Total Negative Reviews: 3245 \n",
            "Total Neutral Reviews: 1992\n"
          ]
        }
      ],
      "source": [
        "print(\"Total Reviews:\",len(data),\n",
        "      \"\\nTotal Positive Reviews:\",len(data[data.label =='positive']),\n",
        "      \"\\nTotal Negative Reviews:\",len(data[data.label=='negative']),\n",
        "      \"\\nTotal Neutral Reviews:\",len(data[data.label =='neutral']))\n"
      ]
    },
    {
      "cell_type": "code",
      "execution_count": null,
      "metadata": {
        "id": "XsJ6P_rBqleN"
      },
      "outputs": [],
      "source": []
    },
    {
      "cell_type": "code",
      "execution_count": null,
      "metadata": {
        "colab": {
          "base_uri": "https://localhost:8080/"
        },
        "id": "1whUVnuxInXd",
        "outputId": "d42bb618-4a30-4438-fc62-ff2d0243bba4"
      },
      "outputs": [
        {
          "output_type": "execute_result",
          "data": {
            "text/plain": [
              "Index(['id', 'text', 'label'], dtype='object')"
            ]
          },
          "metadata": {},
          "execution_count": 180
        }
      ],
      "source": [
        "data.columns"
      ]
    },
    {
      "cell_type": "code",
      "execution_count": null,
      "metadata": {
        "colab": {
          "base_uri": "https://localhost:8080/"
        },
        "id": "wUsAPlRpIiSX",
        "outputId": "2d6eefd2-faf7-4dad-aaf1-808caf0f3695"
      },
      "outputs": [
        {
          "output_type": "stream",
          "name": "stdout",
          "text": [
            "এরা যেখানেই যাবে সেখানেই চুরি হবে। \n",
            " Sentiment:--  negative \n",
            "\n",
            "নিক্কেই এশিয়ান রিভিউবাংলাদেশের উত্থানের পেছনে শেখ হাসিনা \n",
            " Sentiment:--  positive \n",
            "\n",
            "সার্বিক বিবেচনায় পোশাক শ্রমিকদের বেতন বাড়ানো উচিত। বর্তমান বাজার মূল্য বিবেচনা করলে সর্ব নিম্ন বেতন হওয়া দরকার ১২০০০-১৫০০০ টাকা। যেথানে এখন শ্রমিকরা বেতন পাচ্ছেন ৫৩০০ টাকা। \n",
            " Sentiment:--  negative \n",
            "\n",
            "কত উচ্চ পর্যায়ে যোগাযোগ ? \n",
            " Sentiment:--  negative \n",
            "\n",
            "বাংলাদেশের সর্বত্র এরকম অসংখ্য দুর্নীতিবাজ বাচ্চু ছড়িয়ে ছিটিয়ে রয়েছে। তারা  উন্নয়নের এক একটি মাইলফলক। \n",
            " Sentiment:--  negative \n",
            "\n",
            "বাংলাদেশের গার্মেন্টস আসলে দরিদ্র, অসহায় ও প্রান্তিক মানুষদের শ্রম শোষণ ইন্ডাস্ট্রী। \n",
            " Sentiment:--  positive \n",
            "\n",
            "এখানেই বিএনপির পার্থক্য আওয়ামী লীগের সাথে। বাস্তবে উনারা ভুলে গেছেন ডিমেনশিয়া রোগীর মত. \n",
            " Sentiment:--  positive \n",
            "\n",
            "সন্মান করা কবে শিখবেন? মেঘে মেঘে অনেক বেলা হয়ে গেছে। \n",
            " Sentiment:--  positive \n",
            "\n",
            "কি করে সম্ভব বলেন ? আমাদের জিডিপি কতো ? মূল্যস্ফীতি আর অর্থনৈতিক প্রবৃদ্ধি এর স্প্রীড কতো? \n",
            " Sentiment:--  positive \n",
            "\n",
            "যুক্তির অপর নাম এখন গুম। আর যুক্তির কথা বলছেন? বিএনপির চাইছিল কেয়ারটেকার সরকার, দলীয় সরকার না। তাদের যুক্তি কেন সঠিক ছিল পরবর্তিতে আওয়ামী লীগই বুঝিয়ে দিয়েছিল নজিরবিহীন জালভোট আর একতরফা নির্বাচনের মাধ্যমে যা আপনাদের মত সুবিধাভোগিরা কখনোই বুঝতে চাননি। \n",
            " Sentiment:--  neutral \n",
            "\n",
            "এখানেই বিএনপির পার্থক্য আওয়ামী লীগের সাথে। বাস্তবে উনারা ভুলে গেছেন ডিমেনশিয়া রোগীর মত. \n",
            " Sentiment:--  positive \n",
            "\n",
            "যোগ্য ব্যাংকারের অভাবে ভুগছে ইসলামী ও সরকারী ব্যাংকগুলি। \n",
            " Sentiment:--  neutral \n",
            "\n",
            "চোর তো দেশে বিদেশে অভিজান চালালে হবে ? \n",
            " Sentiment:--  negative \n",
            "\n",
            "কেন? এম ডি ছাড়া কি ব্যাঙ্ক চলছে না?  চলতেছে, চলুক যতদিন সম্ভব। এম ডি একটা পদের নাম। কাজ তো অন্যেরাই করছেন \n",
            " Sentiment:--  positive \n",
            "\n",
            "দামি ইউনিভার্সিটিতে পড়ার যোগ্যতা সবার থাকেনা। \n",
            " Sentiment:--  positive \n",
            "\n"
          ]
        }
      ],
      "source": [
        "# print some unprocessed reviews\n",
        "sample_data = [10,100,150,222,250,600,650,666,689,640,650,700,750,800,1000]\n",
        "for i in sample_data:\n",
        "      print(data.text[i],'\\n','Sentiment:-- ',data.label[i],'\\n')"
      ]
    },
    {
      "cell_type": "code",
      "execution_count": null,
      "metadata": {
        "colab": {
          "base_uri": "https://localhost:8080/",
          "height": 272
        },
        "id": "Nq5LbzwbIpvA",
        "outputId": "b633fc97-8046-4ce1-ac35-a7205ba6df42"
      },
      "outputs": [
        {
          "output_type": "display_data",
          "data": {
            "text/plain": [
              "<Figure size 648x216 with 1 Axes>"
            ],
            "image/png": "[encoded data removed]"
          },
          "metadata": {}
        }
      ],
      "source": [
        "sns.set(font_scale=1.4)\n",
        "data['label'].value_counts().plot(kind='barh', figsize=(9, 3))\n",
        "plt.xlabel(\"Number of Comments\", labelpad=12)\n",
        "plt.ylabel(\"Sentiment Class\", labelpad=12)\n",
        "plt.yticks(rotation = 45)\n",
        "plt.title(\"Dataset Distribution\", y=1.02);"
      ]
    },
    {
      "cell_type": "code",
      "execution_count": null,
      "metadata": {
        "colab": {
          "base_uri": "https://localhost:8080/"
        },
        "id": "oT1zxwysI6AB",
        "outputId": "cd0aab15-a1bd-4f35-8a00-b54ac9df0bf0"
      },
      "outputs": [
        {
          "output_type": "stream",
          "name": "stdout",
          "text": [
            "Looking in indexes: https://pypi.org/simple, https://us-python.pkg.dev/colab-wheels/public/simple/\n",
            "Requirement already satisfied: bnlp_toolkit in /usr/local/lib/python3.7/dist-packages (3.1.2)\n",
            "Requirement already satisfied: wasabi in /usr/local/lib/python3.7/dist-packages (from bnlp_toolkit) (0.9.1)\n",
            "Requirement already satisfied: scipy in /usr/local/lib/python3.7/dist-packages (from bnlp_toolkit) (1.4.1)\n",
            "Requirement already satisfied: numpy in /usr/local/lib/python3.7/dist-packages (from bnlp_toolkit) (1.21.6)\n",
            "Requirement already satisfied: sklearn-crfsuite in /usr/local/lib/python3.7/dist-packages (from bnlp_toolkit) (0.3.6)\n",
            "Requirement already satisfied: gensim==4.0.1 in /usr/local/lib/python3.7/dist-packages (from bnlp_toolkit) (4.0.1)\n",
            "Requirement already satisfied: nltk in /usr/local/lib/python3.7/dist-packages (from bnlp_toolkit) (3.2.5)\n",
            "Requirement already satisfied: sentencepiece in /usr/local/lib/python3.7/dist-packages (from bnlp_toolkit) (0.1.96)\n",
            "Requirement already satisfied: smart-open>=1.8.1 in /usr/local/lib/python3.7/dist-packages (from gensim==4.0.1->bnlp_toolkit) (6.0.0)\n",
            "Requirement already satisfied: six in /usr/local/lib/python3.7/dist-packages (from nltk->bnlp_toolkit) (1.15.0)\n",
            "Requirement already satisfied: python-crfsuite>=0.8.3 in /usr/local/lib/python3.7/dist-packages (from sklearn-crfsuite->bnlp_toolkit) (0.9.8)\n",
            "Requirement already satisfied: tqdm>=2.0 in /usr/local/lib/python3.7/dist-packages (from sklearn-crfsuite->bnlp_toolkit) (4.64.0)\n",
            "Requirement already satisfied: tabulate in /usr/local/lib/python3.7/dist-packages (from sklearn-crfsuite->bnlp_toolkit) (0.8.9)\n"
          ]
        }
      ],
      "source": [
        "!pip install bnlp_toolkit"
      ]
    },
    {
      "cell_type": "code",
      "execution_count": null,
      "metadata": {
        "id": "2qdDWxkcJDW4"
      },
      "outputs": [],
      "source": [
        "from bnlp import BasicTokenizer\n",
        "from bnlp.corpus import stopwords, punctuations, letters, digits\n",
        "import re\n",
        "\n",
        "btokenizer = BasicTokenizer()\n",
        "\n",
        "def clean_text(text):\n",
        "    text = re.sub('[^\\u0980-\\u09FF]',' ',str(text))\n",
        "    tokens = btokenizer.tokenize(text)\n",
        "    filtered = []\n",
        "    for i in tokens:\n",
        "        if i in stopwords:\n",
        "            continue\n",
        "    \n",
        "        if i in punctuations + '‘' + '’':\n",
        "            continue\n",
        "    \n",
        "        filtered.append(i)\n",
        "    \n",
        "    return \" \".join(filtered)"
      ]
    },
    {
      "cell_type": "code",
      "execution_count": null,
      "metadata": {
        "id": "LKOIXlMNJJzT"
      },
      "outputs": [],
      "source": [
        "data['cleaned'] = data.text.apply(clean_text)"
      ]
    },
    {
      "cell_type": "code",
      "execution_count": null,
      "metadata": {
        "colab": {
          "base_uri": "https://localhost:8080/"
        },
        "id": "aApcPLuyun9O",
        "outputId": "00318778-c149-4963-d398-d0f00db4e241"
      },
      "outputs": [
        {
          "output_type": "stream",
          "name": "stdout",
          "text": [
            "Original:\n",
            " এরা যেখানেই যাবে সেখানেই চুরি হবে। \n",
            "Cleaned:\n",
            " যেখানেই সেখানেই চুরি \n",
            " Sentiment:--  negative \n",
            "\n",
            "Original:\n",
            " নিক্কেই এশিয়ান রিভিউবাংলাদেশের উত্থানের পেছনে শেখ হাসিনা \n",
            "Cleaned:\n",
            " নিক্কেই এশিয়ান রিভিউবাংলাদেশের উত্থানের পেছনে শেখ হাসিনা \n",
            " Sentiment:--  positive \n",
            "\n",
            "Original:\n",
            " রতনে রতন চেনে \n",
            "Cleaned:\n",
            " রতনে রতন চেনে \n",
            " Sentiment:--  negative \n",
            "\n",
            "Original:\n",
            " আমেরিকাতে ইমেল না সরাসরি চিঠি পাঠানো হয় । \n",
            "Cleaned:\n",
            " আমেরিকাতে ইমেল সরাসরি চিঠি পাঠানো \n",
            " Sentiment:--  negative \n",
            "\n",
            "Original:\n",
            " এই অর্থ পাচারে বাংলাদেশ জড়িত আমি গ্যারান্টি দিয়ে বলতে পারি । এই বড় অর্থ ছাড়ের বিষয়ে বিদেশি ব্যাংক ক্রস চেক করে শতভাগ কনফার্ম হয়ে নেয় । তার পর অর্থ ছাড় করে । \n",
            "Cleaned:\n",
            " অর্থ পাচারে বাংলাদেশ জড়িত গ্যারান্টি দিয়ে বড় অর্থ ছাড়ের বিষয়ে বিদেশি ব্যাংক ক্রস চেক শতভাগ কনফার্ম হয়ে নেয় অর্থ ছাড় \n",
            " Sentiment:--  positive \n",
            "\n",
            "Original:\n",
            " খবর যেমন পড়ি মন্তব্যগুলিও তেমন পড়ি। আর মন্তব্যকারীদের জ্ঞান বিদ্যা বুদ্ধির দৌড় দেখে হতাশ হই। \n",
            "Cleaned:\n",
            " খবর পড়ি মন্তব্যগুলিও পড়ি মন্তব্যকারীদের জ্ঞান বিদ্যা বুদ্ধির দৌড় হতাশ হই \n",
            " Sentiment:--  negative \n",
            "\n",
            "Original:\n",
            " আপনার সাথে একমত পোষন করছি। \n",
            "Cleaned:\n",
            " সাথে একমত পোষন করছি \n",
            " Sentiment:--  positive \n",
            "\n",
            "Original:\n",
            " বেশি হবে না কম হবে সেটা বাজারই বলে দিবে। নিত্য প্রয়োজনীয় পন্যের দাম নির্ধারিত করে দেওয়ার দরকার দেখিনা।দাম বাড়লেই কৃষক লাভবান হচ্ছে, এমনটা ভাবারও দরকার নাই। বগুড়ার ৫ টাকার সবজি ঢাকাতে ৩০ বিক্রি হলে, লাভবান কে হয়, সেটা নিয়া পারলে চিন্তা করেন। \n",
            "Cleaned:\n",
            " কম বাজারই দিবে নিত্য প্রয়োজনীয় পন্যের দাম নির্ধারিত দেওয়ার দরকার দেখিনা দাম বাড়লেই কৃষক লাভবান এমনটা ভাবারও দরকার বগুড়ার ৫ টাকার সবজি ঢাকাতে ৩০ বিক্রি লাভবান নিয়া পারলে চিন্তা \n",
            " Sentiment:--  positive \n",
            "\n",
            "Original:\n",
            " গ্রামীনফোন শেয়ারবাজারে লিস্টেড। তারা এদেশের জনগণের সাথে মুনাফা শেয়ার করে।আর অন্যান্যরা সব নিয়ে চলে যায়।সরকারের উচিত  গ্রামীনফোনকে সুবিধা দেওয়া।কিন্তু ঘটছে তার উল্টো \n",
            "Cleaned:\n",
            " গ্রামীনফোন শেয়ারবাজারে লিস্টেড এদেশের জনগণের সাথে মুনাফা শেয়ার অন্যান্যরা যায় সরকারের গ্রামীনফোনকে সুবিধা ঘটছে উল্টো \n",
            " Sentiment:--  positive \n",
            "\n",
            "Original:\n",
            " স্বৈরশাসক এরশাদের সময়ও গ্রামের চাষার ছেলে বিসিএস পেত \n",
            "Cleaned:\n",
            " স্বৈরশাসক এরশাদের সময়ও গ্রামের চাষার ছেলে বিসিএস পেত \n",
            " Sentiment:--  negative \n",
            "\n",
            "Original:\n",
            " এরকম সংলাপ আমরা সবসময় চাই । দেশে একটা সুস্থ রাজনৈতিক পরিরিস্থিতি বিরাজ করুক । ক্ষমতা কুক্ষিগত দেখতে চাই না । \n",
            "Cleaned:\n",
            " এরকম সংলাপ সবসময় চাই দেশে একটা সুস্থ রাজনৈতিক পরিরিস্থিতি বিরাজ করুক ক্ষমতা কুক্ষিগত চাই \n",
            " Sentiment:--  positive \n",
            "\n",
            "Original:\n",
            " কম পানির মাছ হটাৎ বেশি পানিতে পড়লে যা হয় \n",
            "Cleaned:\n",
            " কম পানির মাছ হটাৎ পানিতে পড়লে \n",
            " Sentiment:--  neutral \n",
            "\n"
          ]
        }
      ],
      "source": [
        "# Apply the function into the dataframe\n",
        "data['cleaned'] = data['text'].apply(clean_text)  \n",
        "\n",
        "# print some cleaned reviews from the dataset\n",
        "sample_data = [10,100,25,854,966,1500,1589,1700,2000,2500,4000,4500]\n",
        "for i in sample_data:\n",
        "     print('Original:\\n',data.text[i],'\\nCleaned:\\n',\n",
        "           data.cleaned[i],'\\n','Sentiment:-- ',data.label[i],'\\n')"
      ]
    },
    {
      "cell_type": "code",
      "execution_count": null,
      "metadata": {
        "colab": {
          "base_uri": "https://localhost:8080/",
          "height": 424
        },
        "id": "nhpCW7ihJMK3",
        "outputId": "f34dd1c3-cad4-43dc-efa8-fd9fd4a49e0a"
      },
      "outputs": [
        {
          "output_type": "execute_result",
          "data": {
            "text/plain": [
              "        id                                               text     label  \\\n",
              "0        0           লিখার সময় পারলে সত্য লিখার অভ্যাস শিখুন।  negative   \n",
              "1        1  এটা কেন হচ্ছে? সংশ্লিষ্ট সকলের ডিপ্রেশনের ফলে?...  negative   \n",
              "2        2  আমাদের দেশের স্বাভাবিক অর্থনৈতিক গতিপ্রবাহকে ব...  negative   \n",
              "3        3                                    চুরি নয় লুটপাট।  negative   \n",
              "4        4  ইসলামী ব্যাংকের বর্তমান অবস্থা দেখে মনে হয় শাস...   neutral   \n",
              "...    ...                                                ...       ...   \n",
              "8061  8061          এইতো সময় মতো মনে করে দিলেন! এখনতো বাড়বেই।   neutral   \n",
              "8062  8062  সেই ১৯৫৩ সাল থেকে ফাঁটা বাশ বেজেই যাচ্ছে। নাদে...   neutral   \n",
              "8063  8063                         তাই নাকি অলরেডি বেড়ে গেছে।   neutral   \n",
              "8064  8064  লুটপাট চলছে, চলবেই। পারলে ঠেকাও। না পারলে চুপ ...   neutral   \n",
              "8065  8065  তারেক আর খাম্বা মামুনের নাম জপ করতে করতে আরো ৫...   neutral   \n",
              "\n",
              "                                                cleaned  \n",
              "0               লিখার সময় পারলে সত্য লিখার অভ্যাস শিখুন  \n",
              "1     সংশ্লিষ্ট সকলের ডিপ্রেশনের সরকার মনোনিত পরিচাল...  \n",
              "2     দেশের স্বাভাবিক অর্থনৈতিক গতিপ্রবাহকে বাধাগ্রস...  \n",
              "3                                           চুরি লুটপাট  \n",
              "4     ইসলামী ব্যাংকের বর্তমান অবস্থা শাসক জামাতের সা...  \n",
              "...                                                 ...  \n",
              "8061                              এইতো সময় এখনতো বাড়বেই  \n",
              "8062          ১৯৫৩ সাল ফাঁটা বাশ বেজেই নাদের আলী বড় হব  \n",
              "8063                                        অলরেডি বেড়ে  \n",
              "8064       লুটপাট চলছে চলবেই পারলে ঠেকাও পারলে চুপ থাকো  \n",
              "8065          তারেক খাম্বা মামুনের নাম জপ আরো ৫ বছর পার  \n",
              "\n",
              "[8066 rows x 4 columns]"
            ],
            "text/html": [
              "\n",
              "  <div id=\"df-fe7e64fc-c092-418b-bb09-2c02dba6200f\">\n",
              "    <div class=\"colab-df-container\">\n",
              "      <div>\n",
              "<style scoped>\n",
              "    .dataframe tbody tr th:only-of-type {\n",
              "        vertical-align: middle;\n",
              "    }\n",
              "\n",
              "    .dataframe tbody tr th {\n",
              "        vertical-align: top;\n",
              "    }\n",
              "\n",
              "    .dataframe thead th {\n",
              "        text-align: right;\n",
              "    }\n",
              "</style>\n",
              "<table border=\"1\" class=\"dataframe\">\n",
              "  <thead>\n",
              "    <tr style=\"text-align: right;\">\n",
              "      <th></th>\n",
              "      <th>id</th>\n",
              "      <th>text</th>\n",
              "      <th>label</th>\n",
              "      <th>cleaned</th>\n",
              "    </tr>\n",
              "  </thead>\n",
              "  <tbody>\n",
              "    <tr>\n",
              "      <th>0</th>\n",
              "      <td>0</td>\n",
              "      <td>লিখার সময় পারলে সত্য লিখার অভ্যাস শিখুন।</td>\n",
              "      <td>negative</td>\n",
              "      <td>লিখার সময় পারলে সত্য লিখার অভ্যাস শিখুন</td>\n",
              "    </tr>\n",
              "    <tr>\n",
              "      <th>1</th>\n",
              "      <td>1</td>\n",
              "      <td>এটা কেন হচ্ছে? সংশ্লিষ্ট সকলের ডিপ্রেশনের ফলে?...</td>\n",
              "      <td>negative</td>\n",
              "      <td>সংশ্লিষ্ট সকলের ডিপ্রেশনের সরকার মনোনিত পরিচাল...</td>\n",
              "    </tr>\n",
              "    <tr>\n",
              "      <th>2</th>\n",
              "      <td>2</td>\n",
              "      <td>আমাদের দেশের স্বাভাবিক অর্থনৈতিক গতিপ্রবাহকে ব...</td>\n",
              "      <td>negative</td>\n",
              "      <td>দেশের স্বাভাবিক অর্থনৈতিক গতিপ্রবাহকে বাধাগ্রস...</td>\n",
              "    </tr>\n",
              "    <tr>\n",
              "      <th>3</th>\n",
              "      <td>3</td>\n",
              "      <td>চুরি নয় লুটপাট।</td>\n",
              "      <td>negative</td>\n",
              "      <td>চুরি লুটপাট</td>\n",
              "    </tr>\n",
              "    <tr>\n",
              "      <th>4</th>\n",
              "      <td>4</td>\n",
              "      <td>ইসলামী ব্যাংকের বর্তমান অবস্থা দেখে মনে হয় শাস...</td>\n",
              "      <td>neutral</td>\n",
              "      <td>ইসলামী ব্যাংকের বর্তমান অবস্থা শাসক জামাতের সা...</td>\n",
              "    </tr>\n",
              "    <tr>\n",
              "      <th>...</th>\n",
              "      <td>...</td>\n",
              "      <td>...</td>\n",
              "      <td>...</td>\n",
              "      <td>...</td>\n",
              "    </tr>\n",
              "    <tr>\n",
              "      <th>8061</th>\n",
              "      <td>8061</td>\n",
              "      <td>এইতো সময় মতো মনে করে দিলেন! এখনতো বাড়বেই।</td>\n",
              "      <td>neutral</td>\n",
              "      <td>এইতো সময় এখনতো বাড়বেই</td>\n",
              "    </tr>\n",
              "    <tr>\n",
              "      <th>8062</th>\n",
              "      <td>8062</td>\n",
              "      <td>সেই ১৯৫৩ সাল থেকে ফাঁটা বাশ বেজেই যাচ্ছে। নাদে...</td>\n",
              "      <td>neutral</td>\n",
              "      <td>১৯৫৩ সাল ফাঁটা বাশ বেজেই নাদের আলী বড় হব</td>\n",
              "    </tr>\n",
              "    <tr>\n",
              "      <th>8063</th>\n",
              "      <td>8063</td>\n",
              "      <td>তাই নাকি অলরেডি বেড়ে গেছে।</td>\n",
              "      <td>neutral</td>\n",
              "      <td>অলরেডি বেড়ে</td>\n",
              "    </tr>\n",
              "    <tr>\n",
              "      <th>8064</th>\n",
              "      <td>8064</td>\n",
              "      <td>লুটপাট চলছে, চলবেই। পারলে ঠেকাও। না পারলে চুপ ...</td>\n",
              "      <td>neutral</td>\n",
              "      <td>লুটপাট চলছে চলবেই পারলে ঠেকাও পারলে চুপ থাকো</td>\n",
              "    </tr>\n",
              "    <tr>\n",
              "      <th>8065</th>\n",
              "      <td>8065</td>\n",
              "      <td>তারেক আর খাম্বা মামুনের নাম জপ করতে করতে আরো ৫...</td>\n",
              "      <td>neutral</td>\n",
              "      <td>তারেক খাম্বা মামুনের নাম জপ আরো ৫ বছর পার</td>\n",
              "    </tr>\n",
              "  </tbody>\n",
              "</table>\n",
              "<p>8066 rows × 4 columns</p>\n",
              "</div>\n",
              "      <button class=\"colab-df-convert\" onclick=\"convertToInteractive('df-fe7e64fc-c092-418b-bb09-2c02dba6200f')\"\n",
              "              title=\"Convert this dataframe to an interactive table.\"\n",
              "              style=\"display:none;\">\n",
              "        \n",
              "  <svg xmlns=\"http://www.w3.org/2000/svg\" height=\"24px\"viewBox=\"0 0 24 24\"\n",
              "       width=\"24px\">\n",
              "    <path d=\"M0 0h24v24H0V0z\" fill=\"none\"/>\n",
              "    <path d=\"M18.56 5.44l.94 2.06.94-2.06 2.06-.94-2.06-.94-.94-2.06-.94 2.06-2.06.94zm-11 1L8.5 8.5l.94-2.06 2.06-.94-2.06-.94L8.5 2.5l-.94 2.06-2.06.94zm10 10l.94 2.06.94-2.06 2.06-.94-2.06-.94-.94-2.06-.94 2.06-2.06.94z\"/><path d=\"M17.41 7.96l-1.37-1.37c-.4-.4-.92-.59-1.43-.59-.52 0-1.04.2-1.43.59L10.3 9.45l-7.72 7.72c-.78.78-.78 2.05 0 2.83L4 21.41c.39.39.9.59 1.41.59.51 0 1.02-.2 1.41-.59l7.78-7.78 2.81-2.81c.8-.78.8-2.07 0-2.86zM5.41 20L4 18.59l7.72-7.72 1.47 1.35L5.41 20z\"/>\n",
              "  </svg>\n",
              "      </button>\n",
              "      \n",
              "  <style>\n",
              "    .colab-df-container {\n",
              "      display:flex;\n",
              "      flex-wrap:wrap;\n",
              "      gap: 12px;\n",
              "    }\n",
              "\n",
              "    .colab-df-convert {\n",
              "      background-color: #E8F0FE;\n",
              "      border: none;\n",
              "      border-radius: 50%;\n",
              "      cursor: pointer;\n",
              "      display: none;\n",
              "      fill: #1967D2;\n",
              "      height: 32px;\n",
              "      padding: 0 0 0 0;\n",
              "      width: 32px;\n",
              "    }\n",
              "\n",
              "    .colab-df-convert:hover {\n",
              "      background-color: #E2EBFA;\n",
              "      box-shadow: 0px 1px 2px rgba(60, 64, 67, 0.3), 0px 1px 3px 1px rgba(60, 64, 67, 0.15);\n",
              "      fill: #174EA6;\n",
              "    }\n",
              "\n",
              "    [theme=dark] .colab-df-convert {\n",
              "      background-color: #3B4455;\n",
              "      fill: #D2E3FC;\n",
              "    }\n",
              "\n",
              "    [theme=dark] .colab-df-convert:hover {\n",
              "      background-color: #434B5C;\n",
              "      box-shadow: 0px 1px 3px 1px rgba(0, 0, 0, 0.15);\n",
              "      filter: drop-shadow(0px 1px 2px rgba(0, 0, 0, 0.3));\n",
              "      fill: #FFFFFF;\n",
              "    }\n",
              "  </style>\n",
              "\n",
              "      <script>\n",
              "        const buttonEl =\n",
              "          document.querySelector('#df-fe7e64fc-c092-418b-bb09-2c02dba6200f button.colab-df-convert');\n",
              "        buttonEl.style.display =\n",
              "          google.colab.kernel.accessAllowed ? 'block' : 'none';\n",
              "\n",
              "        async function convertToInteractive(key) {\n",
              "          const element = document.querySelector('#df-fe7e64fc-c092-418b-bb09-2c02dba6200f');\n",
              "          const dataTable =\n",
              "            await google.colab.kernel.invokeFunction('convertToInteractive',\n",
              "                                                     [key], {});\n",
              "          if (!dataTable) return;\n",
              "\n",
              "          const docLinkHtml = 'Like what you see? Visit the ' +\n",
              "            '<a target=\"_blank\" href=https://colab.research.google.com/notebooks/data_table.ipynb>data table notebook</a>'\n",
              "            + ' to learn more about interactive tables.';\n",
              "          element.innerHTML = '';\n",
              "          dataTable['output_type'] = 'display_data';\n",
              "          await google.colab.output.renderOutput(dataTable, element);\n",
              "          const docLink = document.createElement('div');\n",
              "          docLink.innerHTML = docLinkHtml;\n",
              "          element.appendChild(docLink);\n",
              "        }\n",
              "      </script>\n",
              "    </div>\n",
              "  </div>\n",
              "  "
            ]
          },
          "metadata": {},
          "execution_count": 187
        }
      ],
      "source": [
        "data"
      ]
    },
    {
      "cell_type": "code",
      "execution_count": null,
      "metadata": {
        "id": "BLh9cTsGJPFI"
      },
      "outputs": [],
      "source": [
        "data['length'] = data['cleaned'].apply(lambda x:len(x.split()))\n",
        "\n",
        "# Remove the reviews with least words\n",
        "dataset = data.loc[data.length>2]\n",
        "dataset = data.reset_index(drop = True)"
      ]
    },
    {
      "cell_type": "code",
      "execution_count": null,
      "metadata": {
        "colab": {
          "base_uri": "https://localhost:8080/"
        },
        "id": "m7G9OISLJVKZ",
        "outputId": "2b1239e1-02b9-4adb-b859-e4a7b1946064"
      },
      "outputs": [
        {
          "output_type": "stream",
          "name": "stdout",
          "text": [
            "After Cleaning: \n",
            "Removed 0 Small Reviews \n",
            "Total Reviews: 8066\n"
          ]
        }
      ],
      "source": [
        "print(\"After Cleaning:\",\"\\nRemoved {} Small Reviews\".format(len(data)-len(dataset)),\n",
        "      \"\\nTotal Reviews:\",len(dataset))"
      ]
    },
    {
      "cell_type": "code",
      "execution_count": null,
      "metadata": {
        "colab": {
          "base_uri": "https://localhost:8080/"
        },
        "id": "ZXDkfzH1Lydr",
        "outputId": "7678777d-8b3f-4d95-d3fb-6fc47803ab67"
      },
      "outputs": [
        {
          "output_type": "stream",
          "name": "stdout",
          "text": [
            "Maximum Length of a Review: 76\n",
            "Minimum Length of a Review: 0\n",
            "Average Length of a Review: 13.0\n"
          ]
        }
      ],
      "source": [
        "print(\"Maximum Length of a Review:\",max(dataset.length))\n",
        "print(\"Minimum Length of a Review:\", min(dataset.length))\n",
        "print(\"Average Length of a Review:\",round(np.mean(dataset.length),0))"
      ]
    },
    {
      "cell_type": "code",
      "execution_count": null,
      "metadata": {
        "colab": {
          "base_uri": "https://localhost:8080/",
          "height": 206
        },
        "id": "81t50CQMMZ_3",
        "outputId": "6ca15edb-f8f6-4cd4-a962-04ef75cf618d"
      },
      "outputs": [
        {
          "output_type": "execute_result",
          "data": {
            "text/plain": [
              "                                             cleaned     label\n",
              "0            লিখার সময় পারলে সত্য লিখার অভ্যাস শিখুন  negative\n",
              "1  সংশ্লিষ্ট সকলের ডিপ্রেশনের সরকার মনোনিত পরিচাল...  negative\n",
              "2  দেশের স্বাভাবিক অর্থনৈতিক গতিপ্রবাহকে বাধাগ্রস...  negative\n",
              "3                                        চুরি লুটপাট  negative\n",
              "4  ইসলামী ব্যাংকের বর্তমান অবস্থা শাসক জামাতের সা...   neutral"
            ],
            "text/html": [
              "\n",
              "  <div id=\"df-7937d5e5-5dee-425e-a095-241535c937c7\">\n",
              "    <div class=\"colab-df-container\">\n",
              "      <div>\n",
              "<style scoped>\n",
              "    .dataframe tbody tr th:only-of-type {\n",
              "        vertical-align: middle;\n",
              "    }\n",
              "\n",
              "    .dataframe tbody tr th {\n",
              "        vertical-align: top;\n",
              "    }\n",
              "\n",
              "    .dataframe thead th {\n",
              "        text-align: right;\n",
              "    }\n",
              "</style>\n",
              "<table border=\"1\" class=\"dataframe\">\n",
              "  <thead>\n",
              "    <tr style=\"text-align: right;\">\n",
              "      <th></th>\n",
              "      <th>cleaned</th>\n",
              "      <th>label</th>\n",
              "    </tr>\n",
              "  </thead>\n",
              "  <tbody>\n",
              "    <tr>\n",
              "      <th>0</th>\n",
              "      <td>লিখার সময় পারলে সত্য লিখার অভ্যাস শিখুন</td>\n",
              "      <td>negative</td>\n",
              "    </tr>\n",
              "    <tr>\n",
              "      <th>1</th>\n",
              "      <td>সংশ্লিষ্ট সকলের ডিপ্রেশনের সরকার মনোনিত পরিচাল...</td>\n",
              "      <td>negative</td>\n",
              "    </tr>\n",
              "    <tr>\n",
              "      <th>2</th>\n",
              "      <td>দেশের স্বাভাবিক অর্থনৈতিক গতিপ্রবাহকে বাধাগ্রস...</td>\n",
              "      <td>negative</td>\n",
              "    </tr>\n",
              "    <tr>\n",
              "      <th>3</th>\n",
              "      <td>চুরি লুটপাট</td>\n",
              "      <td>negative</td>\n",
              "    </tr>\n",
              "    <tr>\n",
              "      <th>4</th>\n",
              "      <td>ইসলামী ব্যাংকের বর্তমান অবস্থা শাসক জামাতের সা...</td>\n",
              "      <td>neutral</td>\n",
              "    </tr>\n",
              "  </tbody>\n",
              "</table>\n",
              "</div>\n",
              "      <button class=\"colab-df-convert\" onclick=\"convertToInteractive('df-7937d5e5-5dee-425e-a095-241535c937c7')\"\n",
              "              title=\"Convert this dataframe to an interactive table.\"\n",
              "              style=\"display:none;\">\n",
              "        \n",
              "  <svg xmlns=\"http://www.w3.org/2000/svg\" height=\"24px\"viewBox=\"0 0 24 24\"\n",
              "       width=\"24px\">\n",
              "    <path d=\"M0 0h24v24H0V0z\" fill=\"none\"/>\n",
              "    <path d=\"M18.56 5.44l.94 2.06.94-2.06 2.06-.94-2.06-.94-.94-2.06-.94 2.06-2.06.94zm-11 1L8.5 8.5l.94-2.06 2.06-.94-2.06-.94L8.5 2.5l-.94 2.06-2.06.94zm10 10l.94 2.06.94-2.06 2.06-.94-2.06-.94-.94-2.06-.94 2.06-2.06.94z\"/><path d=\"M17.41 7.96l-1.37-1.37c-.4-.4-.92-.59-1.43-.59-.52 0-1.04.2-1.43.59L10.3 9.45l-7.72 7.72c-.78.78-.78 2.05 0 2.83L4 21.41c.39.39.9.59 1.41.59.51 0 1.02-.2 1.41-.59l7.78-7.78 2.81-2.81c.8-.78.8-2.07 0-2.86zM5.41 20L4 18.59l7.72-7.72 1.47 1.35L5.41 20z\"/>\n",
              "  </svg>\n",
              "      </button>\n",
              "      \n",
              "  <style>\n",
              "    .colab-df-container {\n",
              "      display:flex;\n",
              "      flex-wrap:wrap;\n",
              "      gap: 12px;\n",
              "    }\n",
              "\n",
              "    .colab-df-convert {\n",
              "      background-color: #E8F0FE;\n",
              "      border: none;\n",
              "      border-radius: 50%;\n",
              "      cursor: pointer;\n",
              "      display: none;\n",
              "      fill: #1967D2;\n",
              "      height: 32px;\n",
              "      padding: 0 0 0 0;\n",
              "      width: 32px;\n",
              "    }\n",
              "\n",
              "    .colab-df-convert:hover {\n",
              "      background-color: #E2EBFA;\n",
              "      box-shadow: 0px 1px 2px rgba(60, 64, 67, 0.3), 0px 1px 3px 1px rgba(60, 64, 67, 0.15);\n",
              "      fill: #174EA6;\n",
              "    }\n",
              "\n",
              "    [theme=dark] .colab-df-convert {\n",
              "      background-color: #3B4455;\n",
              "      fill: #D2E3FC;\n",
              "    }\n",
              "\n",
              "    [theme=dark] .colab-df-convert:hover {\n",
              "      background-color: #434B5C;\n",
              "      box-shadow: 0px 1px 3px 1px rgba(0, 0, 0, 0.15);\n",
              "      filter: drop-shadow(0px 1px 2px rgba(0, 0, 0, 0.3));\n",
              "      fill: #FFFFFF;\n",
              "    }\n",
              "  </style>\n",
              "\n",
              "      <script>\n",
              "        const buttonEl =\n",
              "          document.querySelector('#df-7937d5e5-5dee-425e-a095-241535c937c7 button.colab-df-convert');\n",
              "        buttonEl.style.display =\n",
              "          google.colab.kernel.accessAllowed ? 'block' : 'none';\n",
              "\n",
              "        async function convertToInteractive(key) {\n",
              "          const element = document.querySelector('#df-7937d5e5-5dee-425e-a095-241535c937c7');\n",
              "          const dataTable =\n",
              "            await google.colab.kernel.invokeFunction('convertToInteractive',\n",
              "                                                     [key], {});\n",
              "          if (!dataTable) return;\n",
              "\n",
              "          const docLinkHtml = 'Like what you see? Visit the ' +\n",
              "            '<a target=\"_blank\" href=https://colab.research.google.com/notebooks/data_table.ipynb>data table notebook</a>'\n",
              "            + ' to learn more about interactive tables.';\n",
              "          element.innerHTML = '';\n",
              "          dataTable['output_type'] = 'display_data';\n",
              "          await google.colab.output.renderOutput(dataTable, element);\n",
              "          const docLink = document.createElement('div');\n",
              "          docLink.innerHTML = docLinkHtml;\n",
              "          element.appendChild(docLink);\n",
              "        }\n",
              "      </script>\n",
              "    </div>\n",
              "  </div>\n",
              "  "
            ]
          },
          "metadata": {},
          "execution_count": 191
        }
      ],
      "source": [
        "dataset=dataset[['cleaned','label']]\n",
        "dataset.head(5)"
      ]
    },
    {
      "cell_type": "code",
      "execution_count": null,
      "metadata": {
        "colab": {
          "base_uri": "https://localhost:8080/"
        },
        "id": "hd73ozCpMoVY",
        "outputId": "ba5a03ab-9551-4808-c129-78a3bf68fcfc"
      },
      "outputs": [
        {
          "output_type": "stream",
          "name": "stdout",
          "text": [
            "\n",
            "Class Name :  negative\n",
            "Number of Documents:3245\n",
            "Number of Words:44647\n",
            "Number of Unique Words:7592\n",
            "Most Frequent Words:\n",
            "\n",
            "টাকা\t592\n",
            "ব্যাংক\t301\n",
            "দেশের\t258\n",
            "দেশে\t223\n",
            "কথা\t219\n",
            "সরকার\t216\n",
            "হয়েছে\t216\n",
            "ব্যাংকের\t196\n",
            "দিয়ে\t184\n",
            "হয়ে\t177\n",
            "\n",
            "Class Name :  positive\n",
            "Number of Documents:2829\n",
            "Number of Words:37428\n",
            "Number of Unique Words:8483\n",
            "Most Frequent Words:\n",
            "\n",
            "দেশের\t212\n",
            "টাকা\t204\n",
            "ভালো\t190\n",
            "কথা\t174\n",
            "একটা\t159\n",
            "দেশ\t154\n",
            "হয়ে\t149\n",
            "সাথে\t143\n",
            "ভাল\t133\n",
            "যায়\t129\n",
            "\n",
            "Class Name :  neutral\n",
            "Number of Documents:1992\n",
            "Number of Words:25378\n",
            "Number of Unique Words:7496\n",
            "Most Frequent Words:\n",
            "\n",
            "টাকা\t214\n",
            "দেশের\t144\n",
            "কথা\t122\n",
            "হয়ে\t110\n",
            "হয়েছে\t100\n",
            "সরকার\t100\n",
            "ব্যাংক\t88\n",
            "দেশে\t88\n",
            "যায়\t84\n",
            "বাংলাদেশ\t84\n",
            "Total Number of Unique Words:16255\n"
          ]
        }
      ],
      "source": [
        "#Dataset Summary\n",
        "\n",
        "def data_summary(dataset):\n",
        "    \n",
        "    documents = []\n",
        "    words = []\n",
        "    u_words = []\n",
        "    total_u_words = [word.strip() for t in list(dataset.cleaned) for word in t.strip().split()]\n",
        "    class_label= [k for k,v in dataset.label.value_counts().to_dict().items()]\n",
        "  # find word list\n",
        "    for label in class_label: \n",
        "        word_list = [word.strip() for t in list(dataset[dataset.label==label].cleaned) for word in t.strip().split()]\n",
        "        counts = dict()\n",
        "        for word in word_list:\n",
        "                counts[word] = counts.get(word, 0)+1\n",
        "                \n",
        "        # sort the dictionary of word list  \n",
        "        ordered = sorted(counts.items(), key= lambda item: item[1],reverse = True)\n",
        "        \n",
        "        # Documents per class\n",
        "        documents.append(len(list(dataset[dataset.label==label].cleaned)))\n",
        "        \n",
        "        # Total Word per class\n",
        "        words.append(len(word_list))\n",
        "        \n",
        "        # Unique words per class \n",
        "        u_words.append(len(np.unique(word_list)))\n",
        "       \n",
        "        print(\"\\nClass Name : \",label)\n",
        "        print(\"Number of Documents:{}\".format(len(list(dataset[dataset.label==label].cleaned))))  \n",
        "        print(\"Number of Words:{}\".format(len(word_list))) \n",
        "        print(\"Number of Unique Words:{}\".format(len(np.unique(word_list)))) \n",
        "        print(\"Most Frequent Words:\\n\")\n",
        "        for k,v in ordered[:10]:\n",
        "              print(\"{}\\t{}\".format(k,v))\n",
        "                \n",
        "    print(\"Total Number of Unique Words:{}\".format(len(np.unique(total_u_words))))           \n",
        "   \n",
        "    return documents,words,u_words,class_label\n",
        "\n",
        "\n",
        "documents,words,u_words,class_names = data_summary(dataset)   "
      ]
    },
    {
      "cell_type": "code",
      "execution_count": null,
      "metadata": {
        "colab": {
          "base_uri": "https://localhost:8080/",
          "height": 206
        },
        "id": "keac2wXPNInJ",
        "outputId": "e16a4b3e-266f-4174-afda-cc916d6345a8"
      },
      "outputs": [
        {
          "output_type": "execute_result",
          "data": {
            "text/plain": [
              "                                             cleaned  label\n",
              "0            লিখার সময় পারলে সত্য লিখার অভ্যাস শিখুন      0\n",
              "1  সংশ্লিষ্ট সকলের ডিপ্রেশনের সরকার মনোনিত পরিচাল...      0\n",
              "2  দেশের স্বাভাবিক অর্থনৈতিক গতিপ্রবাহকে বাধাগ্রস...      0\n",
              "3                                        চুরি লুটপাট      0\n",
              "4  ইসলামী ব্যাংকের বর্তমান অবস্থা শাসক জামাতের সা...      2"
            ],
            "text/html": [
              "\n",
              "  <div id=\"df-ed039d3a-0bc6-4b07-a02b-98569d307a4d\">\n",
              "    <div class=\"colab-df-container\">\n",
              "      <div>\n",
              "<style scoped>\n",
              "    .dataframe tbody tr th:only-of-type {\n",
              "        vertical-align: middle;\n",
              "    }\n",
              "\n",
              "    .dataframe tbody tr th {\n",
              "        vertical-align: top;\n",
              "    }\n",
              "\n",
              "    .dataframe thead th {\n",
              "        text-align: right;\n",
              "    }\n",
              "</style>\n",
              "<table border=\"1\" class=\"dataframe\">\n",
              "  <thead>\n",
              "    <tr style=\"text-align: right;\">\n",
              "      <th></th>\n",
              "      <th>cleaned</th>\n",
              "      <th>label</th>\n",
              "    </tr>\n",
              "  </thead>\n",
              "  <tbody>\n",
              "    <tr>\n",
              "      <th>0</th>\n",
              "      <td>লিখার সময় পারলে সত্য লিখার অভ্যাস শিখুন</td>\n",
              "      <td>0</td>\n",
              "    </tr>\n",
              "    <tr>\n",
              "      <th>1</th>\n",
              "      <td>সংশ্লিষ্ট সকলের ডিপ্রেশনের সরকার মনোনিত পরিচাল...</td>\n",
              "      <td>0</td>\n",
              "    </tr>\n",
              "    <tr>\n",
              "      <th>2</th>\n",
              "      <td>দেশের স্বাভাবিক অর্থনৈতিক গতিপ্রবাহকে বাধাগ্রস...</td>\n",
              "      <td>0</td>\n",
              "    </tr>\n",
              "    <tr>\n",
              "      <th>3</th>\n",
              "      <td>চুরি লুটপাট</td>\n",
              "      <td>0</td>\n",
              "    </tr>\n",
              "    <tr>\n",
              "      <th>4</th>\n",
              "      <td>ইসলামী ব্যাংকের বর্তমান অবস্থা শাসক জামাতের সা...</td>\n",
              "      <td>2</td>\n",
              "    </tr>\n",
              "  </tbody>\n",
              "</table>\n",
              "</div>\n",
              "      <button class=\"colab-df-convert\" onclick=\"convertToInteractive('df-ed039d3a-0bc6-4b07-a02b-98569d307a4d')\"\n",
              "              title=\"Convert this dataframe to an interactive table.\"\n",
              "              style=\"display:none;\">\n",
              "        \n",
              "  <svg xmlns=\"http://www.w3.org/2000/svg\" height=\"24px\"viewBox=\"0 0 24 24\"\n",
              "       width=\"24px\">\n",
              "    <path d=\"M0 0h24v24H0V0z\" fill=\"none\"/>\n",
              "    <path d=\"M18.56 5.44l.94 2.06.94-2.06 2.06-.94-2.06-.94-.94-2.06-.94 2.06-2.06.94zm-11 1L8.5 8.5l.94-2.06 2.06-.94-2.06-.94L8.5 2.5l-.94 2.06-2.06.94zm10 10l.94 2.06.94-2.06 2.06-.94-2.06-.94-.94-2.06-.94 2.06-2.06.94z\"/><path d=\"M17.41 7.96l-1.37-1.37c-.4-.4-.92-.59-1.43-.59-.52 0-1.04.2-1.43.59L10.3 9.45l-7.72 7.72c-.78.78-.78 2.05 0 2.83L4 21.41c.39.39.9.59 1.41.59.51 0 1.02-.2 1.41-.59l7.78-7.78 2.81-2.81c.8-.78.8-2.07 0-2.86zM5.41 20L4 18.59l7.72-7.72 1.47 1.35L5.41 20z\"/>\n",
              "  </svg>\n",
              "      </button>\n",
              "      \n",
              "  <style>\n",
              "    .colab-df-container {\n",
              "      display:flex;\n",
              "      flex-wrap:wrap;\n",
              "      gap: 12px;\n",
              "    }\n",
              "\n",
              "    .colab-df-convert {\n",
              "      background-color: #E8F0FE;\n",
              "      border: none;\n",
              "      border-radius: 50%;\n",
              "      cursor: pointer;\n",
              "      display: none;\n",
              "      fill: #1967D2;\n",
              "      height: 32px;\n",
              "      padding: 0 0 0 0;\n",
              "      width: 32px;\n",
              "    }\n",
              "\n",
              "    .colab-df-convert:hover {\n",
              "      background-color: #E2EBFA;\n",
              "      box-shadow: 0px 1px 2px rgba(60, 64, 67, 0.3), 0px 1px 3px 1px rgba(60, 64, 67, 0.15);\n",
              "      fill: #174EA6;\n",
              "    }\n",
              "\n",
              "    [theme=dark] .colab-df-convert {\n",
              "      background-color: #3B4455;\n",
              "      fill: #D2E3FC;\n",
              "    }\n",
              "\n",
              "    [theme=dark] .colab-df-convert:hover {\n",
              "      background-color: #434B5C;\n",
              "      box-shadow: 0px 1px 3px 1px rgba(0, 0, 0, 0.15);\n",
              "      filter: drop-shadow(0px 1px 2px rgba(0, 0, 0, 0.3));\n",
              "      fill: #FFFFFF;\n",
              "    }\n",
              "  </style>\n",
              "\n",
              "      <script>\n",
              "        const buttonEl =\n",
              "          document.querySelector('#df-ed039d3a-0bc6-4b07-a02b-98569d307a4d button.colab-df-convert');\n",
              "        buttonEl.style.display =\n",
              "          google.colab.kernel.accessAllowed ? 'block' : 'none';\n",
              "\n",
              "        async function convertToInteractive(key) {\n",
              "          const element = document.querySelector('#df-ed039d3a-0bc6-4b07-a02b-98569d307a4d');\n",
              "          const dataTable =\n",
              "            await google.colab.kernel.invokeFunction('convertToInteractive',\n",
              "                                                     [key], {});\n",
              "          if (!dataTable) return;\n",
              "\n",
              "          const docLinkHtml = 'Like what you see? Visit the ' +\n",
              "            '<a target=\"_blank\" href=https://colab.research.google.com/notebooks/data_table.ipynb>data table notebook</a>'\n",
              "            + ' to learn more about interactive tables.';\n",
              "          element.innerHTML = '';\n",
              "          dataTable['output_type'] = 'display_data';\n",
              "          await google.colab.output.renderOutput(dataTable, element);\n",
              "          const docLink = document.createElement('div');\n",
              "          docLink.innerHTML = docLinkHtml;\n",
              "          element.appendChild(docLink);\n",
              "        }\n",
              "      </script>\n",
              "    </div>\n",
              "  </div>\n",
              "  "
            ]
          },
          "metadata": {},
          "execution_count": 193
        }
      ],
      "source": [
        "dataset['label']=dataset['label'].replace({'positive':1,'negative':0,'neutral':2})\n",
        "dataset.head()"
      ]
    },
    {
      "cell_type": "code",
      "execution_count": null,
      "metadata": {
        "colab": {
          "base_uri": "https://localhost:8080/"
        },
        "id": "0mAR6w4NNMa_",
        "outputId": "505da1bd-023c-4d28-be33-4665dde337c4"
      },
      "outputs": [
        {
          "output_type": "execute_result",
          "data": {
            "text/plain": [
              "0       0\n",
              "1       0\n",
              "2       0\n",
              "3       0\n",
              "4       2\n",
              "       ..\n",
              "8061    2\n",
              "8062    2\n",
              "8063    2\n",
              "8064    2\n",
              "8065    2\n",
              "Name: label, Length: 8066, dtype: int64"
            ]
          },
          "metadata": {},
          "execution_count": 194
        }
      ],
      "source": [
        "labels=dataset.label\n",
        "labels"
      ]
    },
    {
      "cell_type": "code",
      "execution_count": null,
      "metadata": {
        "colab": {
          "base_uri": "https://localhost:8080/"
        },
        "id": "ac5pK_3ENQAY",
        "outputId": "29e6d915-d01d-48d4-d13b-cd732f6091f3"
      },
      "outputs": [
        {
          "output_type": "stream",
          "name": "stdout",
          "text": [
            "Shape of TF-IDF: (8066, 16255) \n",
            "\n"
          ]
        }
      ],
      "source": [
        "from sklearn.feature_extraction.text import TfidfVectorizer\n",
        "tfidf1 = TfidfVectorizer(ngram_range=(1,1),use_idf=True,tokenizer=lambda x: x.split()) \n",
        "X = tfidf1.fit_transform(dataset['cleaned'])\n",
        "y=dataset['label']\n",
        "print(\"Shape of TF-IDF:\",X.shape,'\\n')"
      ]
    },
    {
      "cell_type": "code",
      "execution_count": null,
      "metadata": {
        "colab": {
          "base_uri": "https://localhost:8080/"
        },
        "id": "ub52eeZPf6wK",
        "outputId": "b7a6e05d-76b2-4402-fe64-ea9526c8113b"
      },
      "outputs": [
        {
          "output_type": "execute_result",
          "data": {
            "text/plain": [
              "0       0\n",
              "1       0\n",
              "2       0\n",
              "3       0\n",
              "4       2\n",
              "       ..\n",
              "8061    2\n",
              "8062    2\n",
              "8063    2\n",
              "8064    2\n",
              "8065    2\n",
              "Name: label, Length: 8066, dtype: int64"
            ]
          },
          "metadata": {},
          "execution_count": 196
        }
      ],
      "source": [
        "y"
      ]
    },
    {
      "cell_type": "code",
      "execution_count": null,
      "metadata": {
        "id": "p5u7BeNXNWFH"
      },
      "outputs": [],
      "source": [
        "from imblearn.over_sampling import SMOTE\n",
        "from collections import Counter\n",
        "from matplotlib import pyplot"
      ]
    },
    {
      "cell_type": "code",
      "execution_count": null,
      "metadata": {
        "id": "4l9hmtHKNaoo"
      },
      "outputs": [],
      "source": [
        "oversample = SMOTE()\n",
        "X, y = oversample.fit_resample(X, y)"
      ]
    },
    {
      "cell_type": "code",
      "execution_count": null,
      "metadata": {
        "colab": {
          "base_uri": "https://localhost:8080/",
          "height": 325
        },
        "id": "7HPtB_OiNcMJ",
        "outputId": "2c340748-0a23-4cf6-e498-b61f54b4d2ec"
      },
      "outputs": [
        {
          "output_type": "stream",
          "name": "stdout",
          "text": [
            "Class=0, n=3245 (33.333%)\n",
            "Class=2, n=3245 (33.333%)\n",
            "Class=1, n=3245 (33.333%)\n"
          ]
        },
        {
          "output_type": "display_data",
          "data": {
            "text/plain": [
              "<Figure size 432x288 with 1 Axes>"
            ],
            "image/png": "[encoded data removed]"
          },
          "metadata": {}
        }
      ],
      "source": [
        "counter = Counter(y)\n",
        "for k,v in counter.items():\n",
        "    per = v / len(y) * 100\n",
        "    print('Class=%d, n=%d (%.3f%%)' % (k, v, per))\n",
        "pyplot.bar(counter.keys(), counter.values())\n",
        "pyplot.show()"
      ]
    },
    {
      "cell_type": "code",
      "execution_count": null,
      "metadata": {
        "colab": {
          "base_uri": "https://localhost:8080/"
        },
        "id": "EDhwTW4qNgEQ",
        "outputId": "1411427e-d3e5-4ffa-b627-7c19facd8dd1"
      },
      "outputs": [
        {
          "output_type": "stream",
          "name": "stdout",
          "text": [
            "Sample Review:  দারুণ মানিয়েছে তোমাদের শুভকামনা\t\n",
            "             tfidf\n",
            "দারুণ     0.588138\n",
            "শুভকামনা  0.576812\n",
            "তোমাদের   0.566905\n",
            "ঁটি       0.000000\n"
          ]
        }
      ],
      "source": [
        "review='দারুণ মানিয়েছে তোমাদের শুভকামনা\t'\n",
        "print(\"Sample Review: \",review)\n",
        "vector = tfidf1.transform([review])\n",
        "df = pd.DataFrame(vector.T.todense(), index=tfidf1.get_feature_names(), columns=[\"tfidf\"])\n",
        "a = df.sort_values(by=[\"tfidf\"],ascending=False)\n",
        "print(a[0:len(review.split())])"
      ]
    },
    {
      "cell_type": "code",
      "execution_count": null,
      "metadata": {
        "colab": {
          "base_uri": "https://localhost:8080/"
        },
        "id": "HeXIE7VZNjtf",
        "outputId": "9bf23d08-ed9a-47a2-9201-bd1e60dd2cbd"
      },
      "outputs": [
        {
          "output_type": "stream",
          "name": "stdout",
          "text": [
            "Shape of X_train: (7788, 16255)\n",
            "Shape of X_test: (1947, 16255)\n",
            "Shape of Y_train: (7788,)\n",
            "Shape of Y_test: (1947,)\n"
          ]
        }
      ],
      "source": [
        "from sklearn.model_selection import train_test_split\n",
        "xtrain,xtest,ytrain,ytest = train_test_split(X,y,train_size = 0.8, test_size = 0.2,random_state =500)\n",
        "\n",
        "print('Shape of X_train:', xtrain.shape)\n",
        "print('Shape of X_test:', xtest.shape)\n",
        "print('Shape of Y_train:', ytrain.shape)\n",
        "print('Shape of Y_test:', ytest.shape)"
      ]
    },
    {
      "cell_type": "code",
      "execution_count": null,
      "metadata": {
        "id": "Kra9ti33NnH4"
      },
      "outputs": [],
      "source": [
        "from sklearn.naive_bayes import MultinomialNB\n",
        "from sklearn.neighbors import KNeighborsClassifier\n",
        "from sklearn.svm import SVC\n",
        "from sklearn.tree import DecisionTreeClassifier\n",
        "from sklearn.ensemble import RandomForestClassifier\n",
        "from sklearn.tree import DecisionTreeClassifier"
      ]
    },
    {
      "cell_type": "code",
      "execution_count": null,
      "metadata": {
        "colab": {
          "base_uri": "https://localhost:8080/"
        },
        "id": "2QzybvVeNrIX",
        "outputId": "cbfd8c04-5b28-48bd-9b82-b4c2348598bc"
      },
      "outputs": [
        {
          "output_type": "stream",
          "name": "stdout",
          "text": [
            "Accuracy: 79.35%\n"
          ]
        }
      ],
      "source": [
        "mn= MultinomialNB()\n",
        "mn.fit(xtrain, ytrain)\n",
        "prediction = mn.predict(xtest)\n",
        "pred_prob1 = mn.predict_proba(xtest)\n",
        "print(\"Accuracy: {0:.2%}\".format(accuracy_score(prediction, ytest)))"
      ]
    },
    {
      "cell_type": "code",
      "execution_count": null,
      "metadata": {
        "colab": {
          "base_uri": "https://localhost:8080/"
        },
        "id": "ivygb-J5OO3Q",
        "outputId": "d7197928-8284-40f2-fe5c-2076558cd324"
      },
      "outputs": [
        {
          "output_type": "stream",
          "name": "stdout",
          "text": [
            "\n",
            "Classification Report\n",
            "\n",
            "              precision    recall  f1-score   support\n",
            "\n",
            "           0       0.78      0.86      0.82       652\n",
            "           1       0.78      0.80      0.79       633\n",
            "           2       0.83      0.73      0.77       662\n",
            "\n",
            "    accuracy                           0.79      1947\n",
            "   macro avg       0.80      0.79      0.79      1947\n",
            "weighted avg       0.80      0.79      0.79      1947\n",
            "\n"
          ]
        }
      ],
      "source": [
        "from sklearn.metrics import classification_report\n",
        "print('\\nClassification Report\\n')\n",
        "print(classification_report(ytest, prediction))"
      ]
    },
    {
      "cell_type": "code",
      "execution_count": null,
      "metadata": {
        "id": "8PVl-RgPOTDp"
      },
      "outputs": [],
      "source": [
        "from sklearn.metrics import confusion_matrix\n",
        "import seaborn as sns"
      ]
    },
    {
      "cell_type": "code",
      "execution_count": null,
      "metadata": {
        "colab": {
          "base_uri": "https://localhost:8080/",
          "height": 290
        },
        "id": "dTOh7otrOaof",
        "outputId": "6283214a-580a-4429-dbaf-2b82b1d3d293"
      },
      "outputs": [
        {
          "output_type": "execute_result",
          "data": {
            "text/plain": [
              "<matplotlib.axes._subplots.AxesSubplot at 0x7fb9abf8d410>"
            ]
          },
          "metadata": {},
          "execution_count": 206
        },
        {
          "output_type": "display_data",
          "data": {
            "text/plain": [
              "<Figure size 432x288 with 2 Axes>"
            ],
            "image/png": "[encoded data removed]"
          },
          "metadata": {}
        }
      ],
      "source": [
        "conf_m = confusion_matrix(ytest, prediction)\n",
        "sns.heatmap(conf_m, linewidths=1, annot=True, fmt='g')"
      ]
    },
    {
      "cell_type": "code",
      "execution_count": null,
      "metadata": {
        "id": "z7bwvmZrOcZv"
      },
      "outputs": [],
      "source": [
        "from sklearn.metrics import roc_curve\n",
        "from sklearn import metrics\n",
        "from sklearn.multiclass import OneVsRestClassifier"
      ]
    },
    {
      "cell_type": "code",
      "execution_count": null,
      "metadata": {
        "id": "ctrDQCS6OhnO"
      },
      "outputs": [],
      "source": [
        "fpr = {}\n",
        "tpr = {}\n",
        "thresh ={}\n",
        "n_class = 3"
      ]
    },
    {
      "cell_type": "code",
      "execution_count": null,
      "metadata": {
        "id": "Hvv3Pw-vOpNA"
      },
      "outputs": [],
      "source": [
        "for i in range(n_class):    \n",
        "    fpr[i], tpr[i], thresh[i] = roc_curve(ytest, pred_prob1[:,i], pos_label=i)"
      ]
    },
    {
      "cell_type": "code",
      "execution_count": null,
      "metadata": {
        "id": "rV5tP2LaOxS5"
      },
      "outputs": [],
      "source": [
        "pred_prob1 = mn.predict_proba(xtest)[:,1]"
      ]
    },
    {
      "cell_type": "code",
      "execution_count": null,
      "metadata": {
        "id": "pXxSHPzYO1YP"
      },
      "outputs": [],
      "source": [
        "fpr1 , tpr1, thresholds1 =metrics.roc_curve(ytest, pred_prob1,pos_label=1)"
      ]
    },
    {
      "cell_type": "code",
      "execution_count": null,
      "metadata": {
        "colab": {
          "base_uri": "https://localhost:8080/"
        },
        "id": "v-wXoywyO3jn",
        "outputId": "4e284f4d-a613-499b-bce0-c5ff6b2e70ff"
      },
      "outputs": [
        {
          "output_type": "stream",
          "name": "stdout",
          "text": [
            "Accuracy: 66.15%\n"
          ]
        }
      ],
      "source": [
        "knn= KNeighborsClassifier(n_neighbors=3, metric = 'minkowski')\n",
        "knn.fit(xtrain, ytrain)\n",
        "prediction = knn.predict(xtest)\n",
        "pred_prob2 = knn.predict_proba(xtest)\n",
        "print(\"Accuracy: {0:.2%}\".format(accuracy_score(prediction, ytest)))"
      ]
    },
    {
      "cell_type": "code",
      "execution_count": null,
      "metadata": {
        "colab": {
          "base_uri": "https://localhost:8080/"
        },
        "id": "QgdBFulcO5aa",
        "outputId": "f430f7be-1615-428e-bb14-9da11dce9292"
      },
      "outputs": [
        {
          "output_type": "stream",
          "name": "stdout",
          "text": [
            "\n",
            "Classification Report\n",
            "\n",
            "              precision    recall  f1-score   support\n",
            "\n",
            "           0       0.97      0.54      0.69       652\n",
            "           1       0.69      0.61      0.65       633\n",
            "           2       0.54      0.83      0.65       662\n",
            "\n",
            "    accuracy                           0.66      1947\n",
            "   macro avg       0.73      0.66      0.66      1947\n",
            "weighted avg       0.73      0.66      0.66      1947\n",
            "\n"
          ]
        }
      ],
      "source": [
        "from sklearn.metrics import classification_report\n",
        "print('\\nClassification Report\\n')\n",
        "print(classification_report(ytest, prediction))"
      ]
    },
    {
      "cell_type": "code",
      "execution_count": null,
      "metadata": {
        "colab": {
          "base_uri": "https://localhost:8080/",
          "height": 290
        },
        "id": "3pExP2NyO-OB",
        "outputId": "c3bd3bb1-2c99-41d1-c39e-64ac2965debb"
      },
      "outputs": [
        {
          "output_type": "execute_result",
          "data": {
            "text/plain": [
              "<matplotlib.axes._subplots.AxesSubplot at 0x7fb9ac270110>"
            ]
          },
          "metadata": {},
          "execution_count": 214
        },
        {
          "output_type": "display_data",
          "data": {
            "text/plain": [
              "<Figure size 432x288 with 2 Axes>"
            ],
            "image/png": "[encoded data removed]"
          },
          "metadata": {}
        }
      ],
      "source": [
        "conf_m = confusion_matrix(ytest, prediction)\n",
        "sns.heatmap(conf_m, linewidths=1, annot=True, fmt='g')"
      ]
    },
    {
      "cell_type": "code",
      "execution_count": null,
      "metadata": {
        "id": "mZjjHxnvPAhX"
      },
      "outputs": [],
      "source": [
        "pred_prob2 = knn.predict_proba(xtest)[:,1]\n",
        "fpr2 , tpr2, thresholds2 =metrics.roc_curve(ytest, pred_prob2,pos_label=1)"
      ]
    },
    {
      "cell_type": "code",
      "execution_count": null,
      "metadata": {
        "colab": {
          "base_uri": "https://localhost:8080/"
        },
        "id": "_XbgcTsIPC0P",
        "outputId": "d129356c-f997-4363-fe9f-31f683644379"
      },
      "outputs": [
        {
          "output_type": "stream",
          "name": "stdout",
          "text": [
            "Accuracy: 83.15%\n"
          ]
        }
      ],
      "source": [
        "lsvm= SVC(kernel=\"linear\", probability=True)\n",
        "lsvm.fit(xtrain, ytrain)\n",
        "prediction = lsvm.predict(xtest)\n",
        "pred_prob3 = lsvm.predict_proba(xtest)\n",
        "print(\"Accuracy: {0:.2%}\".format(accuracy_score(prediction, ytest)))"
      ]
    },
    {
      "cell_type": "code",
      "execution_count": null,
      "metadata": {
        "colab": {
          "base_uri": "https://localhost:8080/"
        },
        "id": "T2JOB8iVPK_X",
        "outputId": "08b2a661-0926-442c-88bc-17881a2f9a8b"
      },
      "outputs": [
        {
          "output_type": "stream",
          "name": "stdout",
          "text": [
            "\n",
            "Classification Report\n",
            "\n",
            "              precision    recall  f1-score   support\n",
            "\n",
            "           0       0.86      0.84      0.85       652\n",
            "           1       0.84      0.81      0.82       633\n",
            "           2       0.80      0.85      0.82       662\n",
            "\n",
            "    accuracy                           0.83      1947\n",
            "   macro avg       0.83      0.83      0.83      1947\n",
            "weighted avg       0.83      0.83      0.83      1947\n",
            "\n"
          ]
        }
      ],
      "source": [
        "print('\\nClassification Report\\n')\n",
        "print(classification_report(ytest, prediction))"
      ]
    },
    {
      "cell_type": "code",
      "execution_count": null,
      "metadata": {
        "colab": {
          "base_uri": "https://localhost:8080/",
          "height": 290
        },
        "id": "XA-tsDESPNZg",
        "outputId": "4ce2792f-256d-4af0-ae76-d017e96c6e02"
      },
      "outputs": [
        {
          "output_type": "execute_result",
          "data": {
            "text/plain": [
              "<matplotlib.axes._subplots.AxesSubplot at 0x7fb9abfb2f90>"
            ]
          },
          "metadata": {},
          "execution_count": 218
        },
        {
          "output_type": "display_data",
          "data": {
            "text/plain": [
              "<Figure size 432x288 with 2 Axes>"
            ],
            "image/png": "[encoded data removed]"
          },
          "metadata": {}
        }
      ],
      "source": [
        "conf_m = confusion_matrix(ytest, prediction)\n",
        "sns.heatmap(conf_m, linewidths=1, annot=True, fmt='g')"
      ]
    },
    {
      "cell_type": "code",
      "execution_count": null,
      "metadata": {
        "id": "1sdcHokOPPTv"
      },
      "outputs": [],
      "source": [
        "pred_prob3 = mn.predict_proba(xtest)[:,1]\n",
        "fpr3 , tpr3, thresholds3 =metrics.roc_curve(ytest, pred_prob3,pos_label=1)"
      ]
    },
    {
      "cell_type": "code",
      "execution_count": null,
      "metadata": {
        "id": "aCUsfMQHPQnn",
        "colab": {
          "base_uri": "https://localhost:8080/"
        },
        "outputId": "5d2af6e3-f68a-48bd-a150-5cf48cbc2330"
      },
      "outputs": [
        {
          "output_type": "stream",
          "name": "stdout",
          "text": [
            "Accuracy: 87.42%\n"
          ]
        }
      ],
      "source": [
        "ksvm= SVC(kernel = 'rbf',probability=True)\n",
        "ksvm.fit(xtrain, ytrain)\n",
        "prediction = ksvm.predict(xtest)\n",
        "pred_prob4 = ksvm.predict_proba(xtest)\n",
        "print(\"Accuracy: {0:.2%}\".format(accuracy_score(prediction, ytest)))"
      ]
    },
    {
      "cell_type": "code",
      "execution_count": null,
      "metadata": {
        "id": "QqEN7cBnPS8R",
        "colab": {
          "base_uri": "https://localhost:8080/"
        },
        "outputId": "fc3fa809-3d60-4651-901e-0b165a7e5bd3"
      },
      "outputs": [
        {
          "output_type": "stream",
          "name": "stdout",
          "text": [
            "\n",
            "Classification Report\n",
            "\n",
            "              precision    recall  f1-score   support\n",
            "\n",
            "           0       0.91      0.90      0.90       652\n",
            "           1       0.83      0.88      0.85       633\n",
            "           2       0.89      0.85      0.87       662\n",
            "\n",
            "    accuracy                           0.87      1947\n",
            "   macro avg       0.87      0.87      0.87      1947\n",
            "weighted avg       0.88      0.87      0.87      1947\n",
            "\n"
          ]
        }
      ],
      "source": [
        "print('\\nClassification Report\\n')\n",
        "print(classification_report(ytest, prediction))"
      ]
    },
    {
      "cell_type": "code",
      "execution_count": null,
      "metadata": {
        "id": "b5X4YmCWPTdv",
        "colab": {
          "base_uri": "https://localhost:8080/",
          "height": 290
        },
        "outputId": "a7791a86-d55f-4c13-b9f1-6a595555ab87"
      },
      "outputs": [
        {
          "output_type": "execute_result",
          "data": {
            "text/plain": [
              "<matplotlib.axes._subplots.AxesSubplot at 0x7fb9ab1048d0>"
            ]
          },
          "metadata": {},
          "execution_count": 222
        },
        {
          "output_type": "display_data",
          "data": {
            "text/plain": [
              "<Figure size 432x288 with 2 Axes>"
            ],
            "image/png": "[encoded data removed]"
          },
          "metadata": {}
        }
      ],
      "source": [
        "conf_m = confusion_matrix(ytest, prediction)\n",
        "sns.heatmap(conf_m, linewidths=1, annot=True, fmt='g')"
      ]
    },
    {
      "cell_type": "code",
      "execution_count": null,
      "metadata": {
        "id": "505PxdjxPWti"
      },
      "outputs": [],
      "source": [
        "pred_prob4 = ksvm.predict_proba(xtest)[:,1]\n",
        "fpr4 , tpr4, thresholds4 =metrics.roc_curve(ytest, pred_prob4,pos_label=1)"
      ]
    },
    {
      "cell_type": "code",
      "execution_count": null,
      "metadata": {
        "id": "7_cJ9GLMPeGv",
        "colab": {
          "base_uri": "https://localhost:8080/"
        },
        "outputId": "756ae4ba-1b93-4caa-c4b8-3d6c9aa78f04"
      },
      "outputs": [
        {
          "output_type": "stream",
          "name": "stdout",
          "text": [
            "Accuracy: 81.61%\n"
          ]
        }
      ],
      "source": [
        "dt = DecisionTreeClassifier()\n",
        "dt.fit(xtrain, ytrain)\n",
        "prediction = dt.predict(xtest)\n",
        "pred_prob5 = dt.predict_proba(xtest)\n",
        "print(\"Accuracy: {0:.2%}\".format(accuracy_score(prediction, ytest)))"
      ]
    },
    {
      "cell_type": "code",
      "execution_count": null,
      "metadata": {
        "id": "rdpJUAq5QEaj",
        "colab": {
          "base_uri": "https://localhost:8080/"
        },
        "outputId": "45c2f3fd-b06a-4f88-a9a3-f7739a90de55"
      },
      "outputs": [
        {
          "output_type": "stream",
          "name": "stdout",
          "text": [
            "\n",
            "Classification Report\n",
            "\n",
            "              precision    recall  f1-score   support\n",
            "\n",
            "           0       0.82      0.86      0.84       652\n",
            "           1       0.82      0.78      0.80       633\n",
            "           2       0.80      0.81      0.80       662\n",
            "\n",
            "    accuracy                           0.82      1947\n",
            "   macro avg       0.82      0.82      0.82      1947\n",
            "weighted avg       0.82      0.82      0.82      1947\n",
            "\n"
          ]
        }
      ],
      "source": [
        "print('\\nClassification Report\\n')\n",
        "print(classification_report(ytest, prediction))"
      ]
    },
    {
      "cell_type": "code",
      "execution_count": null,
      "metadata": {
        "id": "c5o9Qll0QGZg",
        "colab": {
          "base_uri": "https://localhost:8080/",
          "height": 290
        },
        "outputId": "5a4d84e7-27f3-4fe2-f90f-96cb7462cf04"
      },
      "outputs": [
        {
          "output_type": "execute_result",
          "data": {
            "text/plain": [
              "<matplotlib.axes._subplots.AxesSubplot at 0x7fb9abccfa90>"
            ]
          },
          "metadata": {},
          "execution_count": 226
        },
        {
          "output_type": "display_data",
          "data": {
            "text/plain": [
              "<Figure size 432x288 with 2 Axes>"
            ],
            "image/png": "[encoded data removed]"
          },
          "metadata": {}
        }
      ],
      "source": [
        "conf_m = confusion_matrix(ytest, prediction)\n",
        "sns.heatmap(conf_m, linewidths=1, annot=True, fmt='g')"
      ]
    },
    {
      "cell_type": "code",
      "execution_count": null,
      "metadata": {
        "id": "TKCLS6SLQIpY"
      },
      "outputs": [],
      "source": [
        "pred_prob5 = dt.predict_proba(xtest)[:,1]\n",
        "fpr5 , tpr5, thresholds5 =metrics.roc_curve(ytest, pred_prob5,pos_label=1)"
      ]
    },
    {
      "cell_type": "code",
      "execution_count": null,
      "metadata": {
        "id": "3_NyAzeCQQ0I",
        "colab": {
          "base_uri": "https://localhost:8080/"
        },
        "outputId": "ebb92d95-b4c8-4886-bdb7-43e82d00a56a"
      },
      "outputs": [
        {
          "output_type": "stream",
          "name": "stdout",
          "text": [
            "Accuracy: 85.88%\n"
          ]
        }
      ],
      "source": [
        "rf = RandomForestClassifier(n_estimators=100, criterion ='entropy', random_state = 0)\n",
        "rf.fit(xtrain, ytrain)\n",
        "prediction = rf.predict(xtest)\n",
        "pred_prob6 = rf.predict_proba(xtest)\n",
        "print(\"Accuracy: {0:.2%}\".format(accuracy_score(prediction, ytest)))\n"
      ]
    },
    {
      "cell_type": "code",
      "execution_count": null,
      "metadata": {
        "id": "P6Vr-AILQZ8B",
        "colab": {
          "base_uri": "https://localhost:8080/"
        },
        "outputId": "645d78d7-5aa7-4c76-e3a4-8a70ed1c6657"
      },
      "outputs": [
        {
          "output_type": "stream",
          "name": "stdout",
          "text": [
            "\n",
            "Classification Report\n",
            "\n",
            "              precision    recall  f1-score   support\n",
            "\n",
            "           0       0.89      0.88      0.88       652\n",
            "           1       0.87      0.82      0.84       633\n",
            "           2       0.83      0.88      0.85       662\n",
            "\n",
            "    accuracy                           0.86      1947\n",
            "   macro avg       0.86      0.86      0.86      1947\n",
            "weighted avg       0.86      0.86      0.86      1947\n",
            "\n"
          ]
        }
      ],
      "source": [
        "print('\\nClassification Report\\n')\n",
        "print(classification_report(ytest, prediction))"
      ]
    },
    {
      "cell_type": "code",
      "execution_count": null,
      "metadata": {
        "id": "m5NL4R5EQcwP",
        "colab": {
          "base_uri": "https://localhost:8080/",
          "height": 290
        },
        "outputId": "de35d550-e8b8-4b99-f2a9-cdf36faf26bf"
      },
      "outputs": [
        {
          "output_type": "execute_result",
          "data": {
            "text/plain": [
              "<matplotlib.axes._subplots.AxesSubplot at 0x7fb9ae303150>"
            ]
          },
          "metadata": {},
          "execution_count": 230
        },
        {
          "output_type": "display_data",
          "data": {
            "text/plain": [
              "<Figure size 432x288 with 2 Axes>"
            ],
            "image/png": "[encoded data removed]"
          },
          "metadata": {}
        }
      ],
      "source": [
        "conf_m = confusion_matrix(ytest, prediction)\n",
        "sns.heatmap(conf_m, linewidths=1, annot=True, fmt='g')"
      ]
    },
    {
      "cell_type": "code",
      "execution_count": null,
      "metadata": {
        "id": "LIKLEyfVQeWX"
      },
      "outputs": [],
      "source": [
        "pred_prob6 = rf.predict_proba(xtest)[:,1]\n",
        "fpr6 , tpr6, thresholds6 =metrics.roc_curve(ytest, pred_prob6,pos_label=1)"
      ]
    },
    {
      "cell_type": "code",
      "execution_count": null,
      "metadata": {
        "id": "jzofRmdZQe4a",
        "colab": {
          "base_uri": "https://localhost:8080/",
          "height": 657
        },
        "outputId": "d9583590-b1e1-4d9c-8b6e-600b9fbfa86f"
      },
      "outputs": [
        {
          "output_type": "display_data",
          "data": {
            "text/plain": [
              "<Figure size 720x720 with 1 Axes>"
            ],
            "image/png": "[encoded data removed]"
          },
          "metadata": {}
        }
      ],
      "source": [
        "plt.figure(figsize=(8, 8), dpi=90)\n",
        "\n",
        "plt.plot([0,1],[0,1], 'k--')\n",
        "plt.plot(fpr1, tpr1, label= \"MultinomialNB\" )\n",
        "plt.plot(fpr2, tpr2, label= \"KNeighbors\" )\n",
        "plt.plot(fpr3, tpr3, label= \"LSVC\" )\n",
        "plt.plot(fpr4, tpr4, label= \"SVMClassifier\")\n",
        "plt.plot(fpr5, tpr5, label= \"DT\")\n",
        "plt.plot(fpr6, tpr6, label= \"RF\")\n",
        "\n",
        "\n",
        "plt.legend()\n",
        "plt.xlabel(\"False Positive Rate\")\n",
        "plt.ylabel(\"True Positive Rate\")\n",
        "plt.title('Comparison of Receiver Operating Characteristic')\n",
        "plt.show()"
      ]
    }
  ],
  "metadata": {
    "colab": {
      "provenance": []
    },
    "kernelspec": {
      "display_name": "Python 3",
      "name": "python3"
    },
    "language_info": {
      "name": "python"
    }
  },
  "nbformat": 4,
  "nbformat_minor": 0
}