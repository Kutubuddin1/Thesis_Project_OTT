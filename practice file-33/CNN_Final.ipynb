{
  "cells": [
    {
      "cell_type": "markdown",
      "metadata": {
        "id": "MN4Q1Gw0XU1f"
      },
      "source": [
        "# Importing Libraries"
      ]
    },
    {
      "cell_type": "code",
      "execution_count": 1,
      "metadata": {
        "colab": {
          "base_uri": "https://localhost:8080/"
        },
        "id": "C7VTSy3WXU16",
        "outputId": "d7979855-0876-43a8-faa0-dfb722e73bc6"
      },
      "outputs": [
        {
          "output_type": "stream",
          "name": "stdout",
          "text": [
            "Looking in indexes: https://pypi.org/simple, https://us-python.pkg.dev/colab-wheels/public/simple/\n",
            "Collecting unidecode\n",
            "  Downloading Unidecode-1.3.6-py3-none-any.whl (235 kB)\n",
            "\u001b[K     |████████████████████████████████| 235 kB 5.3 MB/s \n",
            "\u001b[?25hInstalling collected packages: unidecode\n",
            "Successfully installed unidecode-1.3.6\n",
            "Looking in indexes: https://pypi.org/simple, https://us-python.pkg.dev/colab-wheels/public/simple/\n",
            "Requirement already satisfied: openpyxl in /usr/local/lib/python3.8/dist-packages (3.0.10)\n",
            "Requirement already satisfied: et-xmlfile in /usr/local/lib/python3.8/dist-packages (from openpyxl) (1.1.0)\n"
          ]
        }
      ],
      "source": [
        "import numpy as np\n",
        "import pandas as pd \n",
        "import seaborn as sns\n",
        "import matplotlib.pyplot as plt\n",
        "\n",
        "import sklearn\n",
        "from sklearn.preprocessing import LabelEncoder\n",
        "\n",
        "!pip install unidecode\n",
        "!pip install openpyxl\n",
        "\n",
        "import pandas as pd\n",
        "from pandas import read_excel\n",
        "import numpy as np\n",
        "import re\n",
        "from re import sub\n",
        "import multiprocessing\n",
        "from unidecode import unidecode\n",
        "import os\n",
        "from time import time \n",
        "import tensorflow as tf\n",
        "from tensorflow.keras.models import Sequential\n",
        "from tensorflow.keras.layers import Dense, Dropout, Activation, Embedding, Flatten, Conv1D, BatchNormalization\n",
        "from tensorflow.keras.optimizers import SGD,Adam\n",
        "from tensorflow.keras import regularizers\n",
        "from tensorflow.keras.preprocessing.text import Tokenizer\n",
        "from tensorflow.keras.preprocessing.sequence import pad_sequences\n",
        "from tensorflow.keras.utils import to_categorical\n",
        "import tensorflow.keras.backend as K\n",
        "import h5py\n",
        "import csv\n",
        "import seaborn as sns\n",
        "import matplotlib.pyplot as plt\n",
        "from sklearn.model_selection import train_test_split\n",
        "from sklearn.model_selection import StratifiedKFold\n",
        "\n"
      ]
    },
    {
      "cell_type": "code",
      "execution_count": 4,
      "metadata": {
        "colab": {
          "base_uri": "https://localhost:8080/",
          "height": 441
        },
        "id": "kWf0tOMAXU2F",
        "outputId": "d8e031fa-4e68-4692-f4d0-ff4944f01f64"
      },
      "outputs": [
        {
          "output_type": "stream",
          "name": "stdout",
          "text": [
            "Drive already mounted at /content/drive; to attempt to forcibly remount, call drive.mount(\"/content/drive\", force_remount=True).\n"
          ]
        },
        {
          "output_type": "execute_result",
          "data": {
            "text/plain": [
              "                                                   Text  Label\n",
              "0                     পুরাই অস্থির!!! \"সাকিল, চট্টগ্রাম      1\n",
              "1     নাজিফা তুষি আপু অবিনয় টা বেস্ট ছিল ওনার জন্য ক...      1\n",
              "2     পুরাই আগুন অনেক দিনের অপেক্ষায় আছি এই কাজ টা দ...      1\n",
              "3        ইন্টারেস্টিং স্টোরি,অভিনয়, সিনেমেটোগ্রাফিও জোস      1\n",
              "4     এট লিস্ট অনন্ত জলীল এর ১০০ কোটি টাকার মুভির ট্...      1\n",
              "...                                                 ...    ...\n",
              "6998                          প্রথমে মিষ্টি এরপর পরকিয়া      2\n",
              "6999                                     বৌদি কে লাগাবে      2\n",
              "7000                  এই সিরিজ টা পুরো কোথায় পাওয়া যাবে      0\n",
              "7001                              কাহিনীর গল্প খুব বাজে      2\n",
              "7002  এত inocent দেখাবার কোন দরকার আছে কি? বাস্তবে ক...      2\n",
              "\n",
              "[7003 rows x 2 columns]"
            ],
            "text/html": [
              "\n",
              "  <div id=\"df-f49fd296-55f3-48e6-9a0f-d7818c4290b0\">\n",
              "    <div class=\"colab-df-container\">\n",
              "      <div>\n",
              "<style scoped>\n",
              "    .dataframe tbody tr th:only-of-type {\n",
              "        vertical-align: middle;\n",
              "    }\n",
              "\n",
              "    .dataframe tbody tr th {\n",
              "        vertical-align: top;\n",
              "    }\n",
              "\n",
              "    .dataframe thead th {\n",
              "        text-align: right;\n",
              "    }\n",
              "</style>\n",
              "<table border=\"1\" class=\"dataframe\">\n",
              "  <thead>\n",
              "    <tr style=\"text-align: right;\">\n",
              "      <th></th>\n",
              "      <th>Text</th>\n",
              "      <th>Label</th>\n",
              "    </tr>\n",
              "  </thead>\n",
              "  <tbody>\n",
              "    <tr>\n",
              "      <th>0</th>\n",
              "      <td>পুরাই অস্থির!!! \"সাকিল, চট্টগ্রাম</td>\n",
              "      <td>1</td>\n",
              "    </tr>\n",
              "    <tr>\n",
              "      <th>1</th>\n",
              "      <td>নাজিফা তুষি আপু অবিনয় টা বেস্ট ছিল ওনার জন্য ক...</td>\n",
              "      <td>1</td>\n",
              "    </tr>\n",
              "    <tr>\n",
              "      <th>2</th>\n",
              "      <td>পুরাই আগুন অনেক দিনের অপেক্ষায় আছি এই কাজ টা দ...</td>\n",
              "      <td>1</td>\n",
              "    </tr>\n",
              "    <tr>\n",
              "      <th>3</th>\n",
              "      <td>ইন্টারেস্টিং স্টোরি,অভিনয়, সিনেমেটোগ্রাফিও জোস</td>\n",
              "      <td>1</td>\n",
              "    </tr>\n",
              "    <tr>\n",
              "      <th>4</th>\n",
              "      <td>এট লিস্ট অনন্ত জলীল এর ১০০ কোটি টাকার মুভির ট্...</td>\n",
              "      <td>1</td>\n",
              "    </tr>\n",
              "    <tr>\n",
              "      <th>...</th>\n",
              "      <td>...</td>\n",
              "      <td>...</td>\n",
              "    </tr>\n",
              "    <tr>\n",
              "      <th>6998</th>\n",
              "      <td>প্রথমে মিষ্টি এরপর পরকিয়া</td>\n",
              "      <td>2</td>\n",
              "    </tr>\n",
              "    <tr>\n",
              "      <th>6999</th>\n",
              "      <td>বৌদি কে লাগাবে</td>\n",
              "      <td>2</td>\n",
              "    </tr>\n",
              "    <tr>\n",
              "      <th>7000</th>\n",
              "      <td>এই সিরিজ টা পুরো কোথায় পাওয়া যাবে</td>\n",
              "      <td>0</td>\n",
              "    </tr>\n",
              "    <tr>\n",
              "      <th>7001</th>\n",
              "      <td>কাহিনীর গল্প খুব বাজে</td>\n",
              "      <td>2</td>\n",
              "    </tr>\n",
              "    <tr>\n",
              "      <th>7002</th>\n",
              "      <td>এত inocent দেখাবার কোন দরকার আছে কি? বাস্তবে ক...</td>\n",
              "      <td>2</td>\n",
              "    </tr>\n",
              "  </tbody>\n",
              "</table>\n",
              "<p>7003 rows × 2 columns</p>\n",
              "</div>\n",
              "      <button class=\"colab-df-convert\" onclick=\"convertToInteractive('df-f49fd296-55f3-48e6-9a0f-d7818c4290b0')\"\n",
              "              title=\"Convert this dataframe to an interactive table.\"\n",
              "              style=\"display:none;\">\n",
              "        \n",
              "  <svg xmlns=\"http://www.w3.org/2000/svg\" height=\"24px\"viewBox=\"0 0 24 24\"\n",
              "       width=\"24px\">\n",
              "    <path d=\"M0 0h24v24H0V0z\" fill=\"none\"/>\n",
              "    <path d=\"M18.56 5.44l.94 2.06.94-2.06 2.06-.94-2.06-.94-.94-2.06-.94 2.06-2.06.94zm-11 1L8.5 8.5l.94-2.06 2.06-.94-2.06-.94L8.5 2.5l-.94 2.06-2.06.94zm10 10l.94 2.06.94-2.06 2.06-.94-2.06-.94-.94-2.06-.94 2.06-2.06.94z\"/><path d=\"M17.41 7.96l-1.37-1.37c-.4-.4-.92-.59-1.43-.59-.52 0-1.04.2-1.43.59L10.3 9.45l-7.72 7.72c-.78.78-.78 2.05 0 2.83L4 21.41c.39.39.9.59 1.41.59.51 0 1.02-.2 1.41-.59l7.78-7.78 2.81-2.81c.8-.78.8-2.07 0-2.86zM5.41 20L4 18.59l7.72-7.72 1.47 1.35L5.41 20z\"/>\n",
              "  </svg>\n",
              "      </button>\n",
              "      \n",
              "  <style>\n",
              "    .colab-df-container {\n",
              "      display:flex;\n",
              "      flex-wrap:wrap;\n",
              "      gap: 12px;\n",
              "    }\n",
              "\n",
              "    .colab-df-convert {\n",
              "      background-color: #E8F0FE;\n",
              "      border: none;\n",
              "      border-radius: 50%;\n",
              "      cursor: pointer;\n",
              "      display: none;\n",
              "      fill: #1967D2;\n",
              "      height: 32px;\n",
              "      padding: 0 0 0 0;\n",
              "      width: 32px;\n",
              "    }\n",
              "\n",
              "    .colab-df-convert:hover {\n",
              "      background-color: #E2EBFA;\n",
              "      box-shadow: 0px 1px 2px rgba(60, 64, 67, 0.3), 0px 1px 3px 1px rgba(60, 64, 67, 0.15);\n",
              "      fill: #174EA6;\n",
              "    }\n",
              "\n",
              "    [theme=dark] .colab-df-convert {\n",
              "      background-color: #3B4455;\n",
              "      fill: #D2E3FC;\n",
              "    }\n",
              "\n",
              "    [theme=dark] .colab-df-convert:hover {\n",
              "      background-color: #434B5C;\n",
              "      box-shadow: 0px 1px 3px 1px rgba(0, 0, 0, 0.15);\n",
              "      filter: drop-shadow(0px 1px 2px rgba(0, 0, 0, 0.3));\n",
              "      fill: #FFFFFF;\n",
              "    }\n",
              "  </style>\n",
              "\n",
              "      <script>\n",
              "        const buttonEl =\n",
              "          document.querySelector('#df-f49fd296-55f3-48e6-9a0f-d7818c4290b0 button.colab-df-convert');\n",
              "        buttonEl.style.display =\n",
              "          google.colab.kernel.accessAllowed ? 'block' : 'none';\n",
              "\n",
              "        async function convertToInteractive(key) {\n",
              "          const element = document.querySelector('#df-f49fd296-55f3-48e6-9a0f-d7818c4290b0');\n",
              "          const dataTable =\n",
              "            await google.colab.kernel.invokeFunction('convertToInteractive',\n",
              "                                                     [key], {});\n",
              "          if (!dataTable) return;\n",
              "\n",
              "          const docLinkHtml = 'Like what you see? Visit the ' +\n",
              "            '<a target=\"_blank\" href=https://colab.research.google.com/notebooks/data_table.ipynb>data table notebook</a>'\n",
              "            + ' to learn more about interactive tables.';\n",
              "          element.innerHTML = '';\n",
              "          dataTable['output_type'] = 'display_data';\n",
              "          await google.colab.output.renderOutput(dataTable, element);\n",
              "          const docLink = document.createElement('div');\n",
              "          docLink.innerHTML = docLinkHtml;\n",
              "          element.appendChild(docLink);\n",
              "        }\n",
              "      </script>\n",
              "    </div>\n",
              "  </div>\n",
              "  "
            ]
          },
          "metadata": {},
          "execution_count": 4
        }
      ],
      "source": [
        "from google.colab import drive\n",
        "drive.mount('/content/drive')\n",
        "\n",
        "data = pd.read_csv('/content/drive/MyDrive/ kutub/7004OTT Content Reviews.csv', encoding='UTF-8')\n",
        "data"
      ]
    },
    {
      "cell_type": "code",
      "execution_count": 5,
      "metadata": {
        "colab": {
          "base_uri": "https://localhost:8080/",
          "height": 351
        },
        "id": "tjm0yxTXXU2J",
        "outputId": "c959aebf-e476-4815-96f7-941a93f3a160"
      },
      "outputs": [
        {
          "output_type": "stream",
          "name": "stderr",
          "text": [
            "/usr/local/lib/python3.8/dist-packages/seaborn/_decorators.py:36: FutureWarning: Pass the following variable as a keyword arg: x. From version 0.12, the only valid positional argument will be `data`, and passing other arguments without an explicit keyword will result in an error or misinterpretation.\n",
            "  warnings.warn(\n"
          ]
        },
        {
          "output_type": "execute_result",
          "data": {
            "text/plain": [
              "<matplotlib.axes._subplots.AxesSubplot at 0x7f51aaa75e50>"
            ]
          },
          "metadata": {},
          "execution_count": 5
        },
        {
          "output_type": "display_data",
          "data": {
            "text/plain": [
              "<Figure size 432x288 with 1 Axes>"
            ],
            "image/png": "[encoded data removed]"
          },
          "metadata": {
            "needs_background": "light"
          }
        }
      ],
      "source": [
        "sns.countplot(data['Label'])"
      ]
    },
    {
      "cell_type": "markdown",
      "metadata": {
        "id": "7Esg9Dh3XU2L"
      },
      "source": [
        "3 polarities in the Dataset"
      ]
    },
    {
      "cell_type": "markdown",
      "metadata": {
        "id": "Hetc-DC0XU2N"
      },
      "source": [
        "# Data Preprocessing"
      ]
    },
    {
      "cell_type": "markdown",
      "metadata": {
        "id": "FNXL7pD6XU2P"
      },
      "source": [
        "1. Text to Word\n",
        "2. Removing Punctuations and Special Characters"
      ]
    },
    {
      "cell_type": "code",
      "execution_count": 6,
      "metadata": {
        "id": "rkvqA9duXU2R"
      },
      "outputs": [],
      "source": [
        "def text_to_word_list(text):\n",
        "    text = text.split()\n",
        "    return text\n",
        "\n",
        "def replace_strings(text):\n",
        "    emoji_pattern = re.compile(\"[\"\n",
        "                           u\"\\U0001F600-\\U0001F64F\"  # emoticons\n",
        "                           u\"\\U0001F300-\\U0001F5FF\"  # symbols & pictographs\n",
        "                           u\"\\U0001F680-\\U0001F6FF\"  # transport & map symbols\n",
        "                           u\"\\U0001F1E0-\\U0001F1FF\"  # flags (iOS)\n",
        "                           u\"\\U00002702-\\U000027B0\"\n",
        "                           u\"\\U000024C2-\\U0001F251\"\n",
        "                           u\"\\u00C0-\\u017F\"          #latin\n",
        "                           u\"\\u2000-\\u206F\"          #generalPunctuations\n",
        "                               \n",
        "                           \"]+\", flags=re.UNICODE)\n",
        "    english_pattern=re.compile('[a-zA-Z0-9]+', flags=re.I)\n",
        "    #latin_pattern=re.compile('[A-Za-z\\u00C0-\\u00D6\\u00D8-\\u00f6\\u00f8-\\u00ff\\s]*',)\n",
        "    \n",
        "    text=emoji_pattern.sub(r'', text)\n",
        "    text=english_pattern.sub(r'', text)\n",
        "\n",
        "    return text\n",
        "\n",
        "def remove_punctuations(my_str):\n",
        "    # define punctuation\n",
        "    punctuations = '''```\u0012\u0010\u0002\b`\u0007\b£|¢|\u0007Ñ+-*/=EROero৳০১২৩৪৫৬৭৮৯012–34567•89।!()-[]{};:'\"“\\’,<>./?@#$%^&*_~‘—॥”‰⚽️✌�￰৷￰'''\n",
        "    \n",
        "    no_punct = \"\"\n",
        "    for char in my_str:\n",
        "        if char not in punctuations:\n",
        "            no_punct = no_punct + char\n",
        "\n",
        "    # display the unpunctuated string\n",
        "    return no_punct\n",
        "\n",
        "\n",
        "\n",
        "def joining(text):\n",
        "    out=' '.join(text)\n",
        "    return out\n",
        "\n",
        "def preprocessing(text):\n",
        "    out=remove_punctuations(replace_strings(text))\n",
        "    return out"
      ]
    },
    {
      "cell_type": "code",
      "execution_count": 8,
      "metadata": {
        "id": "-Ut0FVSQXU2X"
      },
      "outputs": [],
      "source": [
        "data['Text'] = data.Text.apply(lambda x: preprocessing(str(x)))"
      ]
    },
    {
      "cell_type": "code",
      "execution_count": 9,
      "metadata": {
        "id": "L4WSYjSvXU2c"
      },
      "outputs": [],
      "source": [
        "data.reset_index(drop=True, inplace=True)\n"
      ]
    },
    {
      "cell_type": "code",
      "execution_count": 10,
      "metadata": {
        "id": "fPKzpqbdXU2f"
      },
      "outputs": [],
      "source": [
        "#enc = LabelEncoder()\n",
        "#dataset_cricket['Polarity'] = enc.fit_transform(dataset_cricket['Polarity'])\n"
      ]
    },
    {
      "cell_type": "markdown",
      "metadata": {
        "id": "lUpEjK5JXU2k"
      },
      "source": [
        "Now we will prepare the dataset to train in the proposed CNN network.So, we have to convert all Sentences into a numpy Array.\n",
        "\n",
        "We have divided the training and testing data into 80/20 ratio.\n",
        "\n",
        "We have converted the sentiment values into one hot encodings for the convenient use in model training."
      ]
    },
    {
      "cell_type": "code",
      "execution_count": 18,
      "metadata": {
        "colab": {
          "base_uri": "https://localhost:8080/"
        },
        "id": "hST2eY5FXU2l",
        "outputId": "9182c596-1829-4f62-9f29-2c7a90e598bf"
      },
      "outputs": [
        {
          "output_type": "stream",
          "name": "stdout",
          "text": [
            "Training Set Length: 5602\n",
            "Testing Set Length: 1401\n",
            "training_sentences shape: (5602,)\n",
            "testing_sentences shape: (1401,)\n",
            "train_labels shape: (5602, 3)\n",
            "test_labels shape: (1401, 3)\n"
          ]
        }
      ],
      "source": [
        "train1, test1 = train_test_split(data,random_state=69, test_size=0.2)\n",
        "training_sentences_ott = []\n",
        "testing_sentences_ott = []\n",
        "\n",
        "\n",
        "\n",
        "train_sentences_ott=train1['Text'].values\n",
        "train_labels_ott=train1['Label'].values\n",
        "for i in range(train_sentences_ott.shape[0]): \n",
        "    #print(train_sentences[i])\n",
        "    x=str(train_sentences_ott[i])\n",
        "    training_sentences_ott.append(x)\n",
        "    \n",
        "training_sentences_ott=np.array(training_sentences_ott)\n",
        "\n",
        "\n",
        "\n",
        "\n",
        "\n",
        "test_sentences_ott=test1['Text'].values\n",
        "test_labels_ott=test1['Label'].values\n",
        "\n",
        "for i in range(test_sentences_ott.shape[0]): \n",
        "    x=str(test_sentences_ott[i])\n",
        "    testing_sentences_ott.append(x)\n",
        "    \n",
        "testing_sentences_ott=np.array(testing_sentences_ott)\n",
        "\n",
        "\n",
        "train_labels_ott=tf.keras.utils.to_categorical(train_labels_ott)\n",
        "\n",
        "\n",
        "test_labels_ott=tf.keras.utils.to_categorical(test_labels_ott)\n",
        "print(\"Training Set Length: \"+str(len(train1)))\n",
        "print(\"Testing Set Length: \"+str(len(test1)))\n",
        "print(\"training_sentences shape: \"+str(training_sentences_ott.shape))\n",
        "print(\"testing_sentences shape: \"+str(testing_sentences_ott.shape))\n",
        "print(\"train_labels shape: \"+str(train_labels_ott.shape))\n",
        "print(\"test_labels shape: \"+str(test_labels_ott.shape))"
      ]
    },
    {
      "cell_type": "code",
      "execution_count": 19,
      "metadata": {
        "colab": {
          "base_uri": "https://localhost:8080/"
        },
        "id": "Konih4DfXU2o",
        "outputId": "0b6c35d8-ad58-4350-84a6-9ed2f58830aa"
      },
      "outputs": [
        {
          "output_type": "stream",
          "name": "stdout",
          "text": [
            "মিলিয়ন হবে এই মাসেই ফেসবুকে ঝড় তুলবে গানটি\n",
            "[0. 0. 1.]\n"
          ]
        }
      ],
      "source": [
        "print(training_sentences_ott[1])\n",
        "print(train_labels_ott[0])"
      ]
    },
    {
      "cell_type": "markdown",
      "metadata": {
        "id": "pk49pE4hXU2q"
      },
      "source": [
        "Now, we will predefine some variables.\n",
        "\n",
        "vocab_size is the maximum vocabulary length of Tokenizer.\n",
        "\n",
        "KERAS tokenzier allows to vectorize a text corpus, by turning each text into either a sequence of integers (each integer being the index of a token in a dictionary) or into a vector where the coefficient for each token could be binary, based on word count, based on tf-idf.\n",
        "\n",
        "We will be tokenizing my dataset with this class here. We have did this tokenization so that it can be later used to generate Embeddings.\n",
        "\n",
        "The main advantage of word embedding is that words that share a similar context can be represented close to each other in the vector space. Thus, vectors carry a sense of semantic of a word.\n",
        "\n",
        "We have predefined the embedding dimension as 300(embedding_dim).\n",
        "\n",
        "max_length is the sentence maximum length.\n",
        "\n",
        "trunc_type is the truncation type.\n",
        "\n",
        "oov_token is the token for the words that are not present in the corpus.oov means out of vocabulary."
      ]
    },
    {
      "cell_type": "code",
      "execution_count": 20,
      "metadata": {
        "id": "Hwv9SF_kXU2r"
      },
      "outputs": [],
      "source": [
        "vocab_size = len(training_sentences_ott)+1\n",
        "embedding_dim = 100\n",
        "max_length = 100\n",
        "trunc_type='post'\n",
        "oov_tok = \"<OOV>\""
      ]
    },
    {
      "cell_type": "code",
      "execution_count": 21,
      "metadata": {
        "colab": {
          "base_uri": "https://localhost:8080/"
        },
        "id": "rpzTs0tqXU2t",
        "outputId": "2d421b58-c79c-4f13-8baf-65743b821f17"
      },
      "outputs": [
        {
          "output_type": "stream",
          "name": "stdout",
          "text": [
            "(5602,)\n",
            "(5602, 3)\n"
          ]
        }
      ],
      "source": [
        "print(training_sentences_ott.shape)\n",
        "print(train_labels_ott.shape)"
      ]
    },
    {
      "cell_type": "markdown",
      "metadata": {
        "id": "KGXqzt4cXU2v"
      },
      "source": [
        "At first, we will tokenize and then, we will be padding the sequences. We have used tokenizer only on training dataset to see how the model performs on unseen words."
      ]
    },
    {
      "cell_type": "code",
      "execution_count": 22,
      "metadata": {
        "colab": {
          "base_uri": "https://localhost:8080/"
        },
        "id": "aKyJGEAsXU2w",
        "outputId": "38b78e8e-ccfb-4082-f7db-83384abff489"
      },
      "outputs": [
        {
          "output_type": "stream",
          "name": "stdout",
          "text": [
            "10928\n",
            "Word index length:10928\n"
          ]
        }
      ],
      "source": [
        "tokenizer = Tokenizer(num_words = vocab_size, oov_token=oov_tok)\n",
        "tokenizer.fit_on_texts(training_sentences_ott)\n",
        "word_index = tokenizer.word_index\n",
        "print(len(word_index))\n",
        "print(\"Word index length:\"+str(len(tokenizer.word_index)))\n",
        "sequences = tokenizer.texts_to_sequences(training_sentences_ott)\n",
        "padded = pad_sequences(sequences,maxlen=max_length, truncating=trunc_type)\n",
        "\n",
        "\n",
        "test_sequences = tokenizer.texts_to_sequences(testing_sentences_ott)\n",
        "testing_padded = pad_sequences(test_sequences,maxlen=max_length)"
      ]
    },
    {
      "cell_type": "code",
      "execution_count": 23,
      "metadata": {
        "colab": {
          "base_uri": "https://localhost:8080/"
        },
        "id": "hghC7VTmXU2y",
        "outputId": "741aa886-e94e-492a-e3d9-f5a8a35264b3"
      },
      "outputs": [
        {
          "output_type": "stream",
          "name": "stdout",
          "text": [
            "Sentence :--> \n",
            "\n",
            "অধীর অপেক্ষায় ছিলাম এই গান টার জন্য  ধন্যবাদ  গান টা আরো একটু দীর্ঘ হলে আরো শান্তি পেতাম\n",
            "\n",
            "Sentence Tokenized and Converted into Sequence :--> \n",
            "\n",
            "[2094, 314, 521, 4, 14, 315, 15, 44, 14, 12, 78, 116, 2778, 123, 78, 1267, 2095]\n",
            "\n",
            "After Padding the Sequence with padding length 100 :--> \n",
            "\n",
            "[   0    0    0    0    0    0    0    0    0    0    0    0    0    0\n",
            "    0    0    0    0    0    0    0    0    0    0    0    0    0    0\n",
            "    0    0    0    0    0    0    0    0    0    0    0    0    0    0\n",
            "    0    0    0    0    0    0    0    0    0    0    0    0    0    0\n",
            "    0    0    0    0    0    0    0    0    0    0    0    0    0    0\n",
            "    0    0    0    0    0    0    0    0    0    0    0    0    0 2094\n",
            "  314  521    4   14  315   15   44   14   12   78  116 2778  123   78\n",
            " 1267 2095]\n"
          ]
        }
      ],
      "source": [
        "print(\"Sentence :--> \\n\")\n",
        "print(training_sentences_ott[2]+\"\\n\")\n",
        "print(\"Sentence Tokenized and Converted into Sequence :--> \\n\")\n",
        "print(str(sequences[2])+\"\\n\")\n",
        "print(\"After Padding the Sequence with padding length 100 :--> \\n\")\n",
        "print(padded[2])"
      ]
    },
    {
      "cell_type": "code",
      "execution_count": 24,
      "metadata": {
        "colab": {
          "base_uri": "https://localhost:8080/"
        },
        "id": "qCxvkmoPXU20",
        "outputId": "ab282c90-9c0a-441f-e85d-61e2e7103bcc"
      },
      "outputs": [
        {
          "output_type": "stream",
          "name": "stdout",
          "text": [
            "Padded shape(training): (5602, 100)\n",
            "Padded shape(testing): (1401, 100)\n"
          ]
        }
      ],
      "source": [
        "print(\"Padded shape(training): \"+str(padded.shape))\n",
        "print(\"Padded shape(testing): \"+str(testing_padded.shape))"
      ]
    },
    {
      "cell_type": "markdown",
      "metadata": {
        "id": "kRobZN2MXU22"
      },
      "source": [
        "# Model Creation"
      ]
    },
    {
      "cell_type": "markdown",
      "metadata": {
        "id": "c0MW0_q-XU23"
      },
      "source": [
        "At first, we have created embeddings from the text."
      ]
    },
    {
      "cell_type": "code",
      "execution_count": 25,
      "metadata": {
        "id": "-gpWtrrZXU3J"
      },
      "outputs": [],
      "source": [
        "def precision(y_true, y_pred):\n",
        "    true_positives = K.sum(K.round(K.clip(y_true * y_pred, 0, 1)))\n",
        "    predicted_positives = K.sum(K.round(K.clip(y_pred, 0, 1)))\n",
        "    precision = true_positives / (predicted_positives + K.epsilon())\n",
        "    return precision\n",
        "\n",
        "def recall(y_true, y_pred):\n",
        "    true_positives = K.sum(K.round(K.clip(y_true * y_pred, 0, 1)))\n",
        "    possible_positives = K.sum(K.round(K.clip(y_true, 0, 1)))\n",
        "    recall = true_positives / (possible_positives + K.epsilon())\n",
        "    return recall\n",
        "\n",
        "def f1_score(y_true, y_pred):\n",
        "    pr = precision(y_true, y_pred)\n",
        "    rec = recall(y_true, y_pred)\n",
        "    f1_score = 2 * (pr * rec) / (pr + rec)\n",
        "    return f1_score"
      ]
    },
    {
      "cell_type": "code",
      "execution_count": 26,
      "metadata": {
        "colab": {
          "base_uri": "https://localhost:8080/"
        },
        "id": "kQvfkVmhXU3L",
        "outputId": "07e1005d-10bb-49f5-da56-7732b489a392"
      },
      "outputs": [
        {
          "output_type": "execute_result",
          "data": {
            "text/plain": [
              "array([[0., 0., 1.],\n",
              "       [0., 1., 0.],\n",
              "       [0., 1., 0.],\n",
              "       ...,\n",
              "       [0., 1., 0.],\n",
              "       [0., 1., 0.],\n",
              "       [0., 1., 0.]], dtype=float32)"
            ]
          },
          "metadata": {},
          "execution_count": 26
        }
      ],
      "source": [
        "# padded\n",
        "train_labels_ott"
      ]
    },
    {
      "cell_type": "code",
      "execution_count": 27,
      "metadata": {
        "id": "YwtUzzz0XU3P"
      },
      "outputs": [],
      "source": [
        "# raise NotImplementedError()"
      ]
    },
    {
      "cell_type": "code",
      "execution_count": 28,
      "metadata": {
        "colab": {
          "base_uri": "https://localhost:8080/"
        },
        "id": "yILffXu0XU3Q",
        "outputId": "d6cd455c-2bfc-4b3b-f352-5a0ffa0264e0"
      },
      "outputs": [
        {
          "output_type": "stream",
          "name": "stdout",
          "text": [
            "Model: \"sequential\"\n",
            "_________________________________________________________________\n",
            " Layer (type)                Output Shape              Param #   \n",
            "=================================================================\n",
            " embedding (Embedding)       (None, 100, 100)          560300    \n",
            "                                                                 \n",
            " conv1d (Conv1D)             (None, 98, 64)            19264     \n",
            "                                                                 \n",
            " batch_normalization (BatchN  (None, 98, 64)           256       \n",
            " ormalization)                                                   \n",
            "                                                                 \n",
            " activation (Activation)     (None, 98, 64)            0         \n",
            "                                                                 \n",
            " dropout (Dropout)           (None, 98, 64)            0         \n",
            "                                                                 \n",
            " conv1d_1 (Conv1D)           (None, 96, 96)            18528     \n",
            "                                                                 \n",
            " batch_normalization_1 (Batc  (None, 96, 96)           384       \n",
            " hNormalization)                                                 \n",
            "                                                                 \n",
            " activation_1 (Activation)   (None, 96, 96)            0         \n",
            "                                                                 \n",
            " conv1d_2 (Conv1D)           (None, 94, 128)           36992     \n",
            "                                                                 \n",
            " batch_normalization_2 (Batc  (None, 94, 128)          512       \n",
            " hNormalization)                                                 \n",
            "                                                                 \n",
            " activation_2 (Activation)   (None, 94, 128)           0         \n",
            "                                                                 \n",
            " dropout_1 (Dropout)         (None, 94, 128)           0         \n",
            "                                                                 \n",
            " flatten (Flatten)           (None, 12032)             0         \n",
            "                                                                 \n",
            " dense (Dense)               (None, 128)               1540224   \n",
            "                                                                 \n",
            " batch_normalization_3 (Batc  (None, 128)              512       \n",
            " hNormalization)                                                 \n",
            "                                                                 \n",
            " activation_3 (Activation)   (None, 128)               0         \n",
            "                                                                 \n",
            " flatten_1 (Flatten)         (None, 128)               0         \n",
            "                                                                 \n",
            " dense_1 (Dense)             (None, 64)                8256      \n",
            "                                                                 \n",
            " batch_normalization_4 (Batc  (None, 64)               256       \n",
            " hNormalization)                                                 \n",
            "                                                                 \n",
            " activation_4 (Activation)   (None, 64)                0         \n",
            "                                                                 \n",
            " dense_2 (Dense)             (None, 3)                 195       \n",
            "                                                                 \n",
            "=================================================================\n",
            "Total params: 2,185,679\n",
            "Trainable params: 2,184,719\n",
            "Non-trainable params: 960\n",
            "_________________________________________________________________\n"
          ]
        },
        {
          "output_type": "stream",
          "name": "stderr",
          "text": [
            "/usr/local/lib/python3.8/dist-packages/keras/optimizers/optimizer_v2/adam.py:110: UserWarning: The `lr` argument is deprecated, use `learning_rate` instead.\n",
            "  super(Adam, self).__init__(name, **kwargs)\n"
          ]
        }
      ],
      "source": [
        "# from tensorflow.keras.layers import GlobalMaxPooling1D\n",
        "\n",
        "detection=Sequential()\n",
        "\n",
        "detection.add(Embedding(vocab_size, embedding_dim, input_length=max_length))\n",
        "\n",
        "#1 -convolutional layer-1\n",
        "detection.add(Conv1D(64 ,kernel_size=3))\n",
        "detection.add(BatchNormalization())\n",
        "detection.add(Activation('relu'))\n",
        "# detection.add(GlobalMaxPooling1D())\n",
        "detection.add(Dropout(0.1))\n",
        "\n",
        "#2 -convolutional layer-2\n",
        "detection.add(Conv1D(96,kernel_size=3))\n",
        "detection.add(BatchNormalization())\n",
        "detection.add(Activation('relu'))\n",
        "# detection.add(GlobalMaxPooling1D())\n",
        "# detection.add(Dropout(0.2))\n",
        "\n",
        "#2 -convolutional layer-2\n",
        "detection.add(Conv1D(128,kernel_size=3))\n",
        "detection.add(BatchNormalization())\n",
        "detection.add(Activation('relu'))\n",
        "# detection.add(GlobalMaxPooling1D())\n",
        "detection.add(Dropout(0.15))\n",
        "\n",
        "\n",
        "# #2 -convolutional layer-2\n",
        "# detection.add(Conv1D(256,kernel_size=3))\n",
        "# detection.add(BatchNormalization())\n",
        "# detection.add(Activation('relu'))\n",
        "# # detection.add(MaxPooling2D(pool_size=(2,2)))\n",
        "# # detection.add(GlobalMaxPooling1D())\n",
        "# detection.add(Dropout(0.2))\n",
        "\n",
        "# #3 -convolutional layer-3\n",
        "# detection.add(Conv1D(384,kernel_size=3))\n",
        "# detection.add(BatchNormalization())\n",
        "# detection.add(Activation('relu'))\n",
        "# # detection.add(GlobalMaxPooling1D())\n",
        "# # detection.add(MaxPooling2D(pool_size=(2,2)))\n",
        "# # detection.add(UpSampling2D(input_shape=(512, 3, 3)))\n",
        "# detection.add(Dropout(0.2))\n",
        "\n",
        "# #3 -convolutional layer-3\n",
        "# detection.add(Conv1D(512,kernel_size=3))\n",
        "# detection.add(BatchNormalization())\n",
        "# detection.add(Activation('relu'))\n",
        "# # detection.add(GlobalMaxPooling1D())\n",
        "# # detection.add(MaxPooling2D(pool_size=(2,2)))\n",
        "# # detection.add(UpSampling2D(input_shape=(512, 3, 3)))\n",
        "# detection.add(Dropout(0.3))\n",
        "\n",
        "\n",
        "# detection.add(Flatten())\n",
        "# detection.add(Dense(512))\n",
        "# detection.add(BatchNormalization())\n",
        "# detection.add(Activation('relu'))\n",
        "\n",
        "# detection.add(Flatten())\n",
        "# detection.add(Dense(256))\n",
        "# detection.add(BatchNormalization())\n",
        "# detection.add(Activation('relu'))\n",
        "\n",
        "detection.add(Flatten())\n",
        "detection.add(Dense(128))\n",
        "detection.add(BatchNormalization())\n",
        "detection.add(Activation('relu'))\n",
        "\n",
        "detection.add(Flatten())\n",
        "detection.add(Dense(64))\n",
        "detection.add(BatchNormalization())\n",
        "detection.add(Activation('relu'))\n",
        "\n",
        "detection.add(Dense(3,activation='sigmoid'))\n",
        "optimum=Adam(lr=0.00001)\n",
        "detection.summary()\n",
        "detection.compile(optimizer=optimum,loss='binary_crossentropy',metrics=['accuracy', precision, recall])"
      ]
    },
    {
      "cell_type": "markdown",
      "metadata": {
        "id": "O1KooF-JXU3S"
      },
      "source": [
        "Dividing training data to training and validation."
      ]
    },
    {
      "cell_type": "code",
      "execution_count": 29,
      "metadata": {
        "id": "vxcdgT_nXU3T"
      },
      "outputs": [],
      "source": [
        "from sklearn.model_selection import train_test_split\n",
        "\n",
        "# Split the data\n",
        "x_train, x_valid, y_train, y_valid = train_test_split(padded, train_labels_ott, test_size=0.15, shuffle= True) #data, label"
      ]
    },
    {
      "cell_type": "code",
      "execution_count": 30,
      "metadata": {
        "colab": {
          "base_uri": "https://localhost:8080/"
        },
        "id": "HrOX3HAmXU3V",
        "outputId": "eec1e2ad-42bd-41f8-e6a4-ea8bba0a147c"
      },
      "outputs": [
        {
          "output_type": "stream",
          "name": "stdout",
          "text": [
            "Epoch 1/30\n",
            "1191/1191 [==============================] - 50s 40ms/step - loss: 0.8229 - accuracy: 0.2901 - precision: 0.2984 - recall: 0.4992 - val_loss: 0.8113 - val_accuracy: 0.2889 - val_precision: 0.2976 - val_recall: 0.5344\n",
            "Epoch 2/30\n",
            "1191/1191 [==============================] - 52s 44ms/step - loss: 0.7543 - accuracy: 0.3207 - precision: 0.3189 - recall: 0.4612 - val_loss: 0.7669 - val_accuracy: 0.3317 - val_precision: 0.3134 - val_recall: 0.4751\n",
            "Epoch 3/30\n",
            "1191/1191 [==============================] - 46s 39ms/step - loss: 0.6997 - accuracy: 0.3659 - precision: 0.3657 - recall: 0.4473 - val_loss: 0.7207 - val_accuracy: 0.3912 - val_precision: 0.3704 - val_recall: 0.4408\n",
            "Epoch 4/30\n",
            "1191/1191 [==============================] - 46s 38ms/step - loss: 0.6688 - accuracy: 0.4045 - precision: 0.3950 - recall: 0.4047 - val_loss: 0.6894 - val_accuracy: 0.4114 - val_precision: 0.4041 - val_recall: 0.4076\n",
            "Epoch 5/30\n",
            "1191/1191 [==============================] - 46s 39ms/step - loss: 0.6423 - accuracy: 0.4491 - precision: 0.4451 - recall: 0.3929 - val_loss: 0.6512 - val_accuracy: 0.4518 - val_precision: 0.4413 - val_recall: 0.3531\n",
            "Epoch 6/30\n",
            "1191/1191 [==============================] - 47s 39ms/step - loss: 0.6241 - accuracy: 0.4646 - precision: 0.4807 - recall: 0.3774 - val_loss: 0.6464 - val_accuracy: 0.4637 - val_precision: 0.4706 - val_recall: 0.3922\n",
            "Epoch 7/30\n",
            "1191/1191 [==============================] - 47s 39ms/step - loss: 0.6079 - accuracy: 0.5016 - precision: 0.5067 - recall: 0.3715 - val_loss: 0.6304 - val_accuracy: 0.4863 - val_precision: 0.4845 - val_recall: 0.3732\n",
            "Epoch 8/30\n",
            "1191/1191 [==============================] - 47s 39ms/step - loss: 0.5960 - accuracy: 0.5112 - precision: 0.5338 - recall: 0.3745 - val_loss: 0.6163 - val_accuracy: 0.5042 - val_precision: 0.5186 - val_recall: 0.3815\n",
            "Epoch 9/30\n",
            "1191/1191 [==============================] - 47s 39ms/step - loss: 0.5915 - accuracy: 0.5148 - precision: 0.5361 - recall: 0.3644 - val_loss: 0.6208 - val_accuracy: 0.4946 - val_precision: 0.5275 - val_recall: 0.3685\n",
            "Epoch 10/30\n",
            "1191/1191 [==============================] - 48s 40ms/step - loss: 0.5878 - accuracy: 0.5259 - precision: 0.5670 - recall: 0.3783 - val_loss: 0.6162 - val_accuracy: 0.5089 - val_precision: 0.5208 - val_recall: 0.3649\n",
            "Epoch 11/30\n",
            "1191/1191 [==============================] - 48s 40ms/step - loss: 0.5802 - accuracy: 0.5379 - precision: 0.5744 - recall: 0.3856 - val_loss: 0.6162 - val_accuracy: 0.5327 - val_precision: 0.5314 - val_recall: 0.3957\n",
            "Epoch 12/30\n",
            "1191/1191 [==============================] - 47s 40ms/step - loss: 0.5753 - accuracy: 0.5451 - precision: 0.5850 - recall: 0.3858 - val_loss: 0.6045 - val_accuracy: 0.5446 - val_precision: 0.5582 - val_recall: 0.4005\n",
            "Epoch 13/30\n",
            "1191/1191 [==============================] - 47s 40ms/step - loss: 0.5751 - accuracy: 0.5375 - precision: 0.5862 - recall: 0.3923 - val_loss: 0.6017 - val_accuracy: 0.5398 - val_precision: 0.5677 - val_recall: 0.4040\n",
            "Epoch 14/30\n",
            "1191/1191 [==============================] - 47s 40ms/step - loss: 0.5692 - accuracy: 0.5551 - precision: 0.5963 - recall: 0.4024 - val_loss: 0.6049 - val_accuracy: 0.5541 - val_precision: 0.5839 - val_recall: 0.4372\n",
            "Epoch 15/30\n",
            "1191/1191 [==============================] - 49s 41ms/step - loss: 0.5693 - accuracy: 0.5486 - precision: 0.6001 - recall: 0.4055 - val_loss: 0.5982 - val_accuracy: 0.5529 - val_precision: 0.5739 - val_recall: 0.4123\n",
            "Epoch 16/30\n",
            "1191/1191 [==============================] - 48s 41ms/step - loss: 0.5585 - accuracy: 0.5595 - precision: 0.6098 - recall: 0.4219 - val_loss: 0.5963 - val_accuracy: 0.5589 - val_precision: 0.5647 - val_recall: 0.4254\n",
            "Epoch 17/30\n",
            "1191/1191 [==============================] - 48s 41ms/step - loss: 0.5607 - accuracy: 0.5623 - precision: 0.6069 - recall: 0.4261 - val_loss: 0.5904 - val_accuracy: 0.5505 - val_precision: 0.5923 - val_recall: 0.4123\n",
            "Epoch 18/30\n",
            "1191/1191 [==============================] - 47s 40ms/step - loss: 0.5488 - accuracy: 0.5742 - precision: 0.6295 - recall: 0.4385 - val_loss: 0.5930 - val_accuracy: 0.5612 - val_precision: 0.5901 - val_recall: 0.4313\n",
            "Epoch 19/30\n",
            "1191/1191 [==============================] - 48s 40ms/step - loss: 0.5482 - accuracy: 0.5824 - precision: 0.6413 - recall: 0.4461 - val_loss: 0.5842 - val_accuracy: 0.5660 - val_precision: 0.5942 - val_recall: 0.4372\n",
            "Epoch 20/30\n",
            "1191/1191 [==============================] - 47s 40ms/step - loss: 0.5371 - accuracy: 0.5885 - precision: 0.6506 - recall: 0.4578 - val_loss: 0.5774 - val_accuracy: 0.5684 - val_precision: 0.5913 - val_recall: 0.4467\n",
            "Epoch 21/30\n",
            "1191/1191 [==============================] - 62s 52ms/step - loss: 0.5314 - accuracy: 0.5982 - precision: 0.6593 - recall: 0.4694 - val_loss: 0.5774 - val_accuracy: 0.5767 - val_precision: 0.6211 - val_recall: 0.4431\n",
            "Epoch 22/30\n",
            "1191/1191 [==============================] - 53s 44ms/step - loss: 0.5241 - accuracy: 0.6030 - precision: 0.6660 - recall: 0.4822 - val_loss: 0.5753 - val_accuracy: 0.5767 - val_precision: 0.6102 - val_recall: 0.4419\n",
            "Epoch 23/30\n",
            "1191/1191 [==============================] - 51s 43ms/step - loss: 0.5228 - accuracy: 0.6093 - precision: 0.6696 - recall: 0.4796 - val_loss: 0.5637 - val_accuracy: 0.5743 - val_precision: 0.6209 - val_recall: 0.4680\n",
            "Epoch 24/30\n",
            "1191/1191 [==============================] - 47s 39ms/step - loss: 0.5140 - accuracy: 0.6247 - precision: 0.6808 - recall: 0.4954 - val_loss: 0.5562 - val_accuracy: 0.5826 - val_precision: 0.6408 - val_recall: 0.4799\n",
            "Epoch 25/30\n",
            "1191/1191 [==============================] - 48s 40ms/step - loss: 0.5032 - accuracy: 0.6249 - precision: 0.6903 - recall: 0.5002 - val_loss: 0.5493 - val_accuracy: 0.5886 - val_precision: 0.6399 - val_recall: 0.4810\n",
            "Epoch 26/30\n",
            "1191/1191 [==============================] - 47s 40ms/step - loss: 0.4988 - accuracy: 0.6333 - precision: 0.7044 - recall: 0.5122 - val_loss: 0.5357 - val_accuracy: 0.5981 - val_precision: 0.6569 - val_recall: 0.4799\n",
            "Epoch 27/30\n",
            "1191/1191 [==============================] - 48s 40ms/step - loss: 0.4931 - accuracy: 0.6392 - precision: 0.6978 - recall: 0.5269 - val_loss: 0.5297 - val_accuracy: 0.6029 - val_precision: 0.6517 - val_recall: 0.4893\n",
            "Epoch 28/30\n",
            "1191/1191 [==============================] - 47s 39ms/step - loss: 0.4832 - accuracy: 0.6438 - precision: 0.7139 - recall: 0.5353 - val_loss: 0.5235 - val_accuracy: 0.6040 - val_precision: 0.6818 - val_recall: 0.5000\n",
            "Epoch 29/30\n",
            "1191/1191 [==============================] - 47s 40ms/step - loss: 0.4765 - accuracy: 0.6530 - precision: 0.7209 - recall: 0.5449 - val_loss: 0.5209 - val_accuracy: 0.6231 - val_precision: 0.6822 - val_recall: 0.5118\n",
            "Epoch 30/30\n",
            "1191/1191 [==============================] - 47s 40ms/step - loss: 0.4696 - accuracy: 0.6572 - precision: 0.7350 - recall: 0.5565 - val_loss: 0.5152 - val_accuracy: 0.6385 - val_precision: 0.6758 - val_recall: 0.5225\n"
          ]
        }
      ],
      "source": [
        "model_ott = detection.fit(x_train, y_train,shuffle=True,epochs=30,batch_size=4,validation_data=(x_valid,y_valid))#,use_multiprocessing=True, workers=8)\n",
        "# model_ott=detection.fit(padded,train_labels_ott,shuffle=True,epochs=30,batch_size=16,validation_data=(testing_padded,test_labels_ott),use_multiprocessing=True, workers=8) #input, output"
      ]
    },
    {
      "cell_type": "code",
      "execution_count": 31,
      "metadata": {
        "colab": {
          "base_uri": "https://localhost:8080/"
        },
        "id": "W_CB0Tk9XU3X",
        "outputId": "e4f87f6a-8b40-41c6-b459-d2b1de4f3f1d"
      },
      "outputs": [
        {
          "output_type": "stream",
          "name": "stdout",
          "text": [
            "44/44 [==============================] - 1s 17ms/step - loss: 0.5299 - accuracy: 0.6167 - precision: 0.6677 - recall: 0.5052\n"
          ]
        },
        {
          "output_type": "execute_result",
          "data": {
            "text/plain": [
              "[0.5299400091171265, 0.6167023777961731, 0.6677131056785583, 0.505227267742157]"
            ]
          },
          "metadata": {},
          "execution_count": 31
        }
      ],
      "source": [
        "detection.evaluate(x=testing_padded,y=test_labels_ott,verbose=1)\n",
        "# loss: - accuracy: - recall:  - precision:"
      ]
    },
    {
      "cell_type": "code",
      "execution_count": 32,
      "metadata": {
        "colab": {
          "base_uri": "https://localhost:8080/",
          "height": 298
        },
        "id": "KQ5UulhnXU3Y",
        "outputId": "d78c4122-4ea7-4766-96f5-c546c7ceaa98"
      },
      "outputs": [
        {
          "output_type": "display_data",
          "data": {
            "text/plain": [
              "<Figure size 432x288 with 1 Axes>"
            ],
            "image/png": "[encoded data removed]"
          },
          "metadata": {
            "needs_background": "light"
          }
        },
        {
          "output_type": "display_data",
          "data": {
            "text/plain": [
              "<Figure size 432x288 with 0 Axes>"
            ]
          },
          "metadata": {}
        }
      ],
      "source": [
        "plt.plot(model_ott.history['loss'], label='loss_train')\n",
        "plt.plot(model_ott.history['val_loss'], label='loss_val')\n",
        "# plt.plot(mod.history['accuracy'], label='acc_train')\n",
        "# plt.plot(mod.history['val_accuracy'], label='acc_val')\n",
        "plt.legend()\n",
        "plt.title('Train Val_Loss in Proposed Neural Network')\n",
        "plt.show()\n",
        "plt.savefig('LossVal_Loss')"
      ]
    },
    {
      "cell_type": "code",
      "execution_count": 33,
      "metadata": {
        "colab": {
          "base_uri": "https://localhost:8080/",
          "height": 298
        },
        "id": "YvCNMixoXU3a",
        "outputId": "820b1dd9-a107-4e24-8fa6-5fea8efbe23f"
      },
      "outputs": [
        {
          "output_type": "display_data",
          "data": {
            "text/plain": [
              "<Figure size 432x288 with 1 Axes>"
            ],
            "image/png": "[encoded data removed]"
          },
          "metadata": {
            "needs_background": "light"
          }
        },
        {
          "output_type": "display_data",
          "data": {
            "text/plain": [
              "<Figure size 432x288 with 0 Axes>"
            ]
          },
          "metadata": {}
        }
      ],
      "source": [
        "plt.plot(model_ott.history['accuracy'], label='train acc')\n",
        "plt.plot(model_ott.history['val_accuracy'], label='val acc')\n",
        "plt.legend()\n",
        "plt.title('TrainVal_Acc in Proposed Neural Network')\n",
        "plt.show()\n",
        "plt.savefig('AccVal_Acc')"
      ]
    }
  ],
  "metadata": {
    "interpreter": {
      "hash": "e896f58382219557ed1cd87260c67d9e69d66db56889d9cde40c814aa57c370f"
    },
    "kernelspec": {
      "display_name": "Python 3.6.13 ('tf_gpu')",
      "language": "python",
      "name": "python3"
    },
    "language_info": {
      "codemirror_mode": {
        "name": "ipython",
        "version": 3
      },
      "file_extension": ".py",
      "mimetype": "text/x-python",
      "name": "python",
      "nbconvert_exporter": "python",
      "pygments_lexer": "ipython3",
      "version": "3.6.13"
    },
    "orig_nbformat": 4,
    "colab": {
      "provenance": []
    }
  },
  "nbformat": 4,
  "nbformat_minor": 0
}