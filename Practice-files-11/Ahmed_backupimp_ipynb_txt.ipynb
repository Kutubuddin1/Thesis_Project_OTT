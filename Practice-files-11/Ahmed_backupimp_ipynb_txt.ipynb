{
  "cells": [
    {
      "cell_type": "code",
      "execution_count": 5,
      "metadata": {
        "id": "O969xfjrHR4K"
      },
      "outputs": [],
      "source": [
        "import numpy as np\n",
        "import pandas as pd\n",
        "import matplotlib.pyplot as plt\n",
        "%matplotlib inline\n",
        "import seaborn as sns\n",
        "import re,json,nltk\n",
        "from sklearn.preprocessing import LabelEncoder\n",
        "from sklearn.feature_extraction.text import TfidfVectorizer\n",
        "from sklearn.model_selection import train_test_split\n",
        "from sklearn.metrics import classification_report,accuracy_score,precision_score,recall_score,f1_score\n",
        "from tensorflow.keras.preprocessing.text import Tokenizer"
      ]
    },
    {
      "cell_type": "code",
      "execution_count": 6,
      "metadata": {
        "id": "Fp4Hweo-H0wI"
      },
      "outputs": [],
      "source": [
        "#Miscellanous libraries\n",
        "from collections import Counter\n",
        "\n",
        "#Ignore warnings\n",
        "import warnings\n",
        "warnings.filterwarnings('ignore')"
      ]
    },
    {
      "cell_type": "code",
      "source": [
        "from google.colab import drive\n",
        "drive.mount('/content/drive')"
      ],
      "metadata": {
        "colab": {
          "base_uri": "https://localhost:8080/"
        },
        "id": "ZSIIgNh0Hzj-",
        "outputId": "b8d1ab9a-76aa-4d88-fc99-1461ee053949"
      },
      "execution_count": 7,
      "outputs": [
        {
          "output_type": "stream",
          "name": "stdout",
          "text": [
            "Drive already mounted at /content/drive; to attempt to forcibly remount, call drive.mount(\"/content/drive\", force_remount=True).\n"
          ]
        }
      ]
    },
    {
      "cell_type": "code",
      "execution_count": 8,
      "metadata": {
        "colab": {
          "base_uri": "https://localhost:8080/",
          "height": 363
        },
        "id": "UYXpkLv-H-to",
        "outputId": "093ff287-c3d5-49d9-9456-8df0d54c2c02"
      },
      "outputs": [
        {
          "output_type": "execute_result",
          "data": {
            "text/plain": [
              "                                                Text  Label\n",
              "0                  পুরাই অস্থির!!! \"সাকিল, চট্টগ্রাম      1\n",
              "1  নাজিফা তুষি আপু অবিনয় টা বেস্ট ছিল ওনার জন্য ক...      1\n",
              "2  পুরাই আগুন অনেক দিনের অপেক্ষায় আছি এই কাজ টা দ...      1\n",
              "3     ইন্টারেস্টিং স্টোরি,অভিনয়, সিনেমেটোগ্রাফিও জোস      1\n",
              "4  এট লিস্ট অনন্ত জলীল এর ১০০ কোটি টাকার মুভির ট্...      1\n",
              "5  এই গল্পে প্রচুর থ্রিল থাকবে কি হবে কি হবে এটা ...      1\n",
              "6  নিখুঁত অভিনয়। এরকম সিরিজ তৈরি করলে দেশীয় কন্টে...      1\n",
              "7  চরকি মানেই ভিন্ন কিছু, আর সেটা যদি হয় আফরান নি...      1\n",
              "8                              অনেক ভালো মানের সিরিজ      1\n",
              "9  আরফান নিশো ভাইয়ের নাটকের কাছে বাংলা ছায়াছবিও হ...      1"
            ],
            "text/html": [
              "\n",
              "  <div id=\"df-ef45f73a-b11f-4b71-b273-6e9a08801e21\">\n",
              "    <div class=\"colab-df-container\">\n",
              "      <div>\n",
              "<style scoped>\n",
              "    .dataframe tbody tr th:only-of-type {\n",
              "        vertical-align: middle;\n",
              "    }\n",
              "\n",
              "    .dataframe tbody tr th {\n",
              "        vertical-align: top;\n",
              "    }\n",
              "\n",
              "    .dataframe thead th {\n",
              "        text-align: right;\n",
              "    }\n",
              "</style>\n",
              "<table border=\"1\" class=\"dataframe\">\n",
              "  <thead>\n",
              "    <tr style=\"text-align: right;\">\n",
              "      <th></th>\n",
              "      <th>Text</th>\n",
              "      <th>Label</th>\n",
              "    </tr>\n",
              "  </thead>\n",
              "  <tbody>\n",
              "    <tr>\n",
              "      <th>0</th>\n",
              "      <td>পুরাই অস্থির!!! \"সাকিল, চট্টগ্রাম</td>\n",
              "      <td>1</td>\n",
              "    </tr>\n",
              "    <tr>\n",
              "      <th>1</th>\n",
              "      <td>নাজিফা তুষি আপু অবিনয় টা বেস্ট ছিল ওনার জন্য ক...</td>\n",
              "      <td>1</td>\n",
              "    </tr>\n",
              "    <tr>\n",
              "      <th>2</th>\n",
              "      <td>পুরাই আগুন অনেক দিনের অপেক্ষায় আছি এই কাজ টা দ...</td>\n",
              "      <td>1</td>\n",
              "    </tr>\n",
              "    <tr>\n",
              "      <th>3</th>\n",
              "      <td>ইন্টারেস্টিং স্টোরি,অভিনয়, সিনেমেটোগ্রাফিও জোস</td>\n",
              "      <td>1</td>\n",
              "    </tr>\n",
              "    <tr>\n",
              "      <th>4</th>\n",
              "      <td>এট লিস্ট অনন্ত জলীল এর ১০০ কোটি টাকার মুভির ট্...</td>\n",
              "      <td>1</td>\n",
              "    </tr>\n",
              "    <tr>\n",
              "      <th>5</th>\n",
              "      <td>এই গল্পে প্রচুর থ্রিল থাকবে কি হবে কি হবে এটা ...</td>\n",
              "      <td>1</td>\n",
              "    </tr>\n",
              "    <tr>\n",
              "      <th>6</th>\n",
              "      <td>নিখুঁত অভিনয়। এরকম সিরিজ তৈরি করলে দেশীয় কন্টে...</td>\n",
              "      <td>1</td>\n",
              "    </tr>\n",
              "    <tr>\n",
              "      <th>7</th>\n",
              "      <td>চরকি মানেই ভিন্ন কিছু, আর সেটা যদি হয় আফরান নি...</td>\n",
              "      <td>1</td>\n",
              "    </tr>\n",
              "    <tr>\n",
              "      <th>8</th>\n",
              "      <td>অনেক ভালো মানের সিরিজ</td>\n",
              "      <td>1</td>\n",
              "    </tr>\n",
              "    <tr>\n",
              "      <th>9</th>\n",
              "      <td>আরফান নিশো ভাইয়ের নাটকের কাছে বাংলা ছায়াছবিও হ...</td>\n",
              "      <td>1</td>\n",
              "    </tr>\n",
              "  </tbody>\n",
              "</table>\n",
              "</div>\n",
              "      <button class=\"colab-df-convert\" onclick=\"convertToInteractive('df-ef45f73a-b11f-4b71-b273-6e9a08801e21')\"\n",
              "              title=\"Convert this dataframe to an interactive table.\"\n",
              "              style=\"display:none;\">\n",
              "        \n",
              "  <svg xmlns=\"http://www.w3.org/2000/svg\" height=\"24px\"viewBox=\"0 0 24 24\"\n",
              "       width=\"24px\">\n",
              "    <path d=\"M0 0h24v24H0V0z\" fill=\"none\"/>\n",
              "    <path d=\"M18.56 5.44l.94 2.06.94-2.06 2.06-.94-2.06-.94-.94-2.06-.94 2.06-2.06.94zm-11 1L8.5 8.5l.94-2.06 2.06-.94-2.06-.94L8.5 2.5l-.94 2.06-2.06.94zm10 10l.94 2.06.94-2.06 2.06-.94-2.06-.94-.94-2.06-.94 2.06-2.06.94z\"/><path d=\"M17.41 7.96l-1.37-1.37c-.4-.4-.92-.59-1.43-.59-.52 0-1.04.2-1.43.59L10.3 9.45l-7.72 7.72c-.78.78-.78 2.05 0 2.83L4 21.41c.39.39.9.59 1.41.59.51 0 1.02-.2 1.41-.59l7.78-7.78 2.81-2.81c.8-.78.8-2.07 0-2.86zM5.41 20L4 18.59l7.72-7.72 1.47 1.35L5.41 20z\"/>\n",
              "  </svg>\n",
              "      </button>\n",
              "      \n",
              "  <style>\n",
              "    .colab-df-container {\n",
              "      display:flex;\n",
              "      flex-wrap:wrap;\n",
              "      gap: 12px;\n",
              "    }\n",
              "\n",
              "    .colab-df-convert {\n",
              "      background-color: #E8F0FE;\n",
              "      border: none;\n",
              "      border-radius: 50%;\n",
              "      cursor: pointer;\n",
              "      display: none;\n",
              "      fill: #1967D2;\n",
              "      height: 32px;\n",
              "      padding: 0 0 0 0;\n",
              "      width: 32px;\n",
              "    }\n",
              "\n",
              "    .colab-df-convert:hover {\n",
              "      background-color: #E2EBFA;\n",
              "      box-shadow: 0px 1px 2px rgba(60, 64, 67, 0.3), 0px 1px 3px 1px rgba(60, 64, 67, 0.15);\n",
              "      fill: #174EA6;\n",
              "    }\n",
              "\n",
              "    [theme=dark] .colab-df-convert {\n",
              "      background-color: #3B4455;\n",
              "      fill: #D2E3FC;\n",
              "    }\n",
              "\n",
              "    [theme=dark] .colab-df-convert:hover {\n",
              "      background-color: #434B5C;\n",
              "      box-shadow: 0px 1px 3px 1px rgba(0, 0, 0, 0.15);\n",
              "      filter: drop-shadow(0px 1px 2px rgba(0, 0, 0, 0.3));\n",
              "      fill: #FFFFFF;\n",
              "    }\n",
              "  </style>\n",
              "\n",
              "      <script>\n",
              "        const buttonEl =\n",
              "          document.querySelector('#df-ef45f73a-b11f-4b71-b273-6e9a08801e21 button.colab-df-convert');\n",
              "        buttonEl.style.display =\n",
              "          google.colab.kernel.accessAllowed ? 'block' : 'none';\n",
              "\n",
              "        async function convertToInteractive(key) {\n",
              "          const element = document.querySelector('#df-ef45f73a-b11f-4b71-b273-6e9a08801e21');\n",
              "          const dataTable =\n",
              "            await google.colab.kernel.invokeFunction('convertToInteractive',\n",
              "                                                     [key], {});\n",
              "          if (!dataTable) return;\n",
              "\n",
              "          const docLinkHtml = 'Like what you see? Visit the ' +\n",
              "            '<a target=\"_blank\" href=https://colab.research.google.com/notebooks/data_table.ipynb>data table notebook</a>'\n",
              "            + ' to learn more about interactive tables.';\n",
              "          element.innerHTML = '';\n",
              "          dataTable['output_type'] = 'display_data';\n",
              "          await google.colab.output.renderOutput(dataTable, element);\n",
              "          const docLink = document.createElement('div');\n",
              "          docLink.innerHTML = docLinkHtml;\n",
              "          element.appendChild(docLink);\n",
              "        }\n",
              "      </script>\n",
              "    </div>\n",
              "  </div>\n",
              "  "
            ]
          },
          "metadata": {},
          "execution_count": 8
        }
      ],
      "source": [
        "data = pd.read_csv('/content/drive/MyDrive/ kutub/OTT Content Reviews.xlsx - Sheet1 (1).csv')\n",
        "\n",
        "data.head(10)"
      ]
    },
    {
      "cell_type": "code",
      "execution_count": 9,
      "metadata": {
        "id": "4RJSXbTfIfMB"
      },
      "outputs": [],
      "source": [
        "data.dropna(inplace=True)"
      ]
    },
    {
      "cell_type": "code",
      "execution_count": 10,
      "metadata": {
        "colab": {
          "base_uri": "https://localhost:8080/"
        },
        "id": "uUKMHGuIIKXQ",
        "outputId": "58676960-4238-48ea-e3b9-1ad0d4479487"
      },
      "outputs": [
        {
          "output_type": "stream",
          "name": "stdout",
          "text": [
            "Total Reviews: 5608 \n",
            "Total Positive Reviews: 0 \n",
            "Total Negative Reviews: 0 \n",
            "Total Neutral Reviews: 0\n"
          ]
        }
      ],
      "source": [
        "print(\"Total Reviews:\",len(data),\n",
        "      \"\\nTotal Positive Reviews:\",len(data[data.Label =='1']),\n",
        "      \"\\nTotal Negative Reviews:\",len(data[data.Label=='2']),\n",
        "      \"\\nTotal Neutral Reviews:\",len(data[data.Label =='0']))\n"
      ]
    },
    {
      "cell_type": "code",
      "execution_count": 10,
      "metadata": {
        "id": "XsJ6P_rBqleN"
      },
      "outputs": [],
      "source": []
    },
    {
      "cell_type": "code",
      "execution_count": 11,
      "metadata": {
        "colab": {
          "base_uri": "https://localhost:8080/"
        },
        "id": "1whUVnuxInXd",
        "outputId": "4f35726c-6cca-4c0c-a06c-812e2baba1e9"
      },
      "outputs": [
        {
          "output_type": "execute_result",
          "data": {
            "text/plain": [
              "Index(['Text', 'Label'], dtype='object')"
            ]
          },
          "metadata": {},
          "execution_count": 11
        }
      ],
      "source": [
        "data.columns"
      ]
    },
    {
      "cell_type": "code",
      "execution_count": 12,
      "metadata": {
        "colab": {
          "base_uri": "https://localhost:8080/"
        },
        "id": "wUsAPlRpIiSX",
        "outputId": "3c3aca4b-4d31-41f3-b796-3582324083bf"
      },
      "outputs": [
        {
          "output_type": "stream",
          "name": "stdout",
          "text": [
            "আগুন লাগিয়ে দিলো এক ঝলকেই \n",
            " Sentiment:--  0 \n",
            "\n",
            "পুড়াই আগুন \n",
            " Sentiment:--  1 \n",
            "\n",
            "চঞ্চল চৌধুরী এবং সালাউদ্দিন লাভলু ধামাকা কিছু হবে অপেক্ষায় রইলাম ️️️ \n",
            " Sentiment:--  1 \n",
            "\n",
            "বাপরে বাপ! আগুন। দেখতে হবে। Another masterpiece will coming soon.. \n",
            " Sentiment:--  1 \n",
            "\n",
            "আমার কি প্রেম হবে না ১৮ বছর ধরে আমি সিঙ্গেল😞😞😞 \n",
            " Sentiment:--  0 \n",
            "\n",
            "বাপরে আসলেই শ্বাসরুদ্ধকর ছিলো।এইটুকু দেখেই বোকের ভেতর ধড়পড় করছে জানিনা মুভিটা আরো কতোটা ভয়ংকর হবে।এই রকম মুভি আমার মতো দূর্বল চিত্তের মানুষের দেখা উচিত না। \n",
            " Sentiment:--  1 \n",
            "\n",
            "গল্প গুলা সুন্দর ছিল। বাংলায় এমন আরো অন্থরোলজি বানানো দরকার। \n",
            " Sentiment:--  1 \n",
            "\n",
            "পরিমনির কি চমৎকার আর সাবলীল অভিনয়। অভিনন্দন পরিমনি \n",
            " Sentiment:--  1 \n",
            "\n",
            "শ্যামল মাওলার কেনো ভয়েজ চেঞ্জ করা হয়েছে? \n",
            " Sentiment:--  2 \n",
            "\n",
            "শুরুতেই interest তৈরি হয়ে গেছে। \n",
            " Sentiment:--  1 \n",
            "\n",
            "গল্প গুলা সুন্দর ছিল। বাংলায় এমন আরো অন্থরোলজি বানানো দরকার। \n",
            " Sentiment:--  1 \n",
            "\n",
            "গল্পটা দারুন ছিল \n",
            " Sentiment:--  1 \n",
            "\n",
            "সর্বোচ্চ পর্যায়ের অভিনয় হয়েছে,,, ২০৭০ সালের জন্য রেখে গেলাম \n",
            " Sentiment:--  1 \n",
            "\n",
            "এই রকম কিছু দেখলে মনে হয়..যে দেশের মিডিয়া ইন্ডার্স্টি উন্নতি করছে. \n",
            " Sentiment:--  1 \n",
            "\n",
            "ভালোই লাগলো পরের পার্ট \n",
            " Sentiment:--  1 \n",
            "\n"
          ]
        }
      ],
      "source": [
        "# print some unprocessed reviews\n",
        "sample_data = [10,100,150,222,250,600,650,666,689,640,650,700,750,800,1000]\n",
        "for i in sample_data:\n",
        "      print(data.Text[i],'\\n','Sentiment:-- ',data.Label[i],'\\n')"
      ]
    },
    {
      "cell_type": "code",
      "execution_count": 13,
      "metadata": {
        "colab": {
          "base_uri": "https://localhost:8080/",
          "height": 272
        },
        "id": "Nq5LbzwbIpvA",
        "outputId": "5a786be3-8918-4e09-9f99-6d4383710755"
      },
      "outputs": [
        {
          "output_type": "display_data",
          "data": {
            "text/plain": [
              "<Figure size 648x216 with 1 Axes>"
            ],
            "image/png": "[encoded data removed]"
          },
          "metadata": {}
        }
      ],
      "source": [
        "sns.set(font_scale=1.4)\n",
        "data['Label'].value_counts().plot(kind='barh', figsize=(9, 3))\n",
        "plt.xlabel(\"Number of Comments\", labelpad=12)\n",
        "plt.ylabel(\"Sentiment Class\", labelpad=12)\n",
        "plt.yticks(rotation = 45)\n",
        "plt.title(\"Dataset Distribution\", y=1.02);"
      ]
    },
    {
      "cell_type": "code",
      "execution_count": 14,
      "metadata": {
        "colab": {
          "base_uri": "https://localhost:8080/"
        },
        "id": "oT1zxwysI6AB",
        "outputId": "8678e366-74e3-474a-e3c7-8d72de173045"
      },
      "outputs": [
        {
          "output_type": "stream",
          "name": "stdout",
          "text": [
            "Looking in indexes: https://pypi.org/simple, https://us-python.pkg.dev/colab-wheels/public/simple/\n",
            "Collecting bnlp_toolkit\n",
            "  Downloading bnlp_toolkit-3.2.0-py3-none-any.whl (19 kB)\n",
            "Collecting sentencepiece\n",
            "  Downloading sentencepiece-0.1.97-cp37-cp37m-manylinux_2_17_x86_64.manylinux2014_x86_64.whl (1.3 MB)\n",
            "\u001b[K     |████████████████████████████████| 1.3 MB 5.1 MB/s \n",
            "\u001b[?25hRequirement already satisfied: scipy in /usr/local/lib/python3.7/dist-packages (from bnlp_toolkit) (1.7.3)\n",
            "Requirement already satisfied: wasabi in /usr/local/lib/python3.7/dist-packages (from bnlp_toolkit) (0.10.1)\n",
            "Requirement already satisfied: numpy in /usr/local/lib/python3.7/dist-packages (from bnlp_toolkit) (1.21.6)\n",
            "Requirement already satisfied: tqdm in /usr/local/lib/python3.7/dist-packages (from bnlp_toolkit) (4.64.1)\n",
            "Requirement already satisfied: nltk in /usr/local/lib/python3.7/dist-packages (from bnlp_toolkit) (3.7)\n",
            "Collecting sklearn-crfsuite\n",
            "  Downloading sklearn_crfsuite-0.3.6-py2.py3-none-any.whl (12 kB)\n",
            "Collecting gensim==4.0.1\n",
            "  Downloading gensim-4.0.1-cp37-cp37m-manylinux1_x86_64.whl (23.9 MB)\n",
            "\u001b[K     |████████████████████████████████| 23.9 MB 1.2 MB/s \n",
            "\u001b[?25hRequirement already satisfied: smart-open>=1.8.1 in /usr/local/lib/python3.7/dist-packages (from gensim==4.0.1->bnlp_toolkit) (5.2.1)\n",
            "Requirement already satisfied: regex>=2021.8.3 in /usr/local/lib/python3.7/dist-packages (from nltk->bnlp_toolkit) (2022.6.2)\n",
            "Requirement already satisfied: click in /usr/local/lib/python3.7/dist-packages (from nltk->bnlp_toolkit) (7.1.2)\n",
            "Requirement already satisfied: joblib in /usr/local/lib/python3.7/dist-packages (from nltk->bnlp_toolkit) (1.2.0)\n",
            "Collecting python-crfsuite>=0.8.3\n",
            "  Downloading python_crfsuite-0.9.8-cp37-cp37m-manylinux_2_17_x86_64.manylinux2014_x86_64.whl (965 kB)\n",
            "\u001b[K     |████████████████████████████████| 965 kB 56.2 MB/s \n",
            "\u001b[?25hRequirement already satisfied: tabulate in /usr/local/lib/python3.7/dist-packages (from sklearn-crfsuite->bnlp_toolkit) (0.8.10)\n",
            "Requirement already satisfied: six in /usr/local/lib/python3.7/dist-packages (from sklearn-crfsuite->bnlp_toolkit) (1.15.0)\n",
            "Installing collected packages: python-crfsuite, sklearn-crfsuite, sentencepiece, gensim, bnlp-toolkit\n",
            "  Attempting uninstall: gensim\n",
            "    Found existing installation: gensim 3.6.0\n",
            "    Uninstalling gensim-3.6.0:\n",
            "      Successfully uninstalled gensim-3.6.0\n",
            "Successfully installed bnlp-toolkit-3.2.0 gensim-4.0.1 python-crfsuite-0.9.8 sentencepiece-0.1.97 sklearn-crfsuite-0.3.6\n"
          ]
        }
      ],
      "source": [
        "!pip install bnlp_toolkit"
      ]
    },
    {
      "cell_type": "code",
      "execution_count": 15,
      "metadata": {
        "id": "2qdDWxkcJDW4",
        "colab": {
          "base_uri": "https://localhost:8080/"
        },
        "outputId": "6c273dec-88ba-46c9-9be2-9bdaf811e998"
      },
      "outputs": [
        {
          "output_type": "stream",
          "name": "stdout",
          "text": [
            "punkt not found. downloading...\n"
          ]
        },
        {
          "output_type": "stream",
          "name": "stderr",
          "text": [
            "[nltk_data] Downloading package punkt to /root/nltk_data...\n",
            "[nltk_data]   Unzipping tokenizers/punkt.zip.\n"
          ]
        }
      ],
      "source": [
        "from bnlp import BasicTokenizer\n",
        "from bnlp.corpus import stopwords, punctuations, letters, digits\n",
        "import re\n",
        "\n",
        "btokenizer = BasicTokenizer()\n",
        "\n",
        "def clean_text(text):\n",
        "    text = re.sub('[^\\u0980-\\u09FF]',' ',str(text))\n",
        "    tokens = btokenizer.tokenize(text)\n",
        "    filtered = []\n",
        "    for i in tokens:\n",
        "        if i in stopwords:\n",
        "            continue\n",
        "    \n",
        "        if i in punctuations + '‘' + '’':\n",
        "            continue\n",
        "    \n",
        "        filtered.append(i)\n",
        "    \n",
        "    return \" \".join(filtered)"
      ]
    },
    {
      "cell_type": "code",
      "execution_count": 16,
      "metadata": {
        "id": "LKOIXlMNJJzT"
      },
      "outputs": [],
      "source": [
        "data['cleaned'] = data.Text.apply(clean_text)"
      ]
    },
    {
      "cell_type": "code",
      "source": [
        "data"
      ],
      "metadata": {
        "colab": {
          "base_uri": "https://localhost:8080/",
          "height": 424
        },
        "id": "SffqkTYpJuWV",
        "outputId": "79fd10dd-b00c-46e0-d546-a659b52f1ce7"
      },
      "execution_count": 17,
      "outputs": [
        {
          "output_type": "execute_result",
          "data": {
            "text/plain": [
              "                                                   Text  Label  \\\n",
              "0                     পুরাই অস্থির!!! \"সাকিল, চট্টগ্রাম      1   \n",
              "1     নাজিফা তুষি আপু অবিনয় টা বেস্ট ছিল ওনার জন্য ক...      1   \n",
              "2     পুরাই আগুন অনেক দিনের অপেক্ষায় আছি এই কাজ টা দ...      1   \n",
              "3        ইন্টারেস্টিং স্টোরি,অভিনয়, সিনেমেটোগ্রাফিও জোস      1   \n",
              "4     এট লিস্ট অনন্ত জলীল এর ১০০ কোটি টাকার মুভির ট্...      1   \n",
              "...                                                 ...    ...   \n",
              "5603                                   বউত অপেক্ষা গরির      1   \n",
              "5604                       জয় হোক চট্টগ্রামের সংস্কৃতির      1   \n",
              "5605  এটা ভারতীয় কালচারে নোংরা ওয়েব সিরিজের অনুকরণ...      2   \n",
              "5606  সিন্ডিকেটের প্রমোশনে এসে ফারিন আর তুষির এভাবে ...      2   \n",
              "5607  ইলুমিনাতির দালালি শুরু করে দিয়েছেন ভাই। এক সময়...      2   \n",
              "\n",
              "                                                cleaned  \n",
              "0                          পুরাই অস্থির সাকিল চট্টগ্রাম  \n",
              "1       নাজিফা তুষি আপু অবিনয় টা বেস্ট ওনার কান্না আসছে  \n",
              "2                পুরাই আগুন দিনের অপেক্ষায় আছি টা দেখার  \n",
              "3         ইন্টারেস্টিং স্টোরি অভিনয় সিনেমেটোগ্রাফিও জোস  \n",
              "4     এট লিস্ট অনন্ত জলীল ১০০ টাকার মুভির ট্রেইলার হ...  \n",
              "...                                                 ...  \n",
              "5603                                   বউত অপেক্ষা গরির  \n",
              "5604                           জয় চট্টগ্রামের সংস্কৃতির  \n",
              "5605  ভারতীয় কালচারে নোংরা ওয়েব সিরিজের অনুকরণ এগু...  \n",
              "5606  সিন্ডিকেটের প্রমোশনে ফারিন তুষির এভাবে চরকির স...  \n",
              "5607  ইলুমিনাতির দালালি দিয়েছেন ভাই এক সময় ওনেক ভালো...  \n",
              "\n",
              "[5608 rows x 3 columns]"
            ],
            "text/html": [
              "\n",
              "  <div id=\"df-50f5b79c-0f7a-4b4a-85cd-3f7802976628\">\n",
              "    <div class=\"colab-df-container\">\n",
              "      <div>\n",
              "<style scoped>\n",
              "    .dataframe tbody tr th:only-of-type {\n",
              "        vertical-align: middle;\n",
              "    }\n",
              "\n",
              "    .dataframe tbody tr th {\n",
              "        vertical-align: top;\n",
              "    }\n",
              "\n",
              "    .dataframe thead th {\n",
              "        text-align: right;\n",
              "    }\n",
              "</style>\n",
              "<table border=\"1\" class=\"dataframe\">\n",
              "  <thead>\n",
              "    <tr style=\"text-align: right;\">\n",
              "      <th></th>\n",
              "      <th>Text</th>\n",
              "      <th>Label</th>\n",
              "      <th>cleaned</th>\n",
              "    </tr>\n",
              "  </thead>\n",
              "  <tbody>\n",
              "    <tr>\n",
              "      <th>0</th>\n",
              "      <td>পুরাই অস্থির!!! \"সাকিল, চট্টগ্রাম</td>\n",
              "      <td>1</td>\n",
              "      <td>পুরাই অস্থির সাকিল চট্টগ্রাম</td>\n",
              "    </tr>\n",
              "    <tr>\n",
              "      <th>1</th>\n",
              "      <td>নাজিফা তুষি আপু অবিনয় টা বেস্ট ছিল ওনার জন্য ক...</td>\n",
              "      <td>1</td>\n",
              "      <td>নাজিফা তুষি আপু অবিনয় টা বেস্ট ওনার কান্না আসছে</td>\n",
              "    </tr>\n",
              "    <tr>\n",
              "      <th>2</th>\n",
              "      <td>পুরাই আগুন অনেক দিনের অপেক্ষায় আছি এই কাজ টা দ...</td>\n",
              "      <td>1</td>\n",
              "      <td>পুরাই আগুন দিনের অপেক্ষায় আছি টা দেখার</td>\n",
              "    </tr>\n",
              "    <tr>\n",
              "      <th>3</th>\n",
              "      <td>ইন্টারেস্টিং স্টোরি,অভিনয়, সিনেমেটোগ্রাফিও জোস</td>\n",
              "      <td>1</td>\n",
              "      <td>ইন্টারেস্টিং স্টোরি অভিনয় সিনেমেটোগ্রাফিও জোস</td>\n",
              "    </tr>\n",
              "    <tr>\n",
              "      <th>4</th>\n",
              "      <td>এট লিস্ট অনন্ত জলীল এর ১০০ কোটি টাকার মুভির ট্...</td>\n",
              "      <td>1</td>\n",
              "      <td>এট লিস্ট অনন্ত জলীল ১০০ টাকার মুভির ট্রেইলার হ...</td>\n",
              "    </tr>\n",
              "    <tr>\n",
              "      <th>...</th>\n",
              "      <td>...</td>\n",
              "      <td>...</td>\n",
              "      <td>...</td>\n",
              "    </tr>\n",
              "    <tr>\n",
              "      <th>5603</th>\n",
              "      <td>বউত অপেক্ষা গরির</td>\n",
              "      <td>1</td>\n",
              "      <td>বউত অপেক্ষা গরির</td>\n",
              "    </tr>\n",
              "    <tr>\n",
              "      <th>5604</th>\n",
              "      <td>জয় হোক চট্টগ্রামের সংস্কৃতির</td>\n",
              "      <td>1</td>\n",
              "      <td>জয় চট্টগ্রামের সংস্কৃতির</td>\n",
              "    </tr>\n",
              "    <tr>\n",
              "      <th>5605</th>\n",
              "      <td>এটা ভারতীয় কালচারে নোংরা ওয়েব সিরিজের অনুকরণ...</td>\n",
              "      <td>2</td>\n",
              "      <td>ভারতীয় কালচারে নোংরা ওয়েব সিরিজের অনুকরণ এগু...</td>\n",
              "    </tr>\n",
              "    <tr>\n",
              "      <th>5606</th>\n",
              "      <td>সিন্ডিকেটের প্রমোশনে এসে ফারিন আর তুষির এভাবে ...</td>\n",
              "      <td>2</td>\n",
              "      <td>সিন্ডিকেটের প্রমোশনে ফারিন তুষির এভাবে চরকির স...</td>\n",
              "    </tr>\n",
              "    <tr>\n",
              "      <th>5607</th>\n",
              "      <td>ইলুমিনাতির দালালি শুরু করে দিয়েছেন ভাই। এক সময়...</td>\n",
              "      <td>2</td>\n",
              "      <td>ইলুমিনাতির দালালি দিয়েছেন ভাই এক সময় ওনেক ভালো...</td>\n",
              "    </tr>\n",
              "  </tbody>\n",
              "</table>\n",
              "<p>5608 rows × 3 columns</p>\n",
              "</div>\n",
              "      <button class=\"colab-df-convert\" onclick=\"convertToInteractive('df-50f5b79c-0f7a-4b4a-85cd-3f7802976628')\"\n",
              "              title=\"Convert this dataframe to an interactive table.\"\n",
              "              style=\"display:none;\">\n",
              "        \n",
              "  <svg xmlns=\"http://www.w3.org/2000/svg\" height=\"24px\"viewBox=\"0 0 24 24\"\n",
              "       width=\"24px\">\n",
              "    <path d=\"M0 0h24v24H0V0z\" fill=\"none\"/>\n",
              "    <path d=\"M18.56 5.44l.94 2.06.94-2.06 2.06-.94-2.06-.94-.94-2.06-.94 2.06-2.06.94zm-11 1L8.5 8.5l.94-2.06 2.06-.94-2.06-.94L8.5 2.5l-.94 2.06-2.06.94zm10 10l.94 2.06.94-2.06 2.06-.94-2.06-.94-.94-2.06-.94 2.06-2.06.94z\"/><path d=\"M17.41 7.96l-1.37-1.37c-.4-.4-.92-.59-1.43-.59-.52 0-1.04.2-1.43.59L10.3 9.45l-7.72 7.72c-.78.78-.78 2.05 0 2.83L4 21.41c.39.39.9.59 1.41.59.51 0 1.02-.2 1.41-.59l7.78-7.78 2.81-2.81c.8-.78.8-2.07 0-2.86zM5.41 20L4 18.59l7.72-7.72 1.47 1.35L5.41 20z\"/>\n",
              "  </svg>\n",
              "      </button>\n",
              "      \n",
              "  <style>\n",
              "    .colab-df-container {\n",
              "      display:flex;\n",
              "      flex-wrap:wrap;\n",
              "      gap: 12px;\n",
              "    }\n",
              "\n",
              "    .colab-df-convert {\n",
              "      background-color: #E8F0FE;\n",
              "      border: none;\n",
              "      border-radius: 50%;\n",
              "      cursor: pointer;\n",
              "      display: none;\n",
              "      fill: #1967D2;\n",
              "      height: 32px;\n",
              "      padding: 0 0 0 0;\n",
              "      width: 32px;\n",
              "    }\n",
              "\n",
              "    .colab-df-convert:hover {\n",
              "      background-color: #E2EBFA;\n",
              "      box-shadow: 0px 1px 2px rgba(60, 64, 67, 0.3), 0px 1px 3px 1px rgba(60, 64, 67, 0.15);\n",
              "      fill: #174EA6;\n",
              "    }\n",
              "\n",
              "    [theme=dark] .colab-df-convert {\n",
              "      background-color: #3B4455;\n",
              "      fill: #D2E3FC;\n",
              "    }\n",
              "\n",
              "    [theme=dark] .colab-df-convert:hover {\n",
              "      background-color: #434B5C;\n",
              "      box-shadow: 0px 1px 3px 1px rgba(0, 0, 0, 0.15);\n",
              "      filter: drop-shadow(0px 1px 2px rgba(0, 0, 0, 0.3));\n",
              "      fill: #FFFFFF;\n",
              "    }\n",
              "  </style>\n",
              "\n",
              "      <script>\n",
              "        const buttonEl =\n",
              "          document.querySelector('#df-50f5b79c-0f7a-4b4a-85cd-3f7802976628 button.colab-df-convert');\n",
              "        buttonEl.style.display =\n",
              "          google.colab.kernel.accessAllowed ? 'block' : 'none';\n",
              "\n",
              "        async function convertToInteractive(key) {\n",
              "          const element = document.querySelector('#df-50f5b79c-0f7a-4b4a-85cd-3f7802976628');\n",
              "          const dataTable =\n",
              "            await google.colab.kernel.invokeFunction('convertToInteractive',\n",
              "                                                     [key], {});\n",
              "          if (!dataTable) return;\n",
              "\n",
              "          const docLinkHtml = 'Like what you see? Visit the ' +\n",
              "            '<a target=\"_blank\" href=https://colab.research.google.com/notebooks/data_table.ipynb>data table notebook</a>'\n",
              "            + ' to learn more about interactive tables.';\n",
              "          element.innerHTML = '';\n",
              "          dataTable['output_type'] = 'display_data';\n",
              "          await google.colab.output.renderOutput(dataTable, element);\n",
              "          const docLink = document.createElement('div');\n",
              "          docLink.innerHTML = docLinkHtml;\n",
              "          element.appendChild(docLink);\n",
              "        }\n",
              "      </script>\n",
              "    </div>\n",
              "  </div>\n",
              "  "
            ]
          },
          "metadata": {},
          "execution_count": 17
        }
      ]
    },
    {
      "cell_type": "code",
      "execution_count": 18,
      "metadata": {
        "colab": {
          "base_uri": "https://localhost:8080/"
        },
        "id": "aApcPLuyun9O",
        "outputId": "814a4609-0af8-4737-f34f-44c5442bfbdb"
      },
      "outputs": [
        {
          "output_type": "stream",
          "name": "stdout",
          "text": [
            "Original:\n",
            " আগুন লাগিয়ে দিলো এক ঝলকেই \n",
            "Cleaned:\n",
            " আগুন লাগিয়ে দিলো এক ঝলকেই \n",
            " Sentiment:--  0 \n",
            "\n",
            "Original:\n",
            " পুড়াই আগুন \n",
            "Cleaned:\n",
            " পুড়াই আগুন \n",
            " Sentiment:--  1 \n",
            "\n",
            "Original:\n",
            " অসাধারণ অভিনয় নিশো ভাই। \n",
            "Cleaned:\n",
            " অসাধারণ অভিনয় নিশো ভাই \n",
            " Sentiment:--  1 \n",
            "\n",
            "Original:\n",
            " দিঘির অভিনয় অনেক ভালো হইছে। আমারতো নাটকটা দেখতে ইচ্ছা করছে। \n",
            "Cleaned:\n",
            " দিঘির অভিনয় ভালো হইছে আমারতো নাটকটা ইচ্ছা \n",
            " Sentiment:--  1 \n",
            "\n",
            "Original:\n",
            " শুরু থেকে এই দেখছি এটা তবে একটু ভালো থাকি আর বেশি সময় খারাপ থাকি মানে এটা দেখে মন খারাপ হয় আর কি। ১০৪ পর্ব দেখে আর সহ্য করতে পারি নি।যদিও এটা নাটক তার পরে ও কেমন যে একটা ব্যাথা।মনে হয় বাস্তবতা \n",
            "Cleaned:\n",
            " দেখছি একটু ভালো থাকি সময় খারাপ থাকি মানে মন খারাপ ১০৪ পর্ব সহ্য নি নাটক কেমন একটা ব্যাথা বাস্তবতা \n",
            " Sentiment:--  1 \n",
            "\n",
            "Original:\n",
            " সর্ব কালের শ্রেষ্ঠ। তাই উনি মহানায়ক। ধরিত্রীর বুকে এত ভাল অভিনেতা আর কোনদিন জন্মাবে না। বাংলা চলচ্চিত্র জগতে ওনার সামনে সকলেই ম্লান। \n",
            "Cleaned:\n",
            " সর্ব কালের শ্রেষ্ঠ মহানায়ক ধরিত্রীর বুকে ভাল অভিনেতা কোনদিন জন্মাবে বাংলা চলচ্চিত্র জগতে ওনার সকলেই ম্লান \n",
            " Sentiment:--  1 \n",
            "\n",
            "Original:\n",
            " সেই লেভেলের হইছে, পুরোটার অপেক্ষায় থাকলাম \n",
            "Cleaned:\n",
            " লেভেলের হইছে পুরোটার অপেক্ষায় থাকলাম \n",
            " Sentiment:--  1 \n",
            "\n",
            "Original:\n",
            " Mahafuja Khanam নোংরা সংস্কৃতির জনক হইচই  এবং তার অনুগত পাঁঠারা। \n",
            "Cleaned:\n",
            " নোংরা সংস্কৃতির জনক হইচই অনুগত পাঁঠারা \n",
            " Sentiment:--  2 \n",
            "\n",
            "Original:\n",
            " সৌরভ... আর সাথে এই গায়ে কাঁটা দেওয়া গান... ️️️️ \n",
            "Cleaned:\n",
            " সৌরভ সাথে গায়ে কাঁটা গান \n",
            " Sentiment:--  1 \n",
            "\n",
            "Original:\n",
            " ৩৫ থেকে ৫৫ বয়েসের যেসব মহিলারা যারা যৌনঅতৃপ্ত বা যৌনতায় আগ্রহ হারিয়ে ফেলছো, নতুনত্ব-উত্তেজনাকর যৌনজীবন উপভোগ করতে চাও তারা যোগাযোগ করো। চ্যাট/ফোন/ক্যাম এ পুরাপুরি হট করে অর্গ্যাজাম করে দেব....রিয়ালেও করতে পারো, আমার সেফ প্লেস আছে বা তোমার প্লেসে আসতে পারি..খুব নাইস সাক করতে পারি..আমার জিনিস ৭ ইঞ্চি লম্বা অনেক মোটা আর লোহার মতো শক্ত..ইচ্ছে মতো যত টাইম দরকার ততো টাইম নিয়ে আউট করতে পারি.. ভার্চুয়াল বা রিয়েল দুটাতেই চরম তৃপ্তি পাবে। \n",
            "Cleaned:\n",
            " ৩৫ ৫৫ বয়েসের যেসব মহিলারা যৌনঅতৃপ্ত যৌনতায় আগ্রহ হারিয়ে ফেলছো নতুনত্ব উত্তেজনাকর যৌনজীবন উপভোগ চাও যোগাযোগ করো চ্যাট ফোন ক্যাম পুরাপুরি হট অর্গ্যাজাম দেব রিয়ালেও পারো সেফ প্লেস প্লেসে আসতে নাইস সাক জিনিস ৭ ইঞ্চি লম্বা মোটা লোহার শক্ত ইচ্ছে টাইম দরকার ততো টাইম আউট ভার্চুয়াল রিয়েল দুটাতেই চরম তৃপ্তি পাবে \n",
            " Sentiment:--  0 \n",
            "\n",
            "Original:\n",
            " গরীবের জনী😆 \n",
            "Cleaned:\n",
            " গরীবের জনী \n",
            " Sentiment:--  2 \n",
            "\n",
            "Original:\n",
            " পরিচালকের উচিৎ ছিল ফারিনকে অস্ত্র ধরা শেখানোর........ 1:45 -1:46 \n",
            "Cleaned:\n",
            " পরিচালকের উচিৎ ফারিনকে অস্ত্র শেখানোর \n",
            " Sentiment:--  2 \n",
            "\n"
          ]
        }
      ],
      "source": [
        "# Apply the function into the dataframe\n",
        "data['cleaned'] = data['Text'].apply(clean_text)  \n",
        "\n",
        "# print some cleaned reviews from the dataset\n",
        "sample_data = [10,100,25,854,966,1500,1589,1700,2000,2500,4000,4500]\n",
        "for i in sample_data:\n",
        "     print('Original:\\n',data.Text[i],'\\nCleaned:\\n',\n",
        "           data.cleaned[i],'\\n','Sentiment:-- ',data.Label[i],'\\n')"
      ]
    },
    {
      "cell_type": "code",
      "execution_count": 19,
      "metadata": {
        "colab": {
          "base_uri": "https://localhost:8080/",
          "height": 424
        },
        "id": "nhpCW7ihJMK3",
        "outputId": "dfbf324d-e406-4b88-d4d0-2777b2258a57"
      },
      "outputs": [
        {
          "output_type": "execute_result",
          "data": {
            "text/plain": [
              "                                                   Text  Label  \\\n",
              "0                     পুরাই অস্থির!!! \"সাকিল, চট্টগ্রাম      1   \n",
              "1     নাজিফা তুষি আপু অবিনয় টা বেস্ট ছিল ওনার জন্য ক...      1   \n",
              "2     পুরাই আগুন অনেক দিনের অপেক্ষায় আছি এই কাজ টা দ...      1   \n",
              "3        ইন্টারেস্টিং স্টোরি,অভিনয়, সিনেমেটোগ্রাফিও জোস      1   \n",
              "4     এট লিস্ট অনন্ত জলীল এর ১০০ কোটি টাকার মুভির ট্...      1   \n",
              "...                                                 ...    ...   \n",
              "5603                                   বউত অপেক্ষা গরির      1   \n",
              "5604                       জয় হোক চট্টগ্রামের সংস্কৃতির      1   \n",
              "5605  এটা ভারতীয় কালচারে নোংরা ওয়েব সিরিজের অনুকরণ...      2   \n",
              "5606  সিন্ডিকেটের প্রমোশনে এসে ফারিন আর তুষির এভাবে ...      2   \n",
              "5607  ইলুমিনাতির দালালি শুরু করে দিয়েছেন ভাই। এক সময়...      2   \n",
              "\n",
              "                                                cleaned  \n",
              "0                          পুরাই অস্থির সাকিল চট্টগ্রাম  \n",
              "1       নাজিফা তুষি আপু অবিনয় টা বেস্ট ওনার কান্না আসছে  \n",
              "2                পুরাই আগুন দিনের অপেক্ষায় আছি টা দেখার  \n",
              "3         ইন্টারেস্টিং স্টোরি অভিনয় সিনেমেটোগ্রাফিও জোস  \n",
              "4     এট লিস্ট অনন্ত জলীল ১০০ টাকার মুভির ট্রেইলার হ...  \n",
              "...                                                 ...  \n",
              "5603                                   বউত অপেক্ষা গরির  \n",
              "5604                           জয় চট্টগ্রামের সংস্কৃতির  \n",
              "5605  ভারতীয় কালচারে নোংরা ওয়েব সিরিজের অনুকরণ এগু...  \n",
              "5606  সিন্ডিকেটের প্রমোশনে ফারিন তুষির এভাবে চরকির স...  \n",
              "5607  ইলুমিনাতির দালালি দিয়েছেন ভাই এক সময় ওনেক ভালো...  \n",
              "\n",
              "[5608 rows x 3 columns]"
            ],
            "text/html": [
              "\n",
              "  <div id=\"df-565b14c1-82b3-4aba-ad88-6993bd7dff6b\">\n",
              "    <div class=\"colab-df-container\">\n",
              "      <div>\n",
              "<style scoped>\n",
              "    .dataframe tbody tr th:only-of-type {\n",
              "        vertical-align: middle;\n",
              "    }\n",
              "\n",
              "    .dataframe tbody tr th {\n",
              "        vertical-align: top;\n",
              "    }\n",
              "\n",
              "    .dataframe thead th {\n",
              "        text-align: right;\n",
              "    }\n",
              "</style>\n",
              "<table border=\"1\" class=\"dataframe\">\n",
              "  <thead>\n",
              "    <tr style=\"text-align: right;\">\n",
              "      <th></th>\n",
              "      <th>Text</th>\n",
              "      <th>Label</th>\n",
              "      <th>cleaned</th>\n",
              "    </tr>\n",
              "  </thead>\n",
              "  <tbody>\n",
              "    <tr>\n",
              "      <th>0</th>\n",
              "      <td>পুরাই অস্থির!!! \"সাকিল, চট্টগ্রাম</td>\n",
              "      <td>1</td>\n",
              "      <td>পুরাই অস্থির সাকিল চট্টগ্রাম</td>\n",
              "    </tr>\n",
              "    <tr>\n",
              "      <th>1</th>\n",
              "      <td>নাজিফা তুষি আপু অবিনয় টা বেস্ট ছিল ওনার জন্য ক...</td>\n",
              "      <td>1</td>\n",
              "      <td>নাজিফা তুষি আপু অবিনয় টা বেস্ট ওনার কান্না আসছে</td>\n",
              "    </tr>\n",
              "    <tr>\n",
              "      <th>2</th>\n",
              "      <td>পুরাই আগুন অনেক দিনের অপেক্ষায় আছি এই কাজ টা দ...</td>\n",
              "      <td>1</td>\n",
              "      <td>পুরাই আগুন দিনের অপেক্ষায় আছি টা দেখার</td>\n",
              "    </tr>\n",
              "    <tr>\n",
              "      <th>3</th>\n",
              "      <td>ইন্টারেস্টিং স্টোরি,অভিনয়, সিনেমেটোগ্রাফিও জোস</td>\n",
              "      <td>1</td>\n",
              "      <td>ইন্টারেস্টিং স্টোরি অভিনয় সিনেমেটোগ্রাফিও জোস</td>\n",
              "    </tr>\n",
              "    <tr>\n",
              "      <th>4</th>\n",
              "      <td>এট লিস্ট অনন্ত জলীল এর ১০০ কোটি টাকার মুভির ট্...</td>\n",
              "      <td>1</td>\n",
              "      <td>এট লিস্ট অনন্ত জলীল ১০০ টাকার মুভির ট্রেইলার হ...</td>\n",
              "    </tr>\n",
              "    <tr>\n",
              "      <th>...</th>\n",
              "      <td>...</td>\n",
              "      <td>...</td>\n",
              "      <td>...</td>\n",
              "    </tr>\n",
              "    <tr>\n",
              "      <th>5603</th>\n",
              "      <td>বউত অপেক্ষা গরির</td>\n",
              "      <td>1</td>\n",
              "      <td>বউত অপেক্ষা গরির</td>\n",
              "    </tr>\n",
              "    <tr>\n",
              "      <th>5604</th>\n",
              "      <td>জয় হোক চট্টগ্রামের সংস্কৃতির</td>\n",
              "      <td>1</td>\n",
              "      <td>জয় চট্টগ্রামের সংস্কৃতির</td>\n",
              "    </tr>\n",
              "    <tr>\n",
              "      <th>5605</th>\n",
              "      <td>এটা ভারতীয় কালচারে নোংরা ওয়েব সিরিজের অনুকরণ...</td>\n",
              "      <td>2</td>\n",
              "      <td>ভারতীয় কালচারে নোংরা ওয়েব সিরিজের অনুকরণ এগু...</td>\n",
              "    </tr>\n",
              "    <tr>\n",
              "      <th>5606</th>\n",
              "      <td>সিন্ডিকেটের প্রমোশনে এসে ফারিন আর তুষির এভাবে ...</td>\n",
              "      <td>2</td>\n",
              "      <td>সিন্ডিকেটের প্রমোশনে ফারিন তুষির এভাবে চরকির স...</td>\n",
              "    </tr>\n",
              "    <tr>\n",
              "      <th>5607</th>\n",
              "      <td>ইলুমিনাতির দালালি শুরু করে দিয়েছেন ভাই। এক সময়...</td>\n",
              "      <td>2</td>\n",
              "      <td>ইলুমিনাতির দালালি দিয়েছেন ভাই এক সময় ওনেক ভালো...</td>\n",
              "    </tr>\n",
              "  </tbody>\n",
              "</table>\n",
              "<p>5608 rows × 3 columns</p>\n",
              "</div>\n",
              "      <button class=\"colab-df-convert\" onclick=\"convertToInteractive('df-565b14c1-82b3-4aba-ad88-6993bd7dff6b')\"\n",
              "              title=\"Convert this dataframe to an interactive table.\"\n",
              "              style=\"display:none;\">\n",
              "        \n",
              "  <svg xmlns=\"http://www.w3.org/2000/svg\" height=\"24px\"viewBox=\"0 0 24 24\"\n",
              "       width=\"24px\">\n",
              "    <path d=\"M0 0h24v24H0V0z\" fill=\"none\"/>\n",
              "    <path d=\"M18.56 5.44l.94 2.06.94-2.06 2.06-.94-2.06-.94-.94-2.06-.94 2.06-2.06.94zm-11 1L8.5 8.5l.94-2.06 2.06-.94-2.06-.94L8.5 2.5l-.94 2.06-2.06.94zm10 10l.94 2.06.94-2.06 2.06-.94-2.06-.94-.94-2.06-.94 2.06-2.06.94z\"/><path d=\"M17.41 7.96l-1.37-1.37c-.4-.4-.92-.59-1.43-.59-.52 0-1.04.2-1.43.59L10.3 9.45l-7.72 7.72c-.78.78-.78 2.05 0 2.83L4 21.41c.39.39.9.59 1.41.59.51 0 1.02-.2 1.41-.59l7.78-7.78 2.81-2.81c.8-.78.8-2.07 0-2.86zM5.41 20L4 18.59l7.72-7.72 1.47 1.35L5.41 20z\"/>\n",
              "  </svg>\n",
              "      </button>\n",
              "      \n",
              "  <style>\n",
              "    .colab-df-container {\n",
              "      display:flex;\n",
              "      flex-wrap:wrap;\n",
              "      gap: 12px;\n",
              "    }\n",
              "\n",
              "    .colab-df-convert {\n",
              "      background-color: #E8F0FE;\n",
              "      border: none;\n",
              "      border-radius: 50%;\n",
              "      cursor: pointer;\n",
              "      display: none;\n",
              "      fill: #1967D2;\n",
              "      height: 32px;\n",
              "      padding: 0 0 0 0;\n",
              "      width: 32px;\n",
              "    }\n",
              "\n",
              "    .colab-df-convert:hover {\n",
              "      background-color: #E2EBFA;\n",
              "      box-shadow: 0px 1px 2px rgba(60, 64, 67, 0.3), 0px 1px 3px 1px rgba(60, 64, 67, 0.15);\n",
              "      fill: #174EA6;\n",
              "    }\n",
              "\n",
              "    [theme=dark] .colab-df-convert {\n",
              "      background-color: #3B4455;\n",
              "      fill: #D2E3FC;\n",
              "    }\n",
              "\n",
              "    [theme=dark] .colab-df-convert:hover {\n",
              "      background-color: #434B5C;\n",
              "      box-shadow: 0px 1px 3px 1px rgba(0, 0, 0, 0.15);\n",
              "      filter: drop-shadow(0px 1px 2px rgba(0, 0, 0, 0.3));\n",
              "      fill: #FFFFFF;\n",
              "    }\n",
              "  </style>\n",
              "\n",
              "      <script>\n",
              "        const buttonEl =\n",
              "          document.querySelector('#df-565b14c1-82b3-4aba-ad88-6993bd7dff6b button.colab-df-convert');\n",
              "        buttonEl.style.display =\n",
              "          google.colab.kernel.accessAllowed ? 'block' : 'none';\n",
              "\n",
              "        async function convertToInteractive(key) {\n",
              "          const element = document.querySelector('#df-565b14c1-82b3-4aba-ad88-6993bd7dff6b');\n",
              "          const dataTable =\n",
              "            await google.colab.kernel.invokeFunction('convertToInteractive',\n",
              "                                                     [key], {});\n",
              "          if (!dataTable) return;\n",
              "\n",
              "          const docLinkHtml = 'Like what you see? Visit the ' +\n",
              "            '<a target=\"_blank\" href=https://colab.research.google.com/notebooks/data_table.ipynb>data table notebook</a>'\n",
              "            + ' to learn more about interactive tables.';\n",
              "          element.innerHTML = '';\n",
              "          dataTable['output_type'] = 'display_data';\n",
              "          await google.colab.output.renderOutput(dataTable, element);\n",
              "          const docLink = document.createElement('div');\n",
              "          docLink.innerHTML = docLinkHtml;\n",
              "          element.appendChild(docLink);\n",
              "        }\n",
              "      </script>\n",
              "    </div>\n",
              "  </div>\n",
              "  "
            ]
          },
          "metadata": {},
          "execution_count": 19
        }
      ],
      "source": [
        "data"
      ]
    },
    {
      "cell_type": "code",
      "execution_count": 20,
      "metadata": {
        "id": "BLh9cTsGJPFI"
      },
      "outputs": [],
      "source": [
        "data['length'] = data['cleaned'].apply(lambda x:len(x.split()))\n",
        "\n",
        "# Remove the reviews with least words\n",
        "dataset = data.loc[data.length>2]\n",
        "dataset = data.reset_index(drop = True)"
      ]
    },
    {
      "cell_type": "code",
      "execution_count": 21,
      "metadata": {
        "colab": {
          "base_uri": "https://localhost:8080/"
        },
        "id": "m7G9OISLJVKZ",
        "outputId": "f7c1fea8-8255-4f37-8fd0-7d738b3617c2"
      },
      "outputs": [
        {
          "output_type": "stream",
          "name": "stdout",
          "text": [
            "After Cleaning: \n",
            "Removed 0 Small Reviews \n",
            "Total Reviews: 5608\n"
          ]
        }
      ],
      "source": [
        "print(\"After Cleaning:\",\"\\nRemoved {} Small Reviews\".format(len(data)-len(dataset)),\n",
        "      \"\\nTotal Reviews:\",len(dataset))"
      ]
    },
    {
      "cell_type": "code",
      "execution_count": 22,
      "metadata": {
        "colab": {
          "base_uri": "https://localhost:8080/"
        },
        "id": "ZXDkfzH1Lydr",
        "outputId": "37ecf0c2-6d2b-4cbc-d586-74857734f3b2"
      },
      "outputs": [
        {
          "output_type": "stream",
          "name": "stdout",
          "text": [
            "Maximum Length of a Review: 153\n",
            "Minimum Length of a Review: 0\n",
            "Average Length of a Review: 8.0\n"
          ]
        }
      ],
      "source": [
        "print(\"Maximum Length of a Review:\",max(dataset.length))\n",
        "print(\"Minimum Length of a Review:\", min(dataset.length))\n",
        "print(\"Average Length of a Review:\",round(np.mean(dataset.length),0))"
      ]
    },
    {
      "cell_type": "code",
      "execution_count": 23,
      "metadata": {
        "colab": {
          "base_uri": "https://localhost:8080/",
          "height": 206
        },
        "id": "81t50CQMMZ_3",
        "outputId": "87b3fa8d-7a33-4a4f-a142-44cafeb07253"
      },
      "outputs": [
        {
          "output_type": "execute_result",
          "data": {
            "text/plain": [
              "                                             cleaned  Label\n",
              "0                       পুরাই অস্থির সাকিল চট্টগ্রাম      1\n",
              "1    নাজিফা তুষি আপু অবিনয় টা বেস্ট ওনার কান্না আসছে      1\n",
              "2             পুরাই আগুন দিনের অপেক্ষায় আছি টা দেখার      1\n",
              "3      ইন্টারেস্টিং স্টোরি অভিনয় সিনেমেটোগ্রাফিও জোস      1\n",
              "4  এট লিস্ট অনন্ত জলীল ১০০ টাকার মুভির ট্রেইলার হ...      1"
            ],
            "text/html": [
              "\n",
              "  <div id=\"df-5435de3d-5525-40dd-96e2-92f3f42e9759\">\n",
              "    <div class=\"colab-df-container\">\n",
              "      <div>\n",
              "<style scoped>\n",
              "    .dataframe tbody tr th:only-of-type {\n",
              "        vertical-align: middle;\n",
              "    }\n",
              "\n",
              "    .dataframe tbody tr th {\n",
              "        vertical-align: top;\n",
              "    }\n",
              "\n",
              "    .dataframe thead th {\n",
              "        text-align: right;\n",
              "    }\n",
              "</style>\n",
              "<table border=\"1\" class=\"dataframe\">\n",
              "  <thead>\n",
              "    <tr style=\"text-align: right;\">\n",
              "      <th></th>\n",
              "      <th>cleaned</th>\n",
              "      <th>Label</th>\n",
              "    </tr>\n",
              "  </thead>\n",
              "  <tbody>\n",
              "    <tr>\n",
              "      <th>0</th>\n",
              "      <td>পুরাই অস্থির সাকিল চট্টগ্রাম</td>\n",
              "      <td>1</td>\n",
              "    </tr>\n",
              "    <tr>\n",
              "      <th>1</th>\n",
              "      <td>নাজিফা তুষি আপু অবিনয় টা বেস্ট ওনার কান্না আসছে</td>\n",
              "      <td>1</td>\n",
              "    </tr>\n",
              "    <tr>\n",
              "      <th>2</th>\n",
              "      <td>পুরাই আগুন দিনের অপেক্ষায় আছি টা দেখার</td>\n",
              "      <td>1</td>\n",
              "    </tr>\n",
              "    <tr>\n",
              "      <th>3</th>\n",
              "      <td>ইন্টারেস্টিং স্টোরি অভিনয় সিনেমেটোগ্রাফিও জোস</td>\n",
              "      <td>1</td>\n",
              "    </tr>\n",
              "    <tr>\n",
              "      <th>4</th>\n",
              "      <td>এট লিস্ট অনন্ত জলীল ১০০ টাকার মুভির ট্রেইলার হ...</td>\n",
              "      <td>1</td>\n",
              "    </tr>\n",
              "  </tbody>\n",
              "</table>\n",
              "</div>\n",
              "      <button class=\"colab-df-convert\" onclick=\"convertToInteractive('df-5435de3d-5525-40dd-96e2-92f3f42e9759')\"\n",
              "              title=\"Convert this dataframe to an interactive table.\"\n",
              "              style=\"display:none;\">\n",
              "        \n",
              "  <svg xmlns=\"http://www.w3.org/2000/svg\" height=\"24px\"viewBox=\"0 0 24 24\"\n",
              "       width=\"24px\">\n",
              "    <path d=\"M0 0h24v24H0V0z\" fill=\"none\"/>\n",
              "    <path d=\"M18.56 5.44l.94 2.06.94-2.06 2.06-.94-2.06-.94-.94-2.06-.94 2.06-2.06.94zm-11 1L8.5 8.5l.94-2.06 2.06-.94-2.06-.94L8.5 2.5l-.94 2.06-2.06.94zm10 10l.94 2.06.94-2.06 2.06-.94-2.06-.94-.94-2.06-.94 2.06-2.06.94z\"/><path d=\"M17.41 7.96l-1.37-1.37c-.4-.4-.92-.59-1.43-.59-.52 0-1.04.2-1.43.59L10.3 9.45l-7.72 7.72c-.78.78-.78 2.05 0 2.83L4 21.41c.39.39.9.59 1.41.59.51 0 1.02-.2 1.41-.59l7.78-7.78 2.81-2.81c.8-.78.8-2.07 0-2.86zM5.41 20L4 18.59l7.72-7.72 1.47 1.35L5.41 20z\"/>\n",
              "  </svg>\n",
              "      </button>\n",
              "      \n",
              "  <style>\n",
              "    .colab-df-container {\n",
              "      display:flex;\n",
              "      flex-wrap:wrap;\n",
              "      gap: 12px;\n",
              "    }\n",
              "\n",
              "    .colab-df-convert {\n",
              "      background-color: #E8F0FE;\n",
              "      border: none;\n",
              "      border-radius: 50%;\n",
              "      cursor: pointer;\n",
              "      display: none;\n",
              "      fill: #1967D2;\n",
              "      height: 32px;\n",
              "      padding: 0 0 0 0;\n",
              "      width: 32px;\n",
              "    }\n",
              "\n",
              "    .colab-df-convert:hover {\n",
              "      background-color: #E2EBFA;\n",
              "      box-shadow: 0px 1px 2px rgba(60, 64, 67, 0.3), 0px 1px 3px 1px rgba(60, 64, 67, 0.15);\n",
              "      fill: #174EA6;\n",
              "    }\n",
              "\n",
              "    [theme=dark] .colab-df-convert {\n",
              "      background-color: #3B4455;\n",
              "      fill: #D2E3FC;\n",
              "    }\n",
              "\n",
              "    [theme=dark] .colab-df-convert:hover {\n",
              "      background-color: #434B5C;\n",
              "      box-shadow: 0px 1px 3px 1px rgba(0, 0, 0, 0.15);\n",
              "      filter: drop-shadow(0px 1px 2px rgba(0, 0, 0, 0.3));\n",
              "      fill: #FFFFFF;\n",
              "    }\n",
              "  </style>\n",
              "\n",
              "      <script>\n",
              "        const buttonEl =\n",
              "          document.querySelector('#df-5435de3d-5525-40dd-96e2-92f3f42e9759 button.colab-df-convert');\n",
              "        buttonEl.style.display =\n",
              "          google.colab.kernel.accessAllowed ? 'block' : 'none';\n",
              "\n",
              "        async function convertToInteractive(key) {\n",
              "          const element = document.querySelector('#df-5435de3d-5525-40dd-96e2-92f3f42e9759');\n",
              "          const dataTable =\n",
              "            await google.colab.kernel.invokeFunction('convertToInteractive',\n",
              "                                                     [key], {});\n",
              "          if (!dataTable) return;\n",
              "\n",
              "          const docLinkHtml = 'Like what you see? Visit the ' +\n",
              "            '<a target=\"_blank\" href=https://colab.research.google.com/notebooks/data_table.ipynb>data table notebook</a>'\n",
              "            + ' to learn more about interactive tables.';\n",
              "          element.innerHTML = '';\n",
              "          dataTable['output_type'] = 'display_data';\n",
              "          await google.colab.output.renderOutput(dataTable, element);\n",
              "          const docLink = document.createElement('div');\n",
              "          docLink.innerHTML = docLinkHtml;\n",
              "          element.appendChild(docLink);\n",
              "        }\n",
              "      </script>\n",
              "    </div>\n",
              "  </div>\n",
              "  "
            ]
          },
          "metadata": {},
          "execution_count": 23
        }
      ],
      "source": [
        "dataset=dataset[['cleaned','Label']]\n",
        "dataset.head(5)"
      ]
    },
    {
      "cell_type": "code",
      "execution_count": 24,
      "metadata": {
        "colab": {
          "base_uri": "https://localhost:8080/"
        },
        "id": "hd73ozCpMoVY",
        "outputId": "120e5ebd-5552-49f4-929a-91cb950966b2"
      },
      "outputs": [
        {
          "output_type": "stream",
          "name": "stdout",
          "text": [
            "\n",
            "Class Name :  1\n",
            "Number of Documents:3645\n",
            "Number of Words:27103\n",
            "Number of Unique Words:6242\n",
            "Most Frequent Words:\n",
            "\n",
            "ভালো\t649\n",
            "অসাধারণ\t601\n",
            "গান\t405\n",
            "সুন্দর\t398\n",
            "একটা\t337\n",
            "টা\t277\n",
            "অভিনয়\t263\n",
            "নাটক\t197\n",
            "গানটা\t184\n",
            "এক\t181\n",
            "\n",
            "Class Name :  2\n",
            "Number of Documents:1570\n",
            "Number of Words:12884\n",
            "Number of Unique Words:5153\n",
            "Most Frequent Words:\n",
            "\n",
            "ভালো\t178\n",
            "একটা\t127\n",
            "এসব\t84\n",
            "অভিনয়\t81\n",
            "টা\t75\n",
            "সিনেমা\t66\n",
            "সিরিজ\t64\n",
            "ছবি\t60\n",
            "ফালতু\t59\n",
            "বাজে\t59\n",
            "\n",
            "Class Name :  0\n",
            "Number of Documents:393\n",
            "Number of Words:2604\n",
            "Number of Unique Words:1471\n",
            "Most Frequent Words:\n",
            "\n",
            "টা\t27\n",
            "ভালো\t25\n",
            "নাম\t24\n",
            "ভাই\t23\n",
            "একটা\t23\n",
            "চাই\t21\n",
            "নাটক\t16\n",
            "সাথে\t15\n",
            "মুভি\t13\n",
            "যায়\t12\n",
            "Total Number of Unique Words:9980\n"
          ]
        }
      ],
      "source": [
        "#Dataset Summary\n",
        "\n",
        "def data_summary(dataset):\n",
        "    \n",
        "    documents = []\n",
        "    words = []\n",
        "    u_words = []\n",
        "    total_u_words = [word.strip() for t in list(dataset.cleaned) for word in t.strip().split()]\n",
        "    class_label= [k for k,v in dataset.Label.value_counts().to_dict().items()]\n",
        "  # find word list\n",
        "    for label in class_label: \n",
        "        word_list = [word.strip() for t in list(dataset[dataset.Label==label].cleaned) for word in t.strip().split()]\n",
        "        counts = dict()\n",
        "        for word in word_list:\n",
        "                counts[word] = counts.get(word, 0)+1\n",
        "                \n",
        "        # sort the dictionary of word list  \n",
        "        ordered = sorted(counts.items(), key= lambda item: item[1],reverse = True)\n",
        "        \n",
        "        # Documents per class\n",
        "        documents.append(len(list(dataset[dataset.Label==label].cleaned)))\n",
        "        \n",
        "        # Total Word per class\n",
        "        words.append(len(word_list))\n",
        "        \n",
        "        # Unique words per class \n",
        "        u_words.append(len(np.unique(word_list)))\n",
        "       \n",
        "        print(\"\\nClass Name : \",label)\n",
        "        print(\"Number of Documents:{}\".format(len(list(dataset[dataset.Label==label].cleaned))))  \n",
        "        print(\"Number of Words:{}\".format(len(word_list))) \n",
        "        print(\"Number of Unique Words:{}\".format(len(np.unique(word_list)))) \n",
        "        print(\"Most Frequent Words:\\n\")\n",
        "        for k,v in ordered[:10]:\n",
        "              print(\"{}\\t{}\".format(k,v))\n",
        "                \n",
        "    print(\"Total Number of Unique Words:{}\".format(len(np.unique(total_u_words))))           \n",
        "   \n",
        "    return documents,words,u_words,class_label\n",
        "\n",
        "\n",
        "documents,words,u_words,class_names = data_summary(dataset)   "
      ]
    },
    {
      "cell_type": "code",
      "execution_count": 25,
      "metadata": {
        "id": "keac2wXPNInJ"
      },
      "outputs": [],
      "source": [
        "#dataset['label']=dataset['label'].replace({'positive':1,'negative':0,'neutral':2})\n",
        "#dataset.head()"
      ]
    },
    {
      "cell_type": "code",
      "execution_count": 26,
      "metadata": {
        "id": "0mAR6w4NNMa_"
      },
      "outputs": [],
      "source": [
        "#labels=dataset.label\n",
        "#labels"
      ]
    },
    {
      "cell_type": "code",
      "execution_count": 27,
      "metadata": {
        "colab": {
          "base_uri": "https://localhost:8080/"
        },
        "id": "ac5pK_3ENQAY",
        "outputId": "34f0feb6-dea9-4c21-f7c5-3514e2364dba"
      },
      "outputs": [
        {
          "output_type": "stream",
          "name": "stdout",
          "text": [
            "Shape of TF-IDF: (5608, 9980) \n",
            "\n"
          ]
        }
      ],
      "source": [
        "from sklearn.feature_extraction.text import TfidfVectorizer\n",
        "tfidf1 = TfidfVectorizer(ngram_range=(1,1),use_idf=True,tokenizer=lambda x: x.split()) \n",
        "X = tfidf1.fit_transform(dataset['cleaned'])\n",
        "y=dataset['Label']\n",
        "print(\"Shape of TF-IDF:\",X.shape,'\\n')"
      ]
    },
    {
      "cell_type": "code",
      "execution_count": 28,
      "metadata": {
        "colab": {
          "base_uri": "https://localhost:8080/"
        },
        "id": "ub52eeZPf6wK",
        "outputId": "95dd19e0-7052-4818-f5c6-33cfbe28dd04"
      },
      "outputs": [
        {
          "output_type": "execute_result",
          "data": {
            "text/plain": [
              "0       1\n",
              "1       1\n",
              "2       1\n",
              "3       1\n",
              "4       1\n",
              "       ..\n",
              "5603    1\n",
              "5604    1\n",
              "5605    2\n",
              "5606    2\n",
              "5607    2\n",
              "Name: Label, Length: 5608, dtype: int64"
            ]
          },
          "metadata": {},
          "execution_count": 28
        }
      ],
      "source": [
        "y"
      ]
    },
    {
      "cell_type": "code",
      "execution_count": 29,
      "metadata": {
        "id": "p5u7BeNXNWFH"
      },
      "outputs": [],
      "source": [
        "from imblearn.over_sampling import SMOTE\n",
        "from collections import Counter\n",
        "from matplotlib import pyplot"
      ]
    },
    {
      "cell_type": "code",
      "execution_count": 30,
      "metadata": {
        "id": "4l9hmtHKNaoo"
      },
      "outputs": [],
      "source": [
        "oversample = SMOTE()\n",
        "X, y = oversample.fit_resample(X, y)"
      ]
    },
    {
      "cell_type": "code",
      "execution_count": 31,
      "metadata": {
        "colab": {
          "base_uri": "https://localhost:8080/",
          "height": 325
        },
        "id": "7HPtB_OiNcMJ",
        "outputId": "67aa5483-6f03-4835-ed69-92a8356a1f70"
      },
      "outputs": [
        {
          "output_type": "stream",
          "name": "stdout",
          "text": [
            "Class=1, n=3645 (33.333%)\n",
            "Class=0, n=3645 (33.333%)\n",
            "Class=2, n=3645 (33.333%)\n"
          ]
        },
        {
          "output_type": "display_data",
          "data": {
            "text/plain": [
              "<Figure size 432x288 with 1 Axes>"
            ],
            "image/png": "[encoded data removed]"
          },
          "metadata": {}
        }
      ],
      "source": [
        "counter = Counter(y)\n",
        "for k,v in counter.items():\n",
        "    per = v / len(y) * 100\n",
        "    print('Class=%d, n=%d (%.3f%%)' % (k, v, per))\n",
        "pyplot.bar(counter.keys(), counter.values())\n",
        "pyplot.show()"
      ]
    },
    {
      "cell_type": "code",
      "execution_count": 32,
      "metadata": {
        "colab": {
          "base_uri": "https://localhost:8080/"
        },
        "id": "EDhwTW4qNgEQ",
        "outputId": "f6798e3e-f0dc-46e2-bd10-1ff4edc8b791"
      },
      "outputs": [
        {
          "output_type": "stream",
          "name": "stdout",
          "text": [
            "Sample Review:  পুরাই অস্থির সাকিল চট্টগ্রাম\t\n",
            "              tfidf\n",
            "সাকিল      0.554897\n",
            "চট্টগ্রাম  0.554897\n",
            "অস্থির     0.465944\n",
            "পুরাই      0.408749\n"
          ]
        }
      ],
      "source": [
        "review='পুরাই অস্থির সাকিল চট্টগ্রাম\t'\n",
        "print(\"Sample Review: \",review)\n",
        "vector = tfidf1.transform([review])\n",
        "df = pd.DataFrame(vector.T.todense(), index=tfidf1.get_feature_names(), columns=[\"tfidf\"])\n",
        "a = df.sort_values(by=[\"tfidf\"],ascending=False)\n",
        "print(a[0:len(review.split())])"
      ]
    },
    {
      "cell_type": "code",
      "execution_count": 33,
      "metadata": {
        "colab": {
          "base_uri": "https://localhost:8080/"
        },
        "id": "HeXIE7VZNjtf",
        "outputId": "d0336b19-edd7-4dce-d3ca-3d3c9b47950c"
      },
      "outputs": [
        {
          "output_type": "stream",
          "name": "stdout",
          "text": [
            "Shape of X_train: (8748, 9980)\n",
            "Shape of X_test: (2187, 9980)\n",
            "Shape of Y_train: (8748,)\n",
            "Shape of Y_test: (2187,)\n"
          ]
        }
      ],
      "source": [
        "from sklearn.model_selection import train_test_split\n",
        "xtrain,xtest,ytrain,ytest = train_test_split(X,y,train_size = 0.8, test_size = 0.2,random_state =500)\n",
        "\n",
        "print('Shape of X_train:', xtrain.shape)\n",
        "print('Shape of X_test:', xtest.shape)\n",
        "print('Shape of Y_train:', ytrain.shape)\n",
        "print('Shape of Y_test:', ytest.shape)"
      ]
    },
    {
      "cell_type": "code",
      "execution_count": 34,
      "metadata": {
        "id": "Kra9ti33NnH4"
      },
      "outputs": [],
      "source": [
        "from sklearn.naive_bayes import MultinomialNB\n",
        "from sklearn.neighbors import KNeighborsClassifier\n",
        "from sklearn.svm import SVC\n",
        "from sklearn.tree import DecisionTreeClassifier\n",
        "from sklearn.ensemble import RandomForestClassifier\n",
        "from sklearn.tree import DecisionTreeClassifier"
      ]
    },
    {
      "cell_type": "code",
      "execution_count": 35,
      "metadata": {
        "colab": {
          "base_uri": "https://localhost:8080/"
        },
        "id": "2QzybvVeNrIX",
        "outputId": "69a82b1e-57b3-458e-a630-5f713f030efb"
      },
      "outputs": [
        {
          "output_type": "stream",
          "name": "stdout",
          "text": [
            "Accuracy: 89.57%\n"
          ]
        }
      ],
      "source": [
        "mn= MultinomialNB()\n",
        "mn.fit(xtrain, ytrain)\n",
        "prediction = mn.predict(xtest)\n",
        "pred_prob1 = mn.predict_proba(xtest)\n",
        "print(\"Accuracy: {0:.2%}\".format(accuracy_score(prediction, ytest)))"
      ]
    },
    {
      "cell_type": "code",
      "execution_count": 36,
      "metadata": {
        "colab": {
          "base_uri": "https://localhost:8080/"
        },
        "id": "ivygb-J5OO3Q",
        "outputId": "abb655a5-2712-4012-ab59-f842dbd0e4e2"
      },
      "outputs": [
        {
          "output_type": "stream",
          "name": "stdout",
          "text": [
            "\n",
            "Classification Report\n",
            "\n",
            "              precision    recall  f1-score   support\n",
            "\n",
            "           0       0.85      0.98      0.91       693\n",
            "           1       0.92      0.83      0.87       763\n",
            "           2       0.92      0.88      0.90       731\n",
            "\n",
            "    accuracy                           0.90      2187\n",
            "   macro avg       0.90      0.90      0.90      2187\n",
            "weighted avg       0.90      0.90      0.90      2187\n",
            "\n"
          ]
        }
      ],
      "source": [
        "from sklearn.metrics import classification_report\n",
        "print('\\nClassification Report\\n')\n",
        "print(classification_report(ytest, prediction))"
      ]
    },
    {
      "cell_type": "code",
      "execution_count": 37,
      "metadata": {
        "id": "8PVl-RgPOTDp"
      },
      "outputs": [],
      "source": [
        "from sklearn.metrics import confusion_matrix\n",
        "import seaborn as sns"
      ]
    },
    {
      "cell_type": "code",
      "execution_count": 38,
      "metadata": {
        "colab": {
          "base_uri": "https://localhost:8080/",
          "height": 290
        },
        "id": "dTOh7otrOaof",
        "outputId": "fbfdc154-f765-4091-878a-8eb0928cf62d"
      },
      "outputs": [
        {
          "output_type": "execute_result",
          "data": {
            "text/plain": [
              "<matplotlib.axes._subplots.AxesSubplot at 0x7f3749c50cd0>"
            ]
          },
          "metadata": {},
          "execution_count": 38
        },
        {
          "output_type": "display_data",
          "data": {
            "text/plain": [
              "<Figure size 432x288 with 2 Axes>"
            ],
            "image/png": "[encoded data removed]"
          },
          "metadata": {}
        }
      ],
      "source": [
        "conf_m = confusion_matrix(ytest, prediction)\n",
        "sns.heatmap(conf_m, linewidths=1, annot=True, fmt='g')"
      ]
    },
    {
      "cell_type": "code",
      "execution_count": 39,
      "metadata": {
        "id": "z7bwvmZrOcZv"
      },
      "outputs": [],
      "source": [
        "from sklearn.metrics import roc_curve\n",
        "from sklearn import metrics\n",
        "from sklearn.multiclass import OneVsRestClassifier"
      ]
    },
    {
      "cell_type": "code",
      "execution_count": 40,
      "metadata": {
        "id": "ctrDQCS6OhnO"
      },
      "outputs": [],
      "source": [
        "fpr = {}\n",
        "tpr = {}\n",
        "thresh ={}\n",
        "n_class = 3"
      ]
    },
    {
      "cell_type": "code",
      "execution_count": 41,
      "metadata": {
        "id": "Hvv3Pw-vOpNA"
      },
      "outputs": [],
      "source": [
        "for i in range(n_class):    \n",
        "    fpr[i], tpr[i], thresh[i] = roc_curve(ytest, pred_prob1[:,i], pos_label=i)"
      ]
    },
    {
      "cell_type": "code",
      "execution_count": 42,
      "metadata": {
        "id": "rV5tP2LaOxS5"
      },
      "outputs": [],
      "source": [
        "pred_prob1 = mn.predict_proba(xtest)[:,1]"
      ]
    },
    {
      "cell_type": "code",
      "execution_count": 43,
      "metadata": {
        "id": "pXxSHPzYO1YP"
      },
      "outputs": [],
      "source": [
        "fpr1 , tpr1, thresholds1 =metrics.roc_curve(ytest, pred_prob1,pos_label=1)"
      ]
    },
    {
      "cell_type": "code",
      "execution_count": 44,
      "metadata": {
        "colab": {
          "base_uri": "https://localhost:8080/"
        },
        "id": "v-wXoywyO3jn",
        "outputId": "5a83e59a-b14c-41c2-a216-9bb6d0b38afc"
      },
      "outputs": [
        {
          "output_type": "stream",
          "name": "stdout",
          "text": [
            "Accuracy: 78.51%\n"
          ]
        }
      ],
      "source": [
        "knn= KNeighborsClassifier(n_neighbors=3, metric = 'minkowski')\n",
        "knn.fit(xtrain, ytrain)\n",
        "prediction = knn.predict(xtest)\n",
        "pred_prob2 = knn.predict_proba(xtest)\n",
        "print(\"Accuracy: {0:.2%}\".format(accuracy_score(prediction, ytest)))"
      ]
    },
    {
      "cell_type": "code",
      "execution_count": 45,
      "metadata": {
        "colab": {
          "base_uri": "https://localhost:8080/"
        },
        "id": "QgdBFulcO5aa",
        "outputId": "7fd20d5c-774a-40f3-e3f9-2eee5a61e435"
      },
      "outputs": [
        {
          "output_type": "stream",
          "name": "stdout",
          "text": [
            "\n",
            "Classification Report\n",
            "\n",
            "              precision    recall  f1-score   support\n",
            "\n",
            "           0       0.93      0.99      0.96       693\n",
            "           1       0.78      0.55      0.64       763\n",
            "           2       0.67      0.84      0.75       731\n",
            "\n",
            "    accuracy                           0.79      2187\n",
            "   macro avg       0.79      0.79      0.78      2187\n",
            "weighted avg       0.79      0.79      0.78      2187\n",
            "\n"
          ]
        }
      ],
      "source": [
        "from sklearn.metrics import classification_report\n",
        "print('\\nClassification Report\\n')\n",
        "print(classification_report(ytest, prediction))"
      ]
    },
    {
      "cell_type": "code",
      "execution_count": 46,
      "metadata": {
        "colab": {
          "base_uri": "https://localhost:8080/",
          "height": 290
        },
        "id": "3pExP2NyO-OB",
        "outputId": "bf935d84-ca10-4869-9841-5ee47d0f884e"
      },
      "outputs": [
        {
          "output_type": "execute_result",
          "data": {
            "text/plain": [
              "<matplotlib.axes._subplots.AxesSubplot at 0x7f37472c5810>"
            ]
          },
          "metadata": {},
          "execution_count": 46
        },
        {
          "output_type": "display_data",
          "data": {
            "text/plain": [
              "<Figure size 432x288 with 2 Axes>"
            ],
            "image/png": "[encoded data removed]"
          },
          "metadata": {}
        }
      ],
      "source": [
        "conf_m = confusion_matrix(ytest, prediction)\n",
        "sns.heatmap(conf_m, linewidths=1, annot=True, fmt='g')"
      ]
    },
    {
      "cell_type": "code",
      "execution_count": 47,
      "metadata": {
        "id": "mZjjHxnvPAhX"
      },
      "outputs": [],
      "source": [
        "pred_prob2 = knn.predict_proba(xtest)[:,1]\n",
        "fpr2 , tpr2, thresholds2 =metrics.roc_curve(ytest, pred_prob2,pos_label=1)"
      ]
    },
    {
      "cell_type": "code",
      "execution_count": 48,
      "metadata": {
        "colab": {
          "base_uri": "https://localhost:8080/"
        },
        "id": "_XbgcTsIPC0P",
        "outputId": "9e4752ef-da5e-42c1-b845-c61b19b9ae58"
      },
      "outputs": [
        {
          "output_type": "stream",
          "name": "stdout",
          "text": [
            "Accuracy: 92.14%\n"
          ]
        }
      ],
      "source": [
        "lsvm= SVC(kernel=\"linear\", probability=True)\n",
        "lsvm.fit(xtrain, ytrain)\n",
        "prediction = lsvm.predict(xtest)\n",
        "pred_prob3 = lsvm.predict_proba(xtest)\n",
        "print(\"Accuracy: {0:.2%}\".format(accuracy_score(prediction, ytest)))"
      ]
    },
    {
      "cell_type": "code",
      "execution_count": 49,
      "metadata": {
        "colab": {
          "base_uri": "https://localhost:8080/"
        },
        "id": "T2JOB8iVPK_X",
        "outputId": "d4a45f46-13e8-43de-afd3-48bf99454746"
      },
      "outputs": [
        {
          "output_type": "stream",
          "name": "stdout",
          "text": [
            "\n",
            "Classification Report\n",
            "\n",
            "              precision    recall  f1-score   support\n",
            "\n",
            "           0       0.94      0.99      0.97       693\n",
            "           1       0.95      0.84      0.89       763\n",
            "           2       0.88      0.94      0.91       731\n",
            "\n",
            "    accuracy                           0.92      2187\n",
            "   macro avg       0.92      0.92      0.92      2187\n",
            "weighted avg       0.92      0.92      0.92      2187\n",
            "\n"
          ]
        }
      ],
      "source": [
        "print('\\nClassification Report\\n')\n",
        "print(classification_report(ytest, prediction))"
      ]
    },
    {
      "cell_type": "code",
      "execution_count": 50,
      "metadata": {
        "colab": {
          "base_uri": "https://localhost:8080/",
          "height": 290
        },
        "id": "XA-tsDESPNZg",
        "outputId": "8d8c6ef6-e223-4904-c8d0-4081c1b5dbcc"
      },
      "outputs": [
        {
          "output_type": "execute_result",
          "data": {
            "text/plain": [
              "<matplotlib.axes._subplots.AxesSubplot at 0x7f37472a9ed0>"
            ]
          },
          "metadata": {},
          "execution_count": 50
        },
        {
          "output_type": "display_data",
          "data": {
            "text/plain": [
              "<Figure size 432x288 with 2 Axes>"
            ],
            "image/png": "[encoded data removed]"
          },
          "metadata": {}
        }
      ],
      "source": [
        "conf_m = confusion_matrix(ytest, prediction)\n",
        "sns.heatmap(conf_m, linewidths=1, annot=True, fmt='g')"
      ]
    },
    {
      "cell_type": "code",
      "execution_count": 51,
      "metadata": {
        "id": "1sdcHokOPPTv"
      },
      "outputs": [],
      "source": [
        "pred_prob3 = mn.predict_proba(xtest)[:,1]\n",
        "fpr3 , tpr3, thresholds3 =metrics.roc_curve(ytest, pred_prob3,pos_label=1)"
      ]
    },
    {
      "cell_type": "code",
      "execution_count": 52,
      "metadata": {
        "id": "aCUsfMQHPQnn",
        "colab": {
          "base_uri": "https://localhost:8080/"
        },
        "outputId": "229ce52c-c94d-44fe-d052-e4dbd08fd192"
      },
      "outputs": [
        {
          "output_type": "stream",
          "name": "stdout",
          "text": [
            "Accuracy: 93.14%\n"
          ]
        }
      ],
      "source": [
        "ksvm= SVC(kernel = 'rbf',probability=True)\n",
        "ksvm.fit(xtrain, ytrain)\n",
        "prediction = ksvm.predict(xtest)\n",
        "pred_prob4 = ksvm.predict_proba(xtest)\n",
        "print(\"Accuracy: {0:.2%}\".format(accuracy_score(prediction, ytest)))"
      ]
    },
    {
      "cell_type": "code",
      "execution_count": 53,
      "metadata": {
        "id": "QqEN7cBnPS8R",
        "colab": {
          "base_uri": "https://localhost:8080/"
        },
        "outputId": "150330c4-7b82-4dca-dd2e-0b824cec87ab"
      },
      "outputs": [
        {
          "output_type": "stream",
          "name": "stdout",
          "text": [
            "\n",
            "Classification Report\n",
            "\n",
            "              precision    recall  f1-score   support\n",
            "\n",
            "           0       0.99      0.98      0.98       693\n",
            "           1       0.87      0.95      0.91       763\n",
            "           2       0.95      0.86      0.91       731\n",
            "\n",
            "    accuracy                           0.93      2187\n",
            "   macro avg       0.94      0.93      0.93      2187\n",
            "weighted avg       0.93      0.93      0.93      2187\n",
            "\n"
          ]
        }
      ],
      "source": [
        "print('\\nClassification Report\\n')\n",
        "print(classification_report(ytest, prediction))"
      ]
    },
    {
      "cell_type": "code",
      "execution_count": 54,
      "metadata": {
        "id": "b5X4YmCWPTdv",
        "colab": {
          "base_uri": "https://localhost:8080/",
          "height": 290
        },
        "outputId": "64adbc74-1f02-47de-ec2c-16e344138ead"
      },
      "outputs": [
        {
          "output_type": "execute_result",
          "data": {
            "text/plain": [
              "<matplotlib.axes._subplots.AxesSubplot at 0x7f3747226f90>"
            ]
          },
          "metadata": {},
          "execution_count": 54
        },
        {
          "output_type": "display_data",
          "data": {
            "text/plain": [
              "<Figure size 432x288 with 2 Axes>"
            ],
            "image/png": "[encoded data removed]"
          },
          "metadata": {}
        }
      ],
      "source": [
        "conf_m = confusion_matrix(ytest, prediction)\n",
        "sns.heatmap(conf_m, linewidths=1, annot=True, fmt='g')"
      ]
    },
    {
      "cell_type": "code",
      "execution_count": 55,
      "metadata": {
        "id": "505PxdjxPWti"
      },
      "outputs": [],
      "source": [
        "pred_prob4 = ksvm.predict_proba(xtest)[:,1]\n",
        "fpr4 , tpr4, thresholds4 =metrics.roc_curve(ytest, pred_prob4,pos_label=1)"
      ]
    },
    {
      "cell_type": "code",
      "execution_count": 56,
      "metadata": {
        "id": "7_cJ9GLMPeGv",
        "colab": {
          "base_uri": "https://localhost:8080/"
        },
        "outputId": "56832ea0-49f8-4c78-e107-da5368e99ca0"
      },
      "outputs": [
        {
          "output_type": "stream",
          "name": "stdout",
          "text": [
            "Accuracy: 85.64%\n"
          ]
        }
      ],
      "source": [
        "dt = DecisionTreeClassifier()\n",
        "dt.fit(xtrain, ytrain)\n",
        "prediction = dt.predict(xtest)\n",
        "pred_prob5 = dt.predict_proba(xtest)\n",
        "print(\"Accuracy: {0:.2%}\".format(accuracy_score(prediction, ytest)))"
      ]
    },
    {
      "cell_type": "code",
      "execution_count": 57,
      "metadata": {
        "id": "rdpJUAq5QEaj",
        "colab": {
          "base_uri": "https://localhost:8080/"
        },
        "outputId": "dd757b4b-a996-4bdc-fcba-de8e1ff3ad38"
      },
      "outputs": [
        {
          "output_type": "stream",
          "name": "stdout",
          "text": [
            "\n",
            "Classification Report\n",
            "\n",
            "              precision    recall  f1-score   support\n",
            "\n",
            "           0       0.88      0.95      0.92       693\n",
            "           1       0.81      0.82      0.82       763\n",
            "           2       0.88      0.80      0.84       731\n",
            "\n",
            "    accuracy                           0.86      2187\n",
            "   macro avg       0.86      0.86      0.86      2187\n",
            "weighted avg       0.86      0.86      0.86      2187\n",
            "\n"
          ]
        }
      ],
      "source": [
        "print('\\nClassification Report\\n')\n",
        "print(classification_report(ytest, prediction))"
      ]
    },
    {
      "cell_type": "code",
      "execution_count": 58,
      "metadata": {
        "id": "c5o9Qll0QGZg",
        "colab": {
          "base_uri": "https://localhost:8080/",
          "height": 290
        },
        "outputId": "1cee9947-0a2c-42af-e763-7dadecfd28c4"
      },
      "outputs": [
        {
          "output_type": "execute_result",
          "data": {
            "text/plain": [
              "<matplotlib.axes._subplots.AxesSubplot at 0x7f374722d250>"
            ]
          },
          "metadata": {},
          "execution_count": 58
        },
        {
          "output_type": "display_data",
          "data": {
            "text/plain": [
              "<Figure size 432x288 with 2 Axes>"
            ],
            "image/png": "[encoded data removed]"
          },
          "metadata": {}
        }
      ],
      "source": [
        "conf_m = confusion_matrix(ytest, prediction)\n",
        "sns.heatmap(conf_m, linewidths=1, annot=True, fmt='g')"
      ]
    },
    {
      "cell_type": "code",
      "execution_count": 59,
      "metadata": {
        "id": "TKCLS6SLQIpY"
      },
      "outputs": [],
      "source": [
        "pred_prob5 = dt.predict_proba(xtest)[:,1]\n",
        "fpr5 , tpr5, thresholds5 =metrics.roc_curve(ytest, pred_prob5,pos_label=1)"
      ]
    },
    {
      "cell_type": "code",
      "execution_count": 60,
      "metadata": {
        "id": "3_NyAzeCQQ0I",
        "colab": {
          "base_uri": "https://localhost:8080/"
        },
        "outputId": "4dff6a61-b34e-48e7-ef23-2af15ad3be07"
      },
      "outputs": [
        {
          "output_type": "stream",
          "name": "stdout",
          "text": [
            "Accuracy: 90.49%\n"
          ]
        }
      ],
      "source": [
        "rf = RandomForestClassifier(n_estimators=100, criterion ='entropy', random_state = 0)\n",
        "rf.fit(xtrain, ytrain)\n",
        "prediction = rf.predict(xtest)\n",
        "pred_prob6 = rf.predict_proba(xtest)\n",
        "print(\"Accuracy: {0:.2%}\".format(accuracy_score(prediction, ytest)))\n"
      ]
    },
    {
      "cell_type": "code",
      "execution_count": 61,
      "metadata": {
        "id": "P6Vr-AILQZ8B",
        "colab": {
          "base_uri": "https://localhost:8080/"
        },
        "outputId": "7bbe48ee-d544-45c3-f7ce-6f923943408a"
      },
      "outputs": [
        {
          "output_type": "stream",
          "name": "stdout",
          "text": [
            "\n",
            "Classification Report\n",
            "\n",
            "              precision    recall  f1-score   support\n",
            "\n",
            "           0       0.97      0.97      0.97       693\n",
            "           1       0.84      0.90      0.87       763\n",
            "           2       0.92      0.85      0.88       731\n",
            "\n",
            "    accuracy                           0.90      2187\n",
            "   macro avg       0.91      0.91      0.91      2187\n",
            "weighted avg       0.91      0.90      0.91      2187\n",
            "\n"
          ]
        }
      ],
      "source": [
        "print('\\nClassification Report\\n')\n",
        "print(classification_report(ytest, prediction))"
      ]
    },
    {
      "cell_type": "code",
      "execution_count": 62,
      "metadata": {
        "id": "m5NL4R5EQcwP",
        "colab": {
          "base_uri": "https://localhost:8080/",
          "height": 290
        },
        "outputId": "9ac2a251-98a4-459d-8421-2edac3ffed83"
      },
      "outputs": [
        {
          "output_type": "execute_result",
          "data": {
            "text/plain": [
              "<matplotlib.axes._subplots.AxesSubplot at 0x7f374a9ce9d0>"
            ]
          },
          "metadata": {},
          "execution_count": 62
        },
        {
          "output_type": "display_data",
          "data": {
            "text/plain": [
              "<Figure size 432x288 with 2 Axes>"
            ],
            "image/png": "[encoded data removed]"
          },
          "metadata": {}
        }
      ],
      "source": [
        "conf_m = confusion_matrix(ytest, prediction)\n",
        "sns.heatmap(conf_m, linewidths=1, annot=True, fmt='g')"
      ]
    },
    {
      "cell_type": "code",
      "execution_count": 63,
      "metadata": {
        "id": "LIKLEyfVQeWX"
      },
      "outputs": [],
      "source": [
        "pred_prob6 = rf.predict_proba(xtest)[:,1]\n",
        "fpr6 , tpr6, thresholds6 =metrics.roc_curve(ytest, pred_prob6,pos_label=1)"
      ]
    },
    {
      "cell_type": "code",
      "execution_count": 64,
      "metadata": {
        "id": "jzofRmdZQe4a",
        "colab": {
          "base_uri": "https://localhost:8080/",
          "height": 657
        },
        "outputId": "7e3c2722-668f-4ec0-8592-da1f9d4cec99"
      },
      "outputs": [
        {
          "output_type": "display_data",
          "data": {
            "text/plain": [
              "<Figure size 720x720 with 1 Axes>"
            ],
            "image/png": "[encoded data removed]"
          },
          "metadata": {}
        }
      ],
      "source": [
        "plt.figure(figsize=(8, 8), dpi=90)\n",
        "\n",
        "plt.plot([0,1],[0,1], 'k--')\n",
        "plt.plot(fpr1, tpr1, label= \"MultinomialNB\" )\n",
        "plt.plot(fpr2, tpr2, label= \"KNeighbors\" )\n",
        "plt.plot(fpr3, tpr3, label= \"LSVC\" )\n",
        "plt.plot(fpr4, tpr4, label= \"SVMClassifier\")\n",
        "plt.plot(fpr5, tpr5, label= \"DT\")\n",
        "plt.plot(fpr6, tpr6, label= \"RF\")\n",
        "\n",
        "\n",
        "plt.legend()\n",
        "plt.xlabel(\"False Positive Rate\")\n",
        "plt.ylabel(\"True Positive Rate\")\n",
        "plt.title('Comparison of Receiver Operating Characteristic')\n",
        "plt.show()"
      ]
    }
  ],
  "metadata": {
    "colab": {
      "provenance": []
    },
    "kernelspec": {
      "display_name": "Python 3",
      "name": "python3"
    },
    "language_info": {
      "name": "python"
    }
  },
  "nbformat": 4,
  "nbformat_minor": 0
}