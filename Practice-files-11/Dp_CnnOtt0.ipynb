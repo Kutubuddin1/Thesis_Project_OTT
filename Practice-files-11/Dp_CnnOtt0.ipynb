{
  "nbformat": 4,
  "nbformat_minor": 0,
  "metadata": {
    "colab": {
      "provenance": []
    },
    "kernelspec": {
      "name": "python3",
      "display_name": "Python 3"
    },
    "language_info": {
      "name": "python"
    }
  },
  "cells": [
    {
      "cell_type": "code",
      "execution_count": 37,
      "metadata": {
        "id": "wbk41aNK1DUt",
        "colab": {
          "base_uri": "https://localhost:8080/"
        },
        "outputId": "cae84a64-aba3-43e7-89b9-ba47bd51438b"
      },
      "outputs": [
        {
          "output_type": "stream",
          "name": "stdout",
          "text": [
            "Looking in indexes: https://pypi.org/simple, https://us-python.pkg.dev/colab-wheels/public/simple/\n",
            "Requirement already satisfied: unidecode in /usr/local/lib/python3.8/dist-packages (1.3.6)\n",
            "Looking in indexes: https://pypi.org/simple, https://us-python.pkg.dev/colab-wheels/public/simple/\n",
            "Requirement already satisfied: openpyxl in /usr/local/lib/python3.8/dist-packages (3.0.10)\n",
            "Requirement already satisfied: et-xmlfile in /usr/local/lib/python3.8/dist-packages (from openpyxl) (1.1.0)\n"
          ]
        }
      ],
      "source": [
        "import numpy as np\n",
        "import pandas as pd \n",
        "import seaborn as sns\n",
        "import matplotlib.pyplot as plt\n",
        "\n",
        "import sklearn\n",
        "from sklearn.preprocessing import LabelEncoder\n",
        "\n",
        "!pip install unidecode\n",
        "!pip install openpyxl\n",
        "\n",
        "import pandas as pd\n",
        "from pandas import read_excel\n",
        "import numpy as np\n",
        "import re\n",
        "from re import sub\n",
        "import multiprocessing\n",
        "from unidecode import unidecode\n",
        "import os\n",
        "from time import time \n",
        "import tensorflow as tf\n",
        "from tensorflow.keras.models import Sequential\n",
        "from tensorflow.keras.layers import Dense, Dropout, Activation, Embedding, Flatten, Conv1D, BatchNormalization\n",
        "from tensorflow.keras.optimizers import SGD,Adam\n",
        "from tensorflow.keras import regularizers\n",
        "from tensorflow.keras.preprocessing.text import Tokenizer\n",
        "from tensorflow.keras.preprocessing.sequence import pad_sequences\n",
        "from tensorflow.keras.utils import to_categorical\n",
        "import tensorflow.keras.backend as K\n",
        "import h5py\n",
        "import csv\n",
        "import seaborn as sns\n",
        "import matplotlib.pyplot as plt\n",
        "from sklearn.model_selection import train_test_split\n",
        "from sklearn.model_selection import StratifiedKFold"
      ]
    },
    {
      "cell_type": "code",
      "source": [
        "from google.colab import drive"
      ],
      "metadata": {
        "id": "rF1jDpp61Log"
      },
      "execution_count": 38,
      "outputs": []
    },
    {
      "cell_type": "code",
      "source": [
        "drive.mount('/content/drive')"
      ],
      "metadata": {
        "colab": {
          "base_uri": "https://localhost:8080/"
        },
        "id": "LBFHYTdc1Pbi",
        "outputId": "d3ac0611-bd5d-4284-bfc9-48ef3d7125ba"
      },
      "execution_count": 39,
      "outputs": [
        {
          "output_type": "stream",
          "name": "stdout",
          "text": [
            "Drive already mounted at /content/drive; to attempt to forcibly remount, call drive.mount(\"/content/drive\", force_remount=True).\n"
          ]
        }
      ]
    },
    {
      "cell_type": "code",
      "source": [
        "data = pd.read_csv('/content/drive/MyDrive/ start/OTT Content Reviews.xlsx - Sheet1 (3).csv', encoding='UTF-8')"
      ],
      "metadata": {
        "id": "6vZix3Fu1P2X"
      },
      "execution_count": 40,
      "outputs": []
    },
    {
      "cell_type": "code",
      "source": [
        "data"
      ],
      "metadata": {
        "colab": {
          "base_uri": "https://localhost:8080/",
          "height": 424
        },
        "id": "9jmlRiNj1gDT",
        "outputId": "2b0472f8-2446-42d5-8599-4b725e403438"
      },
      "execution_count": 41,
      "outputs": [
        {
          "output_type": "execute_result",
          "data": {
            "text/plain": [
              "                                                   Text  Label\n",
              "0                     পুরাই অস্থির!!! \"সাকিল, চট্টগ্রাম      1\n",
              "1     নাজিফা তুষি আপু অবিনয় টা বেস্ট ছিল ওনার জন্য ক...      1\n",
              "2     পুরাই আগুন অনেক দিনের অপেক্ষায় আছি এই কাজ টা দ...      1\n",
              "3        ইন্টারেস্টিং স্টোরি,অভিনয়, সিনেমেটোগ্রাফিও জোস      1\n",
              "4     এট লিস্ট অনন্ত জলীল এর ১০০ কোটি টাকার মুভির ট্...      1\n",
              "...                                                 ...    ...\n",
              "6695                       অযথা সময় নষ্ট,এটা কোনো নাটক      2\n",
              "6696                                একটুকুও ভাল লাগেনাই      2\n",
              "6697       এসব নষ্টা নাটক দেখে মানুষের চরিত্র খারাপ হয়      2\n",
              "6698  টিপু ওয়ালা আপু মনোজ এর জন‍্য একটা সুন্দরী একটা...      2\n",
              "6699                  ঐরকম একটা নাক নিয়ে নাইকা হয় কেমনে      2\n",
              "\n",
              "[6700 rows x 2 columns]"
            ],
            "text/html": [
              "\n",
              "  <div id=\"df-b33b421a-e3b9-439d-bcd4-06070d1c1eaf\">\n",
              "    <div class=\"colab-df-container\">\n",
              "      <div>\n",
              "<style scoped>\n",
              "    .dataframe tbody tr th:only-of-type {\n",
              "        vertical-align: middle;\n",
              "    }\n",
              "\n",
              "    .dataframe tbody tr th {\n",
              "        vertical-align: top;\n",
              "    }\n",
              "\n",
              "    .dataframe thead th {\n",
              "        text-align: right;\n",
              "    }\n",
              "</style>\n",
              "<table border=\"1\" class=\"dataframe\">\n",
              "  <thead>\n",
              "    <tr style=\"text-align: right;\">\n",
              "      <th></th>\n",
              "      <th>Text</th>\n",
              "      <th>Label</th>\n",
              "    </tr>\n",
              "  </thead>\n",
              "  <tbody>\n",
              "    <tr>\n",
              "      <th>0</th>\n",
              "      <td>পুরাই অস্থির!!! \"সাকিল, চট্টগ্রাম</td>\n",
              "      <td>1</td>\n",
              "    </tr>\n",
              "    <tr>\n",
              "      <th>1</th>\n",
              "      <td>নাজিফা তুষি আপু অবিনয় টা বেস্ট ছিল ওনার জন্য ক...</td>\n",
              "      <td>1</td>\n",
              "    </tr>\n",
              "    <tr>\n",
              "      <th>2</th>\n",
              "      <td>পুরাই আগুন অনেক দিনের অপেক্ষায় আছি এই কাজ টা দ...</td>\n",
              "      <td>1</td>\n",
              "    </tr>\n",
              "    <tr>\n",
              "      <th>3</th>\n",
              "      <td>ইন্টারেস্টিং স্টোরি,অভিনয়, সিনেমেটোগ্রাফিও জোস</td>\n",
              "      <td>1</td>\n",
              "    </tr>\n",
              "    <tr>\n",
              "      <th>4</th>\n",
              "      <td>এট লিস্ট অনন্ত জলীল এর ১০০ কোটি টাকার মুভির ট্...</td>\n",
              "      <td>1</td>\n",
              "    </tr>\n",
              "    <tr>\n",
              "      <th>...</th>\n",
              "      <td>...</td>\n",
              "      <td>...</td>\n",
              "    </tr>\n",
              "    <tr>\n",
              "      <th>6695</th>\n",
              "      <td>অযথা সময় নষ্ট,এটা কোনো নাটক</td>\n",
              "      <td>2</td>\n",
              "    </tr>\n",
              "    <tr>\n",
              "      <th>6696</th>\n",
              "      <td>একটুকুও ভাল লাগেনাই</td>\n",
              "      <td>2</td>\n",
              "    </tr>\n",
              "    <tr>\n",
              "      <th>6697</th>\n",
              "      <td>এসব নষ্টা নাটক দেখে মানুষের চরিত্র খারাপ হয়</td>\n",
              "      <td>2</td>\n",
              "    </tr>\n",
              "    <tr>\n",
              "      <th>6698</th>\n",
              "      <td>টিপু ওয়ালা আপু মনোজ এর জন‍্য একটা সুন্দরী একটা...</td>\n",
              "      <td>2</td>\n",
              "    </tr>\n",
              "    <tr>\n",
              "      <th>6699</th>\n",
              "      <td>ঐরকম একটা নাক নিয়ে নাইকা হয় কেমনে</td>\n",
              "      <td>2</td>\n",
              "    </tr>\n",
              "  </tbody>\n",
              "</table>\n",
              "<p>6700 rows × 2 columns</p>\n",
              "</div>\n",
              "      <button class=\"colab-df-convert\" onclick=\"convertToInteractive('df-b33b421a-e3b9-439d-bcd4-06070d1c1eaf')\"\n",
              "              title=\"Convert this dataframe to an interactive table.\"\n",
              "              style=\"display:none;\">\n",
              "        \n",
              "  <svg xmlns=\"http://www.w3.org/2000/svg\" height=\"24px\"viewBox=\"0 0 24 24\"\n",
              "       width=\"24px\">\n",
              "    <path d=\"M0 0h24v24H0V0z\" fill=\"none\"/>\n",
              "    <path d=\"M18.56 5.44l.94 2.06.94-2.06 2.06-.94-2.06-.94-.94-2.06-.94 2.06-2.06.94zm-11 1L8.5 8.5l.94-2.06 2.06-.94-2.06-.94L8.5 2.5l-.94 2.06-2.06.94zm10 10l.94 2.06.94-2.06 2.06-.94-2.06-.94-.94-2.06-.94 2.06-2.06.94z\"/><path d=\"M17.41 7.96l-1.37-1.37c-.4-.4-.92-.59-1.43-.59-.52 0-1.04.2-1.43.59L10.3 9.45l-7.72 7.72c-.78.78-.78 2.05 0 2.83L4 21.41c.39.39.9.59 1.41.59.51 0 1.02-.2 1.41-.59l7.78-7.78 2.81-2.81c.8-.78.8-2.07 0-2.86zM5.41 20L4 18.59l7.72-7.72 1.47 1.35L5.41 20z\"/>\n",
              "  </svg>\n",
              "      </button>\n",
              "      \n",
              "  <style>\n",
              "    .colab-df-container {\n",
              "      display:flex;\n",
              "      flex-wrap:wrap;\n",
              "      gap: 12px;\n",
              "    }\n",
              "\n",
              "    .colab-df-convert {\n",
              "      background-color: #E8F0FE;\n",
              "      border: none;\n",
              "      border-radius: 50%;\n",
              "      cursor: pointer;\n",
              "      display: none;\n",
              "      fill: #1967D2;\n",
              "      height: 32px;\n",
              "      padding: 0 0 0 0;\n",
              "      width: 32px;\n",
              "    }\n",
              "\n",
              "    .colab-df-convert:hover {\n",
              "      background-color: #E2EBFA;\n",
              "      box-shadow: 0px 1px 2px rgba(60, 64, 67, 0.3), 0px 1px 3px 1px rgba(60, 64, 67, 0.15);\n",
              "      fill: #174EA6;\n",
              "    }\n",
              "\n",
              "    [theme=dark] .colab-df-convert {\n",
              "      background-color: #3B4455;\n",
              "      fill: #D2E3FC;\n",
              "    }\n",
              "\n",
              "    [theme=dark] .colab-df-convert:hover {\n",
              "      background-color: #434B5C;\n",
              "      box-shadow: 0px 1px 3px 1px rgba(0, 0, 0, 0.15);\n",
              "      filter: drop-shadow(0px 1px 2px rgba(0, 0, 0, 0.3));\n",
              "      fill: #FFFFFF;\n",
              "    }\n",
              "  </style>\n",
              "\n",
              "      <script>\n",
              "        const buttonEl =\n",
              "          document.querySelector('#df-b33b421a-e3b9-439d-bcd4-06070d1c1eaf button.colab-df-convert');\n",
              "        buttonEl.style.display =\n",
              "          google.colab.kernel.accessAllowed ? 'block' : 'none';\n",
              "\n",
              "        async function convertToInteractive(key) {\n",
              "          const element = document.querySelector('#df-b33b421a-e3b9-439d-bcd4-06070d1c1eaf');\n",
              "          const dataTable =\n",
              "            await google.colab.kernel.invokeFunction('convertToInteractive',\n",
              "                                                     [key], {});\n",
              "          if (!dataTable) return;\n",
              "\n",
              "          const docLinkHtml = 'Like what you see? Visit the ' +\n",
              "            '<a target=\"_blank\" href=https://colab.research.google.com/notebooks/data_table.ipynb>data table notebook</a>'\n",
              "            + ' to learn more about interactive tables.';\n",
              "          element.innerHTML = '';\n",
              "          dataTable['output_type'] = 'display_data';\n",
              "          await google.colab.output.renderOutput(dataTable, element);\n",
              "          const docLink = document.createElement('div');\n",
              "          docLink.innerHTML = docLinkHtml;\n",
              "          element.appendChild(docLink);\n",
              "        }\n",
              "      </script>\n",
              "    </div>\n",
              "  </div>\n",
              "  "
            ]
          },
          "metadata": {},
          "execution_count": 41
        }
      ]
    },
    {
      "cell_type": "code",
      "source": [
        "len(data.Label.value_counts())"
      ],
      "metadata": {
        "colab": {
          "base_uri": "https://localhost:8080/"
        },
        "id": "HITIcIYk1gmf",
        "outputId": "093ee159-a9cc-41e0-d1bb-d8b0ea4cb3e6"
      },
      "execution_count": 42,
      "outputs": [
        {
          "output_type": "execute_result",
          "data": {
            "text/plain": [
              "3"
            ]
          },
          "metadata": {},
          "execution_count": 42
        }
      ]
    },
    {
      "cell_type": "code",
      "source": [
        "data.Label.unique()"
      ],
      "metadata": {
        "colab": {
          "base_uri": "https://localhost:8080/"
        },
        "id": "veaAmSPX1tF6",
        "outputId": "65e0c9b4-c29f-4a30-ec0c-e669398f739e"
      },
      "execution_count": 43,
      "outputs": [
        {
          "output_type": "execute_result",
          "data": {
            "text/plain": [
              "array([1, 0, 2])"
            ]
          },
          "metadata": {},
          "execution_count": 43
        }
      ]
    },
    {
      "cell_type": "code",
      "source": [
        "data.isnull().sum()"
      ],
      "metadata": {
        "colab": {
          "base_uri": "https://localhost:8080/"
        },
        "id": "pPM073ww1wp3",
        "outputId": "d7e4d327-5558-462e-d49e-892e7d493d2f"
      },
      "execution_count": 44,
      "outputs": [
        {
          "output_type": "execute_result",
          "data": {
            "text/plain": [
              "Text     0\n",
              "Label    0\n",
              "dtype: int64"
            ]
          },
          "metadata": {},
          "execution_count": 44
        }
      ]
    },
    {
      "cell_type": "code",
      "source": [
        "data.shape"
      ],
      "metadata": {
        "colab": {
          "base_uri": "https://localhost:8080/"
        },
        "id": "MrGgNVfr10oA",
        "outputId": "d5975af3-fb32-46a9-e6dc-b9da850ab82a"
      },
      "execution_count": 45,
      "outputs": [
        {
          "output_type": "execute_result",
          "data": {
            "text/plain": [
              "(6700, 2)"
            ]
          },
          "metadata": {},
          "execution_count": 45
        }
      ]
    },
    {
      "cell_type": "code",
      "source": [
        "sns.countplot(data['Label'])"
      ],
      "metadata": {
        "colab": {
          "base_uri": "https://localhost:8080/",
          "height": 351
        },
        "id": "Kxf2k9sLq1Ez",
        "outputId": "3a8916e7-8d1c-4049-da2f-76d29fcd4eba"
      },
      "execution_count": 46,
      "outputs": [
        {
          "output_type": "stream",
          "name": "stderr",
          "text": [
            "/usr/local/lib/python3.8/dist-packages/seaborn/_decorators.py:36: FutureWarning: Pass the following variable as a keyword arg: x. From version 0.12, the only valid positional argument will be `data`, and passing other arguments without an explicit keyword will result in an error or misinterpretation.\n",
            "  warnings.warn(\n"
          ]
        },
        {
          "output_type": "execute_result",
          "data": {
            "text/plain": [
              "<matplotlib.axes._subplots.AxesSubplot at 0x7f259e335c10>"
            ]
          },
          "metadata": {},
          "execution_count": 46
        },
        {
          "output_type": "display_data",
          "data": {
            "text/plain": [
              "<Figure size 432x288 with 1 Axes>"
            ],
            "image/png": "[encoded data removed]"
          },
          "metadata": {
            "needs_background": "light"
          }
        }
      ]
    },
    {
      "cell_type": "code",
      "source": [
        "print(\"Total Reviews:\",len(data),\n",
        "      \"\\nTotal positive Reviews:\",len(data[data.Label ==1]),\n",
        "      \"\\nTotal negative Reviews:\",len(data[data.Label==2]),\n",
        "      \"\\nTotal neutral Reviews:\",len(data[data.Label ==0]))"
      ],
      "metadata": {
        "colab": {
          "base_uri": "https://localhost:8080/"
        },
        "id": "g2gUZkLK14MC",
        "outputId": "378e31fe-040d-4bac-f27d-0e9c2a115993"
      },
      "execution_count": 47,
      "outputs": [
        {
          "output_type": "stream",
          "name": "stdout",
          "text": [
            "Total Reviews: 6700 \n",
            "Total positive Reviews: 3655 \n",
            "Total negative Reviews: 2166 \n",
            "Total neutral Reviews: 879\n"
          ]
        }
      ]
    },
    {
      "cell_type": "code",
      "source": [
        "data.columns"
      ],
      "metadata": {
        "colab": {
          "base_uri": "https://localhost:8080/"
        },
        "id": "t4sPH7ns145C",
        "outputId": "f27747c5-7a72-4e1d-a50a-e990fb35b77c"
      },
      "execution_count": 48,
      "outputs": [
        {
          "output_type": "execute_result",
          "data": {
            "text/plain": [
              "Index(['Text', 'Label'], dtype='object')"
            ]
          },
          "metadata": {},
          "execution_count": 48
        }
      ]
    },
    {
      "cell_type": "code",
      "source": [
        "def text_to_word_list(text):\n",
        "    text = text.split()\n",
        "    return text\n",
        "\n",
        "def replace_strings(text):\n",
        "    emoji_pattern = re.compile(\"[\"\n",
        "                           u\"\\U0001F600-\\U0001F64F\"  # emoticons\n",
        "                           u\"\\U0001F300-\\U0001F5FF\"  # symbols & pictographs\n",
        "                           u\"\\U0001F680-\\U0001F6FF\"  # transport & map symbols\n",
        "                           u\"\\U0001F1E0-\\U0001F1FF\"  # flags (iOS)\n",
        "                           u\"\\U00002702-\\U000027B0\"\n",
        "                           u\"\\U000024C2-\\U0001F251\"\n",
        "                           u\"\\u00C0-\\u017F\"          #latin\n",
        "                           u\"\\u2000-\\u206F\"          #generalPunctuations\n",
        "                               \n",
        "                           \"]+\", flags=re.UNICODE)\n",
        "    english_pattern=re.compile('[a-zA-Z0-9]+', flags=re.I)\n",
        "    #latin_pattern=re.compile('[A-Za-z\\u00C0-\\u00D6\\u00D8-\\u00f6\\u00f8-\\u00ff\\s]*',)\n",
        "    \n",
        "    text=emoji_pattern.sub(r'', text)\n",
        "    text=english_pattern.sub(r'', text)\n",
        "\n",
        "    return text\n",
        "\n",
        "def remove_punctuations(my_str):\n",
        "    # define punctuation\n",
        "    punctuations = '''````£|¢|Ñ+-*/=EROero৳০১২৩৪৫৬৭৮৯012–34567•89।!()-[]{};:'\"“\\’,<>./?@#$%^&*_~‘—॥”‰⚽️✌�￰৷￰'''\n",
        "    \n",
        "    no_punct = \"\"\n",
        "    for char in my_str:\n",
        "        if char not in punctuations:\n",
        "            no_punct = no_punct + char\n",
        "\n",
        "    # display the unpunctuated string\n",
        "    return no_punct\n",
        "\n",
        "\n",
        "\n",
        "def joining(text):\n",
        "    out=' '.join(text)\n",
        "    return out\n",
        "\n",
        "def preprocessing(text):\n",
        "    out=remove_punctuations(replace_strings(text))\n",
        "    return out"
      ],
      "metadata": {
        "id": "OXKGisW12Deq"
      },
      "execution_count": 49,
      "outputs": []
    },
    {
      "cell_type": "code",
      "source": [
        "data['Text'] = data.Text.apply(lambda x: preprocessing(str(x)))"
      ],
      "metadata": {
        "id": "Ansfz4Wv2OCF"
      },
      "execution_count": 50,
      "outputs": []
    },
    {
      "cell_type": "code",
      "source": [
        "data.reset_index(drop=True, inplace=True)\n"
      ],
      "metadata": {
        "id": "ziq_3-cy2TKA"
      },
      "execution_count": 51,
      "outputs": []
    },
    {
      "cell_type": "code",
      "source": [
        "enc = LabelEncoder()\n",
        "data['Label'] = enc.fit_transform(data['Label'])"
      ],
      "metadata": {
        "id": "NcPOCBJe2XAf"
      },
      "execution_count": 52,
      "outputs": []
    },
    {
      "cell_type": "code",
      "source": [
        "train1, test1 = train_test_split(data,random_state=69, test_size=0.2)\n",
        "training_sentences_cricket = []\n",
        "testing_sentences_cricket = []\n",
        "\n",
        "\n",
        "\n",
        "train_sentences_cricket=train1['Text'].values\n",
        "train_labels_cricket=train1['Label'].values\n",
        "for i in range(train_sentences_cricket.shape[0]): \n",
        "    #print(train_sentences[i])\n",
        "    x=str(train_sentences_cricket[i])\n",
        "    training_sentences_cricket.append(x)\n",
        "    \n",
        "training_sentences_cricket=np.array(training_sentences_cricket)\n",
        "\n",
        "\n",
        "\n",
        "\n",
        "\n",
        "test_sentences_cricket=test1['Text'].values\n",
        "test_labels_cricket=test1['Label'].values\n",
        "\n",
        "for i in range(test_sentences_cricket.shape[0]): \n",
        "    x=str(test_sentences_cricket[i])\n",
        "    testing_sentences_cricket.append(x)\n",
        "    \n",
        "testing_sentences_cricket=np.array(testing_sentences_cricket)\n",
        "\n",
        "\n",
        "train_labels_cricket=tf.keras.utils.to_categorical(train_labels_cricket)\n",
        "\n",
        "\n",
        "test_labels_cricket=tf.keras.utils.to_categorical(test_labels_cricket)\n",
        "print(\"Training Set Length: \"+str(len(train1)))\n",
        "print(\"Testing Set Length: \"+str(len(test1)))\n",
        "print(\"training_sentences shape: \"+str(training_sentences_cricket.shape))\n",
        "print(\"testing_sentences shape: \"+str(testing_sentences_cricket.shape))\n",
        "print(\"train_labels shape: \"+str(train_labels_cricket.shape))\n",
        "print(\"test_labels shape: \"+str(test_labels_cricket.shape))"
      ],
      "metadata": {
        "colab": {
          "base_uri": "https://localhost:8080/"
        },
        "id": "YH9-gAAQABkX",
        "outputId": "c3befd24-47cf-4b30-ce9d-7bc496b34768"
      },
      "execution_count": 53,
      "outputs": [
        {
          "output_type": "stream",
          "name": "stdout",
          "text": [
            "Training Set Length: 5360\n",
            "Testing Set Length: 1340\n",
            "training_sentences shape: (5360,)\n",
            "testing_sentences shape: (1340,)\n",
            "train_labels shape: (5360, 3)\n",
            "test_labels shape: (1340, 3)\n"
          ]
        }
      ]
    },
    {
      "cell_type": "code",
      "source": [
        "print(training_sentences_cricket[1])\n",
        "print(train_labels_cricket[0])"
      ],
      "metadata": {
        "colab": {
          "base_uri": "https://localhost:8080/"
        },
        "id": "H6xlBhjrAE86",
        "outputId": "1f3b82e5-8874-45ce-abe4-ad3ee27656ed"
      },
      "execution_count": 54,
      "outputs": [
        {
          "output_type": "stream",
          "name": "stdout",
          "text": [
            "ট্রেইলরটা ভালো কিন্তু কাহিনী টা ভালো লাগে নাই বুঝলাম না গোয়েন্দা রহস্য উদঘাটন না করে ডাক্তার কেনো রহস্য উদঘাটন করতেসে আরো অনেক উইকনেস আসে গল্পে সময় নষ্ট হলো\n",
            "[0. 1. 0.]\n"
          ]
        }
      ]
    },
    {
      "cell_type": "code",
      "source": [
        "vocab_size = len(training_sentences_cricket)+1\n",
        "embedding_dim = 100\n",
        "max_length = 100\n",
        "trunc_type='post'\n",
        "oov_tok = \"\""
      ],
      "metadata": {
        "id": "QexEhDE6AHr8"
      },
      "execution_count": 55,
      "outputs": []
    },
    {
      "cell_type": "code",
      "source": [
        "print(training_sentences_cricket.shape)\n",
        "print(train_labels_cricket.shape)"
      ],
      "metadata": {
        "colab": {
          "base_uri": "https://localhost:8080/"
        },
        "id": "uXHasIkFAPtI",
        "outputId": "dae4722a-085b-48ae-cfc0-90754c95914a"
      },
      "execution_count": 56,
      "outputs": [
        {
          "output_type": "stream",
          "name": "stdout",
          "text": [
            "(5360,)\n",
            "(5360, 3)\n"
          ]
        }
      ]
    },
    {
      "cell_type": "code",
      "source": [
        "tokenizer = Tokenizer(num_words = vocab_size, oov_token=oov_tok)\n",
        "tokenizer.fit_on_texts(training_sentences_cricket)\n",
        "word_index = tokenizer.word_index\n",
        "print(len(word_index))\n",
        "print(\"Word index length:\"+str(len(tokenizer.word_index)))\n",
        "sequences = tokenizer.texts_to_sequences(training_sentences_cricket)\n",
        "padded = pad_sequences(sequences,maxlen=max_length, truncating=trunc_type)\n",
        "\n",
        "\n",
        "test_sequences = tokenizer.texts_to_sequences(testing_sentences_cricket)\n",
        "testing_padded = pad_sequences(test_sequences,maxlen=max_length)"
      ],
      "metadata": {
        "colab": {
          "base_uri": "https://localhost:8080/"
        },
        "id": "a6xG1S14AQKI",
        "outputId": "35f268c6-107b-446a-f721-c26f65c91332"
      },
      "execution_count": 57,
      "outputs": [
        {
          "output_type": "stream",
          "name": "stdout",
          "text": [
            "10525\n",
            "Word index length:10525\n"
          ]
        }
      ]
    },
    {
      "cell_type": "code",
      "source": [
        "print(\"Sentence :--> \\n\")\n",
        "print(training_sentences_cricket[2]+\"\\n\")\n",
        "print(\"Sentence Tokenized and Converted into Sequence :--> \\n\")\n",
        "print(str(sequences[2])+\"\\n\")\n",
        "print(\"After Padding the Sequence with padding length 100 :--> \\n\")\n",
        "print(padded[2])"
      ],
      "metadata": {
        "id": "X_NQ8Z79AW_8",
        "colab": {
          "base_uri": "https://localhost:8080/"
        },
        "outputId": "1348ce91-0ea8-4ed8-b486-9188b167fbae"
      },
      "execution_count": 58,
      "outputs": [
        {
          "output_type": "stream",
          "name": "stdout",
          "text": [
            "Sentence :--> \n",
            "\n",
            "এই বাচ্চা বাচ্চা ছেলেগুলো এত বড় হয়ে গেল কবে  \n",
            "আর ওই মেয়েগুলো তো ওদের চেয়ে বয়সে বড় হবে মনে হয় \n",
            "\n",
            "Sentence Tokenized and Converted into Sequence :--> \n",
            "\n",
            "[4, 430, 430, 2721, 44, 157, 46, 164, 113, 5, 410, 4312, 31, 550, 327, 1216, 157, 22, 24, 30]\n",
            "\n",
            "After Padding the Sequence with padding length 100 :--> \n",
            "\n",
            "[   0    0    0    0    0    0    0    0    0    0    0    0    0    0\n",
            "    0    0    0    0    0    0    0    0    0    0    0    0    0    0\n",
            "    0    0    0    0    0    0    0    0    0    0    0    0    0    0\n",
            "    0    0    0    0    0    0    0    0    0    0    0    0    0    0\n",
            "    0    0    0    0    0    0    0    0    0    0    0    0    0    0\n",
            "    0    0    0    0    0    0    0    0    0    0    4  430  430 2721\n",
            "   44  157   46  164  113    5  410 4312   31  550  327 1216  157   22\n",
            "   24   30]\n"
          ]
        }
      ]
    },
    {
      "cell_type": "code",
      "source": [
        "print(\"Padded shape(training): \"+str(padded.shape))\n",
        "print(\"Padded shape(testing): \"+str(testing_padded.shape))"
      ],
      "metadata": {
        "colab": {
          "base_uri": "https://localhost:8080/"
        },
        "id": "c0RoMnYpAg-p",
        "outputId": "6699500c-8ae5-417f-8e47-080f63007ffb"
      },
      "execution_count": 59,
      "outputs": [
        {
          "output_type": "stream",
          "name": "stdout",
          "text": [
            "Padded shape(training): (5360, 100)\n",
            "Padded shape(testing): (1340, 100)\n"
          ]
        }
      ]
    },
    {
      "cell_type": "code",
      "source": [
        "def precision(y_true, y_pred):\n",
        "    true_positives = K.sum(K.round(K.clip(y_true * y_pred, 0, 1)))\n",
        "    predicted_positives = K.sum(K.round(K.clip(y_pred, 0, 1)))\n",
        "    precision = true_positives / (predicted_positives + K.epsilon())\n",
        "    return precision\n",
        "\n",
        "def recall(y_true, y_pred):\n",
        "    true_positives = K.sum(K.round(K.clip(y_true * y_pred, 0, 1)))\n",
        "    possible_positives = K.sum(K.round(K.clip(y_true, 0, 1)))\n",
        "    recall = true_positives / (possible_positives + K.epsilon())\n",
        "    return recall\n",
        "\n",
        "def f1_score(y_true, y_pred):\n",
        "    pr = precision(y_true, y_pred)\n",
        "    rec = recall(y_true, y_pred)\n",
        "    f1_score = 2 * (pr * rec) / (pr + rec)\n",
        "    return f1_score"
      ],
      "metadata": {
        "id": "Zh38ThUJAkpi"
      },
      "execution_count": 60,
      "outputs": []
    },
    {
      "cell_type": "code",
      "source": [
        "# padded\n",
        "train_labels_cricket"
      ],
      "metadata": {
        "colab": {
          "base_uri": "https://localhost:8080/"
        },
        "id": "y3Uw4pSdApQ0",
        "outputId": "36b3fe9d-5416-4172-9e72-5a3b1a63cb7b"
      },
      "execution_count": 61,
      "outputs": [
        {
          "output_type": "execute_result",
          "data": {
            "text/plain": [
              "array([[0., 1., 0.],\n",
              "       [0., 0., 1.],\n",
              "       [0., 0., 1.],\n",
              "       ...,\n",
              "       [0., 1., 0.],\n",
              "       [0., 1., 0.],\n",
              "       [0., 1., 0.]], dtype=float32)"
            ]
          },
          "metadata": {},
          "execution_count": 61
        }
      ]
    },
    {
      "cell_type": "code",
      "source": [
        "# raise NotImplementedError()"
      ],
      "metadata": {
        "id": "rp5kCF9xAqKx"
      },
      "execution_count": 62,
      "outputs": []
    },
    {
      "cell_type": "code",
      "source": [
        "# from tensorflow.keras.layers import GlobalMaxPooling1D\n",
        "\n",
        "detection=Sequential()\n",
        "\n",
        "detection.add(Embedding(vocab_size, embedding_dim, input_length=max_length))\n",
        "\n",
        "#1 -convolutional layer-1\n",
        "detection.add(Conv1D(64 ,kernel_size=3))\n",
        "detection.add(BatchNormalization())\n",
        "detection.add(Activation('relu'))\n",
        "# detection.add(GlobalMaxPooling1D())\n",
        "detection.add(Dropout(0.1))\n",
        "\n",
        "#2 -convolutional layer-2\n",
        "detection.add(Conv1D(96,kernel_size=3))\n",
        "detection.add(BatchNormalization())\n",
        "detection.add(Activation('relu'))\n",
        "# detection.add(GlobalMaxPooling1D())\n",
        "# detection.add(Dropout(0.2))\n",
        "\n",
        "#2 -convolutional layer-2\n",
        "detection.add(Conv1D(128,kernel_size=3))\n",
        "detection.add(BatchNormalization())\n",
        "detection.add(Activation('relu'))\n",
        "# detection.add(GlobalMaxPooling1D())\n",
        "detection.add(Dropout(0.15))\n",
        "\n",
        "\n",
        "# #2 -convolutional layer-2\n",
        "# detection.add(Conv1D(256,kernel_size=3))\n",
        "# detection.add(BatchNormalization())\n",
        "# detection.add(Activation('relu'))\n",
        "# # detection.add(MaxPooling2D(pool_size=(2,2)))\n",
        "# # detection.add(GlobalMaxPooling1D())\n",
        "# detection.add(Dropout(0.2))\n",
        "\n",
        "# #3 -convolutional layer-3\n",
        "# detection.add(Conv1D(384,kernel_size=3))\n",
        "# detection.add(BatchNormalization())\n",
        "# detection.add(Activation('relu'))\n",
        "# # detection.add(GlobalMaxPooling1D())\n",
        "# # detection.add(MaxPooling2D(pool_size=(2,2)))\n",
        "# # detection.add(UpSampling2D(input_shape=(512, 3, 3)))\n",
        "# detection.add(Dropout(0.2))\n",
        "\n",
        "# #3 -convolutional layer-3\n",
        "# detection.add(Conv1D(512,kernel_size=3))\n",
        "# detection.add(BatchNormalization())\n",
        "# detection.add(Activation('relu'))\n",
        "# # detection.add(GlobalMaxPooling1D())\n",
        "# # detection.add(MaxPooling2D(pool_size=(2,2)))\n",
        "# # detection.add(UpSampling2D(input_shape=(512, 3, 3)))\n",
        "# detection.add(Dropout(0.3))\n",
        "\n",
        "\n",
        "# detection.add(Flatten())\n",
        "# detection.add(Dense(512))\n",
        "# detection.add(BatchNormalization())\n",
        "# detection.add(Activation('relu'))\n",
        "\n",
        "# detection.add(Flatten())\n",
        "# detection.add(Dense(256))\n",
        "# detection.add(BatchNormalization())\n",
        "# detection.add(Activation('relu'))\n",
        "\n",
        "detection.add(Flatten())\n",
        "detection.add(Dense(128))\n",
        "detection.add(BatchNormalization())\n",
        "detection.add(Activation('relu'))\n",
        "\n",
        "detection.add(Flatten())\n",
        "detection.add(Dense(64))\n",
        "detection.add(BatchNormalization())\n",
        "detection.add(Activation('relu'))\n",
        "\n",
        "detection.add(Dense(3,activation='sigmoid'))\n",
        "optimum=Adam(lr=0.00001)\n",
        "detection.summary()\n",
        "detection.compile(optimizer=optimum,loss='binary_crossentropy',metrics=['accuracy', precision, recall])"
      ],
      "metadata": {
        "colab": {
          "base_uri": "https://localhost:8080/"
        },
        "id": "T0-QycdJA0TN",
        "outputId": "4357aeb1-ddbf-444b-9b8d-dee278bc1597"
      },
      "execution_count": 63,
      "outputs": [
        {
          "output_type": "stream",
          "name": "stdout",
          "text": [
            "Model: \"sequential_1\"\n",
            "_________________________________________________________________\n",
            " Layer (type)                Output Shape              Param #   \n",
            "=================================================================\n",
            " embedding_1 (Embedding)     (None, 100, 100)          536100    \n",
            "                                                                 \n",
            " conv1d_3 (Conv1D)           (None, 98, 64)            19264     \n",
            "                                                                 \n",
            " batch_normalization_5 (Batc  (None, 98, 64)           256       \n",
            " hNormalization)                                                 \n",
            "                                                                 \n",
            " activation_5 (Activation)   (None, 98, 64)            0         \n",
            "                                                                 \n",
            " dropout_2 (Dropout)         (None, 98, 64)            0         \n",
            "                                                                 \n",
            " conv1d_4 (Conv1D)           (None, 96, 96)            18528     \n",
            "                                                                 \n",
            " batch_normalization_6 (Batc  (None, 96, 96)           384       \n",
            " hNormalization)                                                 \n",
            "                                                                 \n",
            " activation_6 (Activation)   (None, 96, 96)            0         \n",
            "                                                                 \n",
            " conv1d_5 (Conv1D)           (None, 94, 128)           36992     \n",
            "                                                                 \n",
            " batch_normalization_7 (Batc  (None, 94, 128)          512       \n",
            " hNormalization)                                                 \n",
            "                                                                 \n",
            " activation_7 (Activation)   (None, 94, 128)           0         \n",
            "                                                                 \n",
            " dropout_3 (Dropout)         (None, 94, 128)           0         \n",
            "                                                                 \n",
            " flatten_2 (Flatten)         (None, 12032)             0         \n",
            "                                                                 \n",
            " dense_3 (Dense)             (None, 128)               1540224   \n",
            "                                                                 \n",
            " batch_normalization_8 (Batc  (None, 128)              512       \n",
            " hNormalization)                                                 \n",
            "                                                                 \n",
            " activation_8 (Activation)   (None, 128)               0         \n",
            "                                                                 \n",
            " flatten_3 (Flatten)         (None, 128)               0         \n",
            "                                                                 \n",
            " dense_4 (Dense)             (None, 64)                8256      \n",
            "                                                                 \n",
            " batch_normalization_9 (Batc  (None, 64)               256       \n",
            " hNormalization)                                                 \n",
            "                                                                 \n",
            " activation_9 (Activation)   (None, 64)                0         \n",
            "                                                                 \n",
            " dense_5 (Dense)             (None, 3)                 195       \n",
            "                                                                 \n",
            "=================================================================\n",
            "Total params: 2,161,479\n",
            "Trainable params: 2,160,519\n",
            "Non-trainable params: 960\n",
            "_________________________________________________________________\n"
          ]
        },
        {
          "output_type": "stream",
          "name": "stderr",
          "text": [
            "/usr/local/lib/python3.8/dist-packages/keras/optimizers/optimizer_v2/adam.py:110: UserWarning: The `lr` argument is deprecated, use `learning_rate` instead.\n",
            "  super(Adam, self).__init__(name, **kwargs)\n"
          ]
        }
      ]
    },
    {
      "cell_type": "code",
      "source": [
        "from sklearn.model_selection import train_test_split\n",
        "\n",
        "# Split the data\n",
        "x_train, x_valid, y_train, y_valid = train_test_split(padded, train_labels_cricket, test_size=0.15, shuffle= True) #data, label"
      ],
      "metadata": {
        "id": "SizmFIFiA59Q"
      },
      "execution_count": 64,
      "outputs": []
    },
    {
      "cell_type": "code",
      "source": [
        "model_cricket = detection.fit(x_train, y_train,shuffle=True,epochs=30,batch_size=4,validation_data=(x_valid,y_valid))#,use_multiprocessing=True, workers=8)\n",
        "# model_cricket=detection.fit(padded,train_labels_cricket,shuffle=True,epochs=30,batch_size=16,validation_data=(testing_padded,test_labels_cricket),use_mult"
      ],
      "metadata": {
        "colab": {
          "base_uri": "https://localhost:8080/"
        },
        "id": "x2P4BtrrA9TI",
        "outputId": "c29803b4-3b49-4fe0-9bc3-d1dee7481b21"
      },
      "execution_count": 65,
      "outputs": [
        {
          "output_type": "stream",
          "name": "stdout",
          "text": [
            "Epoch 1/30\n",
            "1139/1139 [==============================] - 64s 54ms/step - loss: 0.9141 - accuracy: 0.3036 - precision: 0.3249 - recall: 0.7766 - val_loss: 0.8759 - val_accuracy: 0.3047 - val_precision: 0.3272 - val_recall: 0.6928\n",
            "Epoch 2/30\n",
            "1139/1139 [==============================] - 42s 37ms/step - loss: 0.8246 - accuracy: 0.3674 - precision: 0.3420 - recall: 0.7309 - val_loss: 0.8248 - val_accuracy: 0.3918 - val_precision: 0.3436 - val_recall: 0.7027\n",
            "Epoch 3/30\n",
            "1139/1139 [==============================] - 43s 38ms/step - loss: 0.7607 - accuracy: 0.4010 - precision: 0.3599 - recall: 0.6743 - val_loss: 0.7440 - val_accuracy: 0.4080 - val_precision: 0.3760 - val_recall: 0.6269\n",
            "Epoch 4/30\n",
            "1139/1139 [==============================] - 43s 38ms/step - loss: 0.7064 - accuracy: 0.4489 - precision: 0.3927 - recall: 0.6242 - val_loss: 0.7055 - val_accuracy: 0.4490 - val_precision: 0.4121 - val_recall: 0.5970\n",
            "Epoch 5/30\n",
            "1139/1139 [==============================] - 43s 38ms/step - loss: 0.6655 - accuracy: 0.4805 - precision: 0.4308 - recall: 0.5742 - val_loss: 0.6939 - val_accuracy: 0.4652 - val_precision: 0.4333 - val_recall: 0.5572\n",
            "Epoch 6/30\n",
            "1139/1139 [==============================] - 44s 39ms/step - loss: 0.6369 - accuracy: 0.5077 - precision: 0.4725 - recall: 0.5320 - val_loss: 0.6705 - val_accuracy: 0.4764 - val_precision: 0.4606 - val_recall: 0.5435\n",
            "Epoch 7/30\n",
            "1139/1139 [==============================] - 43s 38ms/step - loss: 0.6125 - accuracy: 0.5329 - precision: 0.5237 - recall: 0.5160 - val_loss: 0.6387 - val_accuracy: 0.4950 - val_precision: 0.4954 - val_recall: 0.4826\n",
            "Epoch 8/30\n",
            "1139/1139 [==============================] - 43s 38ms/step - loss: 0.5945 - accuracy: 0.5454 - precision: 0.5552 - recall: 0.4923 - val_loss: 0.6191 - val_accuracy: 0.5050 - val_precision: 0.5122 - val_recall: 0.4378\n",
            "Epoch 9/30\n",
            "1139/1139 [==============================] - 43s 38ms/step - loss: 0.5819 - accuracy: 0.5571 - precision: 0.5686 - recall: 0.4791 - val_loss: 0.6157 - val_accuracy: 0.5137 - val_precision: 0.5067 - val_recall: 0.4639\n",
            "Epoch 10/30\n",
            "1139/1139 [==============================] - 45s 40ms/step - loss: 0.5771 - accuracy: 0.5538 - precision: 0.5758 - recall: 0.4677 - val_loss: 0.6000 - val_accuracy: 0.5224 - val_precision: 0.5312 - val_recall: 0.4428\n",
            "Epoch 11/30\n",
            "1139/1139 [==============================] - 43s 38ms/step - loss: 0.5638 - accuracy: 0.5825 - precision: 0.6005 - recall: 0.4728 - val_loss: 0.5921 - val_accuracy: 0.5361 - val_precision: 0.5415 - val_recall: 0.4453\n",
            "Epoch 12/30\n",
            "1139/1139 [==============================] - 44s 38ms/step - loss: 0.5608 - accuracy: 0.5827 - precision: 0.6126 - recall: 0.4660 - val_loss: 0.5860 - val_accuracy: 0.5398 - val_precision: 0.5432 - val_recall: 0.4266\n",
            "Epoch 13/30\n",
            "1139/1139 [==============================] - 43s 38ms/step - loss: 0.5515 - accuracy: 0.5898 - precision: 0.6184 - recall: 0.4745 - val_loss: 0.5794 - val_accuracy: 0.5435 - val_precision: 0.5636 - val_recall: 0.4527\n",
            "Epoch 14/30\n",
            "1139/1139 [==============================] - 43s 38ms/step - loss: 0.5422 - accuracy: 0.5948 - precision: 0.6313 - recall: 0.4805 - val_loss: 0.5797 - val_accuracy: 0.5498 - val_precision: 0.5742 - val_recall: 0.4428\n",
            "Epoch 15/30\n",
            "1139/1139 [==============================] - 46s 40ms/step - loss: 0.5371 - accuracy: 0.5920 - precision: 0.6408 - recall: 0.4829 - val_loss: 0.5718 - val_accuracy: 0.5597 - val_precision: 0.5671 - val_recall: 0.4565\n",
            "Epoch 16/30\n",
            "1139/1139 [==============================] - 44s 38ms/step - loss: 0.5361 - accuracy: 0.6010 - precision: 0.6385 - recall: 0.4809 - val_loss: 0.5682 - val_accuracy: 0.5634 - val_precision: 0.5823 - val_recall: 0.4440\n",
            "Epoch 17/30\n",
            "1139/1139 [==============================] - 44s 39ms/step - loss: 0.5272 - accuracy: 0.6080 - precision: 0.6522 - recall: 0.4963 - val_loss: 0.5634 - val_accuracy: 0.5721 - val_precision: 0.5965 - val_recall: 0.4378\n",
            "Epoch 18/30\n",
            "1139/1139 [==============================] - 44s 39ms/step - loss: 0.5158 - accuracy: 0.6198 - precision: 0.6790 - recall: 0.5020 - val_loss: 0.5621 - val_accuracy: 0.5734 - val_precision: 0.6192 - val_recall: 0.4341\n",
            "Epoch 19/30\n",
            "1139/1139 [==============================] - 51s 45ms/step - loss: 0.5086 - accuracy: 0.6345 - precision: 0.6835 - recall: 0.5228 - val_loss: 0.5500 - val_accuracy: 0.5672 - val_precision: 0.6389 - val_recall: 0.4677\n",
            "Epoch 20/30\n",
            "1139/1139 [==============================] - 47s 41ms/step - loss: 0.5014 - accuracy: 0.6332 - precision: 0.6896 - recall: 0.5261 - val_loss: 0.5465 - val_accuracy: 0.5721 - val_precision: 0.6301 - val_recall: 0.4590\n",
            "Epoch 21/30\n",
            "1139/1139 [==============================] - 43s 38ms/step - loss: 0.4992 - accuracy: 0.6378 - precision: 0.6881 - recall: 0.5252 - val_loss: 0.5434 - val_accuracy: 0.5846 - val_precision: 0.6480 - val_recall: 0.4888\n",
            "Epoch 22/30\n",
            "1139/1139 [==============================] - 44s 38ms/step - loss: 0.4883 - accuracy: 0.6517 - precision: 0.7058 - recall: 0.5450 - val_loss: 0.5368 - val_accuracy: 0.6007 - val_precision: 0.6659 - val_recall: 0.4900\n",
            "Epoch 23/30\n",
            "1139/1139 [==============================] - 45s 39ms/step - loss: 0.4787 - accuracy: 0.6536 - precision: 0.7174 - recall: 0.5634 - val_loss: 0.5291 - val_accuracy: 0.6007 - val_precision: 0.6695 - val_recall: 0.4988\n",
            "Epoch 24/30\n",
            "1139/1139 [==============================] - 46s 40ms/step - loss: 0.4664 - accuracy: 0.6738 - precision: 0.7271 - recall: 0.5713 - val_loss: 0.5280 - val_accuracy: 0.6132 - val_precision: 0.6658 - val_recall: 0.5062\n",
            "Epoch 25/30\n",
            "1139/1139 [==============================] - 44s 39ms/step - loss: 0.4633 - accuracy: 0.6734 - precision: 0.7306 - recall: 0.5733 - val_loss: 0.5213 - val_accuracy: 0.6095 - val_precision: 0.6615 - val_recall: 0.5075\n",
            "Epoch 26/30\n",
            "1139/1139 [==============================] - 45s 39ms/step - loss: 0.4597 - accuracy: 0.6798 - precision: 0.7358 - recall: 0.5869 - val_loss: 0.5169 - val_accuracy: 0.6231 - val_precision: 0.6944 - val_recall: 0.5050\n",
            "Epoch 27/30\n",
            "1139/1139 [==============================] - 45s 39ms/step - loss: 0.4455 - accuracy: 0.6901 - precision: 0.7549 - recall: 0.5986 - val_loss: 0.5168 - val_accuracy: 0.6294 - val_precision: 0.6920 - val_recall: 0.5423\n",
            "Epoch 28/30\n",
            "1139/1139 [==============================] - 47s 41ms/step - loss: 0.4390 - accuracy: 0.6918 - precision: 0.7475 - recall: 0.6082 - val_loss: 0.5066 - val_accuracy: 0.6368 - val_precision: 0.6909 - val_recall: 0.5386\n",
            "Epoch 29/30\n",
            "1139/1139 [==============================] - 45s 39ms/step - loss: 0.4360 - accuracy: 0.6938 - precision: 0.7574 - recall: 0.6146 - val_loss: 0.5034 - val_accuracy: 0.6443 - val_precision: 0.6927 - val_recall: 0.5535\n",
            "Epoch 30/30\n",
            "1139/1139 [==============================] - 45s 39ms/step - loss: 0.4283 - accuracy: 0.7076 - precision: 0.7607 - recall: 0.6220 - val_loss: 0.5009 - val_accuracy: 0.6505 - val_precision: 0.6993 - val_recall: 0.5336\n"
          ]
        }
      ]
    },
    {
      "cell_type": "code",
      "source": [
        "detection.evaluate(x=testing_padded,y=test_labels_cricket,verbose=1)\n",
        "# loss: - accuracy: - recall:  - precision:"
      ],
      "metadata": {
        "colab": {
          "base_uri": "https://localhost:8080/"
        },
        "id": "G0pEbCZBA_8Z",
        "outputId": "b703d92a-7cb3-4c6c-8c20-390982194e12"
      },
      "execution_count": 66,
      "outputs": [
        {
          "output_type": "stream",
          "name": "stdout",
          "text": [
            "42/42 [==============================] - 1s 18ms/step - loss: 0.4787 - accuracy: 0.6806 - precision: 0.7224 - recall: 0.5454\n"
          ]
        },
        {
          "output_type": "execute_result",
          "data": {
            "text/plain": [
              "[0.47872287034988403,\n",
              " 0.6805970072746277,\n",
              " 0.7223626375198364,\n",
              " 0.5453869104385376]"
            ]
          },
          "metadata": {},
          "execution_count": 66
        }
      ]
    },
    {
      "cell_type": "code",
      "source": [
        "plt.plot(model_cricket.history['loss'], label='loss_train')\n",
        "plt.plot(model_cricket.history['val_loss'], label='loss_val')\n",
        "# plt.plot(mod.history['accuracy'], label='acc_train')\n",
        "# plt.plot(mod.history['val_accuracy'], label='acc_val')\n",
        "plt.legend()\n",
        "plt.title('Train Val_Loss in Proposed Neural Network')\n",
        "plt.show()\n",
        "plt.savefig('LossVal_Loss')"
      ],
      "metadata": {
        "colab": {
          "base_uri": "https://localhost:8080/",
          "height": 298
        },
        "id": "5bFtXre6uyAo",
        "outputId": "9489d8e5-acab-4fa9-a608-399ebbb03773"
      },
      "execution_count": 67,
      "outputs": [
        {
          "output_type": "display_data",
          "data": {
            "text/plain": [
              "<Figure size 432x288 with 1 Axes>"
            ],
            "image/png": "[encoded data removed]"
          },
          "metadata": {
            "needs_background": "light"
          }
        },
        {
          "output_type": "display_data",
          "data": {
            "text/plain": [
              "<Figure size 432x288 with 0 Axes>"
            ]
          },
          "metadata": {}
        }
      ]
    },
    {
      "cell_type": "code",
      "source": [
        "plt.plot(model_cricket.history['accuracy'], label='train acc')\n",
        "plt.plot(model_cricket.history['val_accuracy'], label='val acc')\n",
        "plt.legend()\n",
        "plt.title('TrainVal_Acc in Proposed Neural Network')\n",
        "plt.show()\n",
        "plt.savefig('AccVal_Acc')\n"
      ],
      "metadata": {
        "colab": {
          "base_uri": "https://localhost:8080/",
          "height": 298
        },
        "id": "P3nBEOvru4o_",
        "outputId": "587fd813-3fd3-484d-ea39-0a7ef329f682"
      },
      "execution_count": 68,
      "outputs": [
        {
          "output_type": "display_data",
          "data": {
            "text/plain": [
              "<Figure size 432x288 with 1 Axes>"
            ],
            "image/png": "[encoded data removed]"
          },
          "metadata": {
            "needs_background": "light"
          }
        },
        {
          "output_type": "display_data",
          "data": {
            "text/plain": [
              "<Figure size 432x288 with 0 Axes>"
            ]
          },
          "metadata": {}
        }
      ]
    }
  ]
}